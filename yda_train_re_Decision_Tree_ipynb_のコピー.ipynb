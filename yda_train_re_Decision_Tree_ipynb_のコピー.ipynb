{
  "cells": [
    {
      "cell_type": "markdown",
      "metadata": {
        "id": "view-in-github",
        "colab_type": "text"
      },
      "source": [
        "<a href=\"https://colab.research.google.com/github/misato-t/2506-07_prediction_Decision_tree_pub/blob/main/yda_train_re_Decision_Tree_ipynb_%E3%81%AE%E3%82%B3%E3%83%94%E3%83%BC.ipynb\" target=\"_parent\"><img src=\"https://colab.research.google.com/assets/colab-badge.svg\" alt=\"Open In Colab\"/></a>"
      ]
    },
    {
      "cell_type": "code",
      "execution_count": null,
      "metadata": {
        "id": "f1u9zTKZevvs",
        "colab": {
          "base_uri": "https://localhost:8080/"
        },
        "outputId": "70edf58c-a899-49b7-8c43-788b47ead067"
      },
      "outputs": [
        {
          "output_type": "stream",
          "name": "stdout",
          "text": [
            "Mounted at /content/drive\n"
          ]
        }
      ],
      "source": [
        "import numpy as np\n",
        "import pandas as pd\n",
        "import matplotlib.pyplot as plt\n",
        "import seaborn as sns\n",
        "import json\n",
        "\n",
        "from google.colab import drive\n",
        "drive.mount('/content/drive')\n",
        "\n",
        "# train_data2 = pd.concat(train_data2, ignore_index=True)"
      ]
    },
    {
      "cell_type": "code",
      "source": [
        "train_data2 = pd.read_csv('/content/drive/MyDrive/lap_train_processed2.csv')\n",
        "test_data = pd.read_csv('/content/drive/MyDrive/yda_test_processed2.csv')"
      ],
      "metadata": {
        "id": "bScjLxJQo8kt",
        "colab": {
          "base_uri": "https://localhost:8080/"
        },
        "outputId": "366df882-e490-4d42-d1c3-f81ac718716d"
      },
      "execution_count": null,
      "outputs": [
        {
          "output_type": "stream",
          "name": "stderr",
          "text": [
            "/tmp/ipython-input-2-1540085078.py:1: DtypeWarning: Columns (14) have mixed types. Specify dtype option on import or set low_memory=False.\n",
            "  train_data2 = pd.read_csv('/content/drive/MyDrive/lap_train_processed2.csv')\n"
          ]
        }
      ]
    },
    {
      "cell_type": "code",
      "execution_count": null,
      "metadata": {
        "collapsed": true,
        "id": "8QgazrTElT3s",
        "colab": {
          "base_uri": "https://localhost:8080/",
          "height": 273
        },
        "outputId": "4846de4d-6d77-44ab-e45c-7716637ca3f4"
      },
      "outputs": [
        {
          "output_type": "execute_result",
          "data": {
            "text/plain": [
              "   Unnamed: 0                                          filename  \\\n",
              "0           0    162_82cbc39775653169_7bf00007900100000001f.png   \n",
              "1           1  26283_e3d594b4628bc5e1_0ff00000e00200001d01f.png   \n",
              "2           2   3307_9425785a83e89e6f_01e00007e000000000000.png   \n",
              "3           3   2687_842567be9d62923d_19f0061df00000001c003.png   \n",
              "4           4   2686_b77640892f62916f_7dc7830000003c700000e.png   \n",
              "\n",
              "   delivery_days                                      advertiser_id  \\\n",
              "0            110  b'\\xb8\\xb7-4\\x81w\\x1e\\xf1\\xa4\\x8d\\xa1\\x9c\\xdcm...   \n",
              "1             53  b':b\\xc1\\x92q\\xf2\\x89\\xa8\\x91\\xb0K\\xa5\\xe5P+\\t...   \n",
              "2             43  b\"\\\\87\\x17F\\xa3\\xbe5\\xb3\\x94<\\xc2\\xe2\\x1a75\\x8...   \n",
              "3             79  b'\\xb8\\xb7-4\\x81w\\x1e\\xf1\\xa4\\x8d\\xa1\\x9c\\xdcm...   \n",
              "4             77  b':b\\xc1\\x92q\\xf2\\x89\\xa8\\x91\\xb0K\\xa5\\xe5P+\\t...   \n",
              "\n",
              "   campaign_id  adgroup_id       ad_id   cumu_cost  cumu_impressions  \\\n",
              "0     30691793   435801379  1290734797  175270.848           4377282   \n",
              "1     30691745   435801144  1290719967    7876.967            308860   \n",
              "2     30690164   435786706  1290491136  537025.051           1338978   \n",
              "3     30693064   435864391  1290996520  284899.879           3714531   \n",
              "4     30693087   435877436  1290997356   20257.946            902517   \n",
              "\n",
              "   cumu_clicks  ...  Month_name Day_of_week Week Year_sin Year_cos Month_sin  \\\n",
              "0          933  ...    February      Monday    5      0.0      1.0  0.866025   \n",
              "1           88  ...    February      Monday    5      0.0      1.0  0.866025   \n",
              "2         1242  ...    February      Monday    5      0.0      1.0  0.866025   \n",
              "3         3024  ...    February      Monday    5      0.0      1.0  0.866025   \n",
              "4          258  ...    February      Monday    5      0.0      1.0  0.866025   \n",
              "\n",
              "  Month_cos   Day_sin  Day_cos  Group  \n",
              "0       0.5  0.201299  0.97953     56  \n",
              "1       0.5  0.201299  0.97953     56  \n",
              "2       0.5  0.201299  0.97953     56  \n",
              "3       0.5  0.201299  0.97953     56  \n",
              "4       0.5  0.201299  0.97953     56  \n",
              "\n",
              "[5 rows x 31 columns]"
            ],
            "text/html": [
              "\n",
              "  <div id=\"df-44560664-111d-4bfa-ac07-fec708300103\" class=\"colab-df-container\">\n",
              "    <div>\n",
              "<style scoped>\n",
              "    .dataframe tbody tr th:only-of-type {\n",
              "        vertical-align: middle;\n",
              "    }\n",
              "\n",
              "    .dataframe tbody tr th {\n",
              "        vertical-align: top;\n",
              "    }\n",
              "\n",
              "    .dataframe thead th {\n",
              "        text-align: right;\n",
              "    }\n",
              "</style>\n",
              "<table border=\"1\" class=\"dataframe\">\n",
              "  <thead>\n",
              "    <tr style=\"text-align: right;\">\n",
              "      <th></th>\n",
              "      <th>Unnamed: 0</th>\n",
              "      <th>filename</th>\n",
              "      <th>delivery_days</th>\n",
              "      <th>advertiser_id</th>\n",
              "      <th>campaign_id</th>\n",
              "      <th>adgroup_id</th>\n",
              "      <th>ad_id</th>\n",
              "      <th>cumu_cost</th>\n",
              "      <th>cumu_impressions</th>\n",
              "      <th>cumu_clicks</th>\n",
              "      <th>...</th>\n",
              "      <th>Month_name</th>\n",
              "      <th>Day_of_week</th>\n",
              "      <th>Week</th>\n",
              "      <th>Year_sin</th>\n",
              "      <th>Year_cos</th>\n",
              "      <th>Month_sin</th>\n",
              "      <th>Month_cos</th>\n",
              "      <th>Day_sin</th>\n",
              "      <th>Day_cos</th>\n",
              "      <th>Group</th>\n",
              "    </tr>\n",
              "  </thead>\n",
              "  <tbody>\n",
              "    <tr>\n",
              "      <th>0</th>\n",
              "      <td>0</td>\n",
              "      <td>162_82cbc39775653169_7bf00007900100000001f.png</td>\n",
              "      <td>110</td>\n",
              "      <td>b'\\xb8\\xb7-4\\x81w\\x1e\\xf1\\xa4\\x8d\\xa1\\x9c\\xdcm...</td>\n",
              "      <td>30691793</td>\n",
              "      <td>435801379</td>\n",
              "      <td>1290734797</td>\n",
              "      <td>175270.848</td>\n",
              "      <td>4377282</td>\n",
              "      <td>933</td>\n",
              "      <td>...</td>\n",
              "      <td>February</td>\n",
              "      <td>Monday</td>\n",
              "      <td>5</td>\n",
              "      <td>0.0</td>\n",
              "      <td>1.0</td>\n",
              "      <td>0.866025</td>\n",
              "      <td>0.5</td>\n",
              "      <td>0.201299</td>\n",
              "      <td>0.97953</td>\n",
              "      <td>56</td>\n",
              "    </tr>\n",
              "    <tr>\n",
              "      <th>1</th>\n",
              "      <td>1</td>\n",
              "      <td>26283_e3d594b4628bc5e1_0ff00000e00200001d01f.png</td>\n",
              "      <td>53</td>\n",
              "      <td>b':b\\xc1\\x92q\\xf2\\x89\\xa8\\x91\\xb0K\\xa5\\xe5P+\\t...</td>\n",
              "      <td>30691745</td>\n",
              "      <td>435801144</td>\n",
              "      <td>1290719967</td>\n",
              "      <td>7876.967</td>\n",
              "      <td>308860</td>\n",
              "      <td>88</td>\n",
              "      <td>...</td>\n",
              "      <td>February</td>\n",
              "      <td>Monday</td>\n",
              "      <td>5</td>\n",
              "      <td>0.0</td>\n",
              "      <td>1.0</td>\n",
              "      <td>0.866025</td>\n",
              "      <td>0.5</td>\n",
              "      <td>0.201299</td>\n",
              "      <td>0.97953</td>\n",
              "      <td>56</td>\n",
              "    </tr>\n",
              "    <tr>\n",
              "      <th>2</th>\n",
              "      <td>2</td>\n",
              "      <td>3307_9425785a83e89e6f_01e00007e000000000000.png</td>\n",
              "      <td>43</td>\n",
              "      <td>b\"\\\\87\\x17F\\xa3\\xbe5\\xb3\\x94&lt;\\xc2\\xe2\\x1a75\\x8...</td>\n",
              "      <td>30690164</td>\n",
              "      <td>435786706</td>\n",
              "      <td>1290491136</td>\n",
              "      <td>537025.051</td>\n",
              "      <td>1338978</td>\n",
              "      <td>1242</td>\n",
              "      <td>...</td>\n",
              "      <td>February</td>\n",
              "      <td>Monday</td>\n",
              "      <td>5</td>\n",
              "      <td>0.0</td>\n",
              "      <td>1.0</td>\n",
              "      <td>0.866025</td>\n",
              "      <td>0.5</td>\n",
              "      <td>0.201299</td>\n",
              "      <td>0.97953</td>\n",
              "      <td>56</td>\n",
              "    </tr>\n",
              "    <tr>\n",
              "      <th>3</th>\n",
              "      <td>3</td>\n",
              "      <td>2687_842567be9d62923d_19f0061df00000001c003.png</td>\n",
              "      <td>79</td>\n",
              "      <td>b'\\xb8\\xb7-4\\x81w\\x1e\\xf1\\xa4\\x8d\\xa1\\x9c\\xdcm...</td>\n",
              "      <td>30693064</td>\n",
              "      <td>435864391</td>\n",
              "      <td>1290996520</td>\n",
              "      <td>284899.879</td>\n",
              "      <td>3714531</td>\n",
              "      <td>3024</td>\n",
              "      <td>...</td>\n",
              "      <td>February</td>\n",
              "      <td>Monday</td>\n",
              "      <td>5</td>\n",
              "      <td>0.0</td>\n",
              "      <td>1.0</td>\n",
              "      <td>0.866025</td>\n",
              "      <td>0.5</td>\n",
              "      <td>0.201299</td>\n",
              "      <td>0.97953</td>\n",
              "      <td>56</td>\n",
              "    </tr>\n",
              "    <tr>\n",
              "      <th>4</th>\n",
              "      <td>4</td>\n",
              "      <td>2686_b77640892f62916f_7dc7830000003c700000e.png</td>\n",
              "      <td>77</td>\n",
              "      <td>b':b\\xc1\\x92q\\xf2\\x89\\xa8\\x91\\xb0K\\xa5\\xe5P+\\t...</td>\n",
              "      <td>30693087</td>\n",
              "      <td>435877436</td>\n",
              "      <td>1290997356</td>\n",
              "      <td>20257.946</td>\n",
              "      <td>902517</td>\n",
              "      <td>258</td>\n",
              "      <td>...</td>\n",
              "      <td>February</td>\n",
              "      <td>Monday</td>\n",
              "      <td>5</td>\n",
              "      <td>0.0</td>\n",
              "      <td>1.0</td>\n",
              "      <td>0.866025</td>\n",
              "      <td>0.5</td>\n",
              "      <td>0.201299</td>\n",
              "      <td>0.97953</td>\n",
              "      <td>56</td>\n",
              "    </tr>\n",
              "  </tbody>\n",
              "</table>\n",
              "<p>5 rows × 31 columns</p>\n",
              "</div>\n",
              "    <div class=\"colab-df-buttons\">\n",
              "\n",
              "  <div class=\"colab-df-container\">\n",
              "    <button class=\"colab-df-convert\" onclick=\"convertToInteractive('df-44560664-111d-4bfa-ac07-fec708300103')\"\n",
              "            title=\"Convert this dataframe to an interactive table.\"\n",
              "            style=\"display:none;\">\n",
              "\n",
              "  <svg xmlns=\"http://www.w3.org/2000/svg\" height=\"24px\" viewBox=\"0 -960 960 960\">\n",
              "    <path d=\"M120-120v-720h720v720H120Zm60-500h600v-160H180v160Zm220 220h160v-160H400v160Zm0 220h160v-160H400v160ZM180-400h160v-160H180v160Zm440 0h160v-160H620v160ZM180-180h160v-160H180v160Zm440 0h160v-160H620v160Z\"/>\n",
              "  </svg>\n",
              "    </button>\n",
              "\n",
              "  <style>\n",
              "    .colab-df-container {\n",
              "      display:flex;\n",
              "      gap: 12px;\n",
              "    }\n",
              "\n",
              "    .colab-df-convert {\n",
              "      background-color: #E8F0FE;\n",
              "      border: none;\n",
              "      border-radius: 50%;\n",
              "      cursor: pointer;\n",
              "      display: none;\n",
              "      fill: #1967D2;\n",
              "      height: 32px;\n",
              "      padding: 0 0 0 0;\n",
              "      width: 32px;\n",
              "    }\n",
              "\n",
              "    .colab-df-convert:hover {\n",
              "      background-color: #E2EBFA;\n",
              "      box-shadow: 0px 1px 2px rgba(60, 64, 67, 0.3), 0px 1px 3px 1px rgba(60, 64, 67, 0.15);\n",
              "      fill: #174EA6;\n",
              "    }\n",
              "\n",
              "    .colab-df-buttons div {\n",
              "      margin-bottom: 4px;\n",
              "    }\n",
              "\n",
              "    [theme=dark] .colab-df-convert {\n",
              "      background-color: #3B4455;\n",
              "      fill: #D2E3FC;\n",
              "    }\n",
              "\n",
              "    [theme=dark] .colab-df-convert:hover {\n",
              "      background-color: #434B5C;\n",
              "      box-shadow: 0px 1px 3px 1px rgba(0, 0, 0, 0.15);\n",
              "      filter: drop-shadow(0px 1px 2px rgba(0, 0, 0, 0.3));\n",
              "      fill: #FFFFFF;\n",
              "    }\n",
              "  </style>\n",
              "\n",
              "    <script>\n",
              "      const buttonEl =\n",
              "        document.querySelector('#df-44560664-111d-4bfa-ac07-fec708300103 button.colab-df-convert');\n",
              "      buttonEl.style.display =\n",
              "        google.colab.kernel.accessAllowed ? 'block' : 'none';\n",
              "\n",
              "      async function convertToInteractive(key) {\n",
              "        const element = document.querySelector('#df-44560664-111d-4bfa-ac07-fec708300103');\n",
              "        const dataTable =\n",
              "          await google.colab.kernel.invokeFunction('convertToInteractive',\n",
              "                                                    [key], {});\n",
              "        if (!dataTable) return;\n",
              "\n",
              "        const docLinkHtml = 'Like what you see? Visit the ' +\n",
              "          '<a target=\"_blank\" href=https://colab.research.google.com/notebooks/data_table.ipynb>data table notebook</a>'\n",
              "          + ' to learn more about interactive tables.';\n",
              "        element.innerHTML = '';\n",
              "        dataTable['output_type'] = 'display_data';\n",
              "        await google.colab.output.renderOutput(dataTable, element);\n",
              "        const docLink = document.createElement('div');\n",
              "        docLink.innerHTML = docLinkHtml;\n",
              "        element.appendChild(docLink);\n",
              "      }\n",
              "    </script>\n",
              "  </div>\n",
              "\n",
              "\n",
              "    <div id=\"df-ff68a08d-6e0f-4052-9589-219200653468\">\n",
              "      <button class=\"colab-df-quickchart\" onclick=\"quickchart('df-ff68a08d-6e0f-4052-9589-219200653468')\"\n",
              "                title=\"Suggest charts\"\n",
              "                style=\"display:none;\">\n",
              "\n",
              "<svg xmlns=\"http://www.w3.org/2000/svg\" height=\"24px\"viewBox=\"0 0 24 24\"\n",
              "     width=\"24px\">\n",
              "    <g>\n",
              "        <path d=\"M19 3H5c-1.1 0-2 .9-2 2v14c0 1.1.9 2 2 2h14c1.1 0 2-.9 2-2V5c0-1.1-.9-2-2-2zM9 17H7v-7h2v7zm4 0h-2V7h2v10zm4 0h-2v-4h2v4z\"/>\n",
              "    </g>\n",
              "</svg>\n",
              "      </button>\n",
              "\n",
              "<style>\n",
              "  .colab-df-quickchart {\n",
              "      --bg-color: #E8F0FE;\n",
              "      --fill-color: #1967D2;\n",
              "      --hover-bg-color: #E2EBFA;\n",
              "      --hover-fill-color: #174EA6;\n",
              "      --disabled-fill-color: #AAA;\n",
              "      --disabled-bg-color: #DDD;\n",
              "  }\n",
              "\n",
              "  [theme=dark] .colab-df-quickchart {\n",
              "      --bg-color: #3B4455;\n",
              "      --fill-color: #D2E3FC;\n",
              "      --hover-bg-color: #434B5C;\n",
              "      --hover-fill-color: #FFFFFF;\n",
              "      --disabled-bg-color: #3B4455;\n",
              "      --disabled-fill-color: #666;\n",
              "  }\n",
              "\n",
              "  .colab-df-quickchart {\n",
              "    background-color: var(--bg-color);\n",
              "    border: none;\n",
              "    border-radius: 50%;\n",
              "    cursor: pointer;\n",
              "    display: none;\n",
              "    fill: var(--fill-color);\n",
              "    height: 32px;\n",
              "    padding: 0;\n",
              "    width: 32px;\n",
              "  }\n",
              "\n",
              "  .colab-df-quickchart:hover {\n",
              "    background-color: var(--hover-bg-color);\n",
              "    box-shadow: 0 1px 2px rgba(60, 64, 67, 0.3), 0 1px 3px 1px rgba(60, 64, 67, 0.15);\n",
              "    fill: var(--button-hover-fill-color);\n",
              "  }\n",
              "\n",
              "  .colab-df-quickchart-complete:disabled,\n",
              "  .colab-df-quickchart-complete:disabled:hover {\n",
              "    background-color: var(--disabled-bg-color);\n",
              "    fill: var(--disabled-fill-color);\n",
              "    box-shadow: none;\n",
              "  }\n",
              "\n",
              "  .colab-df-spinner {\n",
              "    border: 2px solid var(--fill-color);\n",
              "    border-color: transparent;\n",
              "    border-bottom-color: var(--fill-color);\n",
              "    animation:\n",
              "      spin 1s steps(1) infinite;\n",
              "  }\n",
              "\n",
              "  @keyframes spin {\n",
              "    0% {\n",
              "      border-color: transparent;\n",
              "      border-bottom-color: var(--fill-color);\n",
              "      border-left-color: var(--fill-color);\n",
              "    }\n",
              "    20% {\n",
              "      border-color: transparent;\n",
              "      border-left-color: var(--fill-color);\n",
              "      border-top-color: var(--fill-color);\n",
              "    }\n",
              "    30% {\n",
              "      border-color: transparent;\n",
              "      border-left-color: var(--fill-color);\n",
              "      border-top-color: var(--fill-color);\n",
              "      border-right-color: var(--fill-color);\n",
              "    }\n",
              "    40% {\n",
              "      border-color: transparent;\n",
              "      border-right-color: var(--fill-color);\n",
              "      border-top-color: var(--fill-color);\n",
              "    }\n",
              "    60% {\n",
              "      border-color: transparent;\n",
              "      border-right-color: var(--fill-color);\n",
              "    }\n",
              "    80% {\n",
              "      border-color: transparent;\n",
              "      border-right-color: var(--fill-color);\n",
              "      border-bottom-color: var(--fill-color);\n",
              "    }\n",
              "    90% {\n",
              "      border-color: transparent;\n",
              "      border-bottom-color: var(--fill-color);\n",
              "    }\n",
              "  }\n",
              "</style>\n",
              "\n",
              "      <script>\n",
              "        async function quickchart(key) {\n",
              "          const quickchartButtonEl =\n",
              "            document.querySelector('#' + key + ' button');\n",
              "          quickchartButtonEl.disabled = true;  // To prevent multiple clicks.\n",
              "          quickchartButtonEl.classList.add('colab-df-spinner');\n",
              "          try {\n",
              "            const charts = await google.colab.kernel.invokeFunction(\n",
              "                'suggestCharts', [key], {});\n",
              "          } catch (error) {\n",
              "            console.error('Error during call to suggestCharts:', error);\n",
              "          }\n",
              "          quickchartButtonEl.classList.remove('colab-df-spinner');\n",
              "          quickchartButtonEl.classList.add('colab-df-quickchart-complete');\n",
              "        }\n",
              "        (() => {\n",
              "          let quickchartButtonEl =\n",
              "            document.querySelector('#df-ff68a08d-6e0f-4052-9589-219200653468 button');\n",
              "          quickchartButtonEl.style.display =\n",
              "            google.colab.kernel.accessAllowed ? 'block' : 'none';\n",
              "        })();\n",
              "      </script>\n",
              "    </div>\n",
              "\n",
              "    </div>\n",
              "  </div>\n"
            ],
            "application/vnd.google.colaboratory.intrinsic+json": {
              "type": "dataframe",
              "variable_name": "train_data2"
            }
          },
          "metadata": {},
          "execution_count": 3
        }
      ],
      "source": [
        "train_data2.head()"
      ]
    },
    {
      "cell_type": "code",
      "execution_count": null,
      "metadata": {
        "collapsed": true,
        "id": "xjI4ngjh8Bbg",
        "colab": {
          "base_uri": "https://localhost:8080/",
          "height": 429
        },
        "outputId": "da1a6c39-f05d-4b47-d8df-1a190ac0911e"
      },
      "outputs": [
        {
          "output_type": "execute_result",
          "data": {
            "text/plain": [
              "   Unnamed: 0                                          filename  \\\n",
              "0           0  39409_b1c14afc87b52c6a_39f3f804e000180000001.png   \n",
              "1           1  10940_fc87133aa845b7a2_1fe04001e00000001f00e.png   \n",
              "2           2  35840_97bf49a0c0e1f133_09e300000000fc0000006.png   \n",
              "3           3  36914_b3b9ccc403b937e0_0bfe4c00300000101c000.png   \n",
              "4           4  28871_840e3e983b3b93d5_7ff04000608618000003d.png   \n",
              "\n",
              "                                       advertiser_id  campaign_id  adgroup_id  \\\n",
              "0  b'x\\xc1\\xda\\\\\\n\\x83u8\\x0b\\xe3\\xf8\\xf7\\x83G\\xb2...     31343217   441366941   \n",
              "1  b'=\\xab\\x80\\x15|\\xcdu\\x172\\xce;S\\xb3+3E\\xf5a\\x...     30665832   435390866   \n",
              "2  b'\\x15=a\\xfc\\xcb\\xb5\\x10;\\xa2 [\\x8c\\xe1N\\x81\\x...     30144752   439602681   \n",
              "3  b'\\xb2#\\xf1\\xc2\\xf6\\x82\\xfc\\xed\\xe7L\\x10\\xb7\\x...     30939864   438067830   \n",
              "4  b'\\x8d\\xf1\\xd3w<\\xa9a\\xa5ow:R\\x0f\\xf8\"\\x82\\t\\r...     31299881   441009724   \n",
              "\n",
              "        ad_id digital_large digital_small   device campaign_goal  ...  \\\n",
              "0  1402755076  自動車・輸送用機器・用品       自動車メーカー  スマートフォン        ブランド認知  ...   \n",
              "1  1332478197  自動車・輸送用機器・用品       自動車メーカー  タブレット端末       コンバージョン  ...   \n",
              "2  1401386026        製薬・医薬品            製薬       PC       コンバージョン  ...   \n",
              "3  1403162913          業種不明          業種不明  スマートフォン       コンバージョン  ...   \n",
              "4  1397585011          業種不明          業種不明  タブレット端末       コンバージョン  ...   \n",
              "\n",
              "  Month_name Day_of_week Week  Year_sin  Year_cos  Month_sin Month_cos  \\\n",
              "0        May      Monday   18       NaN       NaN        0.5 -0.866025   \n",
              "1        May      Monday   18       NaN       NaN        0.5 -0.866025   \n",
              "2        May      Monday   18       NaN       NaN        0.5 -0.866025   \n",
              "3        May      Monday   18       NaN       NaN        0.5 -0.866025   \n",
              "4        May      Monday   18       NaN       NaN        0.5 -0.866025   \n",
              "\n",
              "    Day_sin  Day_cos  Group  \n",
              "0  0.201299  0.97953    164  \n",
              "1  0.201299  0.97953    164  \n",
              "2  0.201299  0.97953    164  \n",
              "3  0.201299  0.97953    164  \n",
              "4  0.201299  0.97953    164  \n",
              "\n",
              "[5 rows x 26 columns]"
            ],
            "text/html": [
              "\n",
              "  <div id=\"df-551ba7c9-15f4-4b88-9fe1-69aef7c8597d\" class=\"colab-df-container\">\n",
              "    <div>\n",
              "<style scoped>\n",
              "    .dataframe tbody tr th:only-of-type {\n",
              "        vertical-align: middle;\n",
              "    }\n",
              "\n",
              "    .dataframe tbody tr th {\n",
              "        vertical-align: top;\n",
              "    }\n",
              "\n",
              "    .dataframe thead th {\n",
              "        text-align: right;\n",
              "    }\n",
              "</style>\n",
              "<table border=\"1\" class=\"dataframe\">\n",
              "  <thead>\n",
              "    <tr style=\"text-align: right;\">\n",
              "      <th></th>\n",
              "      <th>Unnamed: 0</th>\n",
              "      <th>filename</th>\n",
              "      <th>advertiser_id</th>\n",
              "      <th>campaign_id</th>\n",
              "      <th>adgroup_id</th>\n",
              "      <th>ad_id</th>\n",
              "      <th>digital_large</th>\n",
              "      <th>digital_small</th>\n",
              "      <th>device</th>\n",
              "      <th>campaign_goal</th>\n",
              "      <th>...</th>\n",
              "      <th>Month_name</th>\n",
              "      <th>Day_of_week</th>\n",
              "      <th>Week</th>\n",
              "      <th>Year_sin</th>\n",
              "      <th>Year_cos</th>\n",
              "      <th>Month_sin</th>\n",
              "      <th>Month_cos</th>\n",
              "      <th>Day_sin</th>\n",
              "      <th>Day_cos</th>\n",
              "      <th>Group</th>\n",
              "    </tr>\n",
              "  </thead>\n",
              "  <tbody>\n",
              "    <tr>\n",
              "      <th>0</th>\n",
              "      <td>0</td>\n",
              "      <td>39409_b1c14afc87b52c6a_39f3f804e000180000001.png</td>\n",
              "      <td>b'x\\xc1\\xda\\\\\\n\\x83u8\\x0b\\xe3\\xf8\\xf7\\x83G\\xb2...</td>\n",
              "      <td>31343217</td>\n",
              "      <td>441366941</td>\n",
              "      <td>1402755076</td>\n",
              "      <td>自動車・輸送用機器・用品</td>\n",
              "      <td>自動車メーカー</td>\n",
              "      <td>スマートフォン</td>\n",
              "      <td>ブランド認知</td>\n",
              "      <td>...</td>\n",
              "      <td>May</td>\n",
              "      <td>Monday</td>\n",
              "      <td>18</td>\n",
              "      <td>NaN</td>\n",
              "      <td>NaN</td>\n",
              "      <td>0.5</td>\n",
              "      <td>-0.866025</td>\n",
              "      <td>0.201299</td>\n",
              "      <td>0.97953</td>\n",
              "      <td>164</td>\n",
              "    </tr>\n",
              "    <tr>\n",
              "      <th>1</th>\n",
              "      <td>1</td>\n",
              "      <td>10940_fc87133aa845b7a2_1fe04001e00000001f00e.png</td>\n",
              "      <td>b'=\\xab\\x80\\x15|\\xcdu\\x172\\xce;S\\xb3+3E\\xf5a\\x...</td>\n",
              "      <td>30665832</td>\n",
              "      <td>435390866</td>\n",
              "      <td>1332478197</td>\n",
              "      <td>自動車・輸送用機器・用品</td>\n",
              "      <td>自動車メーカー</td>\n",
              "      <td>タブレット端末</td>\n",
              "      <td>コンバージョン</td>\n",
              "      <td>...</td>\n",
              "      <td>May</td>\n",
              "      <td>Monday</td>\n",
              "      <td>18</td>\n",
              "      <td>NaN</td>\n",
              "      <td>NaN</td>\n",
              "      <td>0.5</td>\n",
              "      <td>-0.866025</td>\n",
              "      <td>0.201299</td>\n",
              "      <td>0.97953</td>\n",
              "      <td>164</td>\n",
              "    </tr>\n",
              "    <tr>\n",
              "      <th>2</th>\n",
              "      <td>2</td>\n",
              "      <td>35840_97bf49a0c0e1f133_09e300000000fc0000006.png</td>\n",
              "      <td>b'\\x15=a\\xfc\\xcb\\xb5\\x10;\\xa2 [\\x8c\\xe1N\\x81\\x...</td>\n",
              "      <td>30144752</td>\n",
              "      <td>439602681</td>\n",
              "      <td>1401386026</td>\n",
              "      <td>製薬・医薬品</td>\n",
              "      <td>製薬</td>\n",
              "      <td>PC</td>\n",
              "      <td>コンバージョン</td>\n",
              "      <td>...</td>\n",
              "      <td>May</td>\n",
              "      <td>Monday</td>\n",
              "      <td>18</td>\n",
              "      <td>NaN</td>\n",
              "      <td>NaN</td>\n",
              "      <td>0.5</td>\n",
              "      <td>-0.866025</td>\n",
              "      <td>0.201299</td>\n",
              "      <td>0.97953</td>\n",
              "      <td>164</td>\n",
              "    </tr>\n",
              "    <tr>\n",
              "      <th>3</th>\n",
              "      <td>3</td>\n",
              "      <td>36914_b3b9ccc403b937e0_0bfe4c00300000101c000.png</td>\n",
              "      <td>b'\\xb2#\\xf1\\xc2\\xf6\\x82\\xfc\\xed\\xe7L\\x10\\xb7\\x...</td>\n",
              "      <td>30939864</td>\n",
              "      <td>438067830</td>\n",
              "      <td>1403162913</td>\n",
              "      <td>業種不明</td>\n",
              "      <td>業種不明</td>\n",
              "      <td>スマートフォン</td>\n",
              "      <td>コンバージョン</td>\n",
              "      <td>...</td>\n",
              "      <td>May</td>\n",
              "      <td>Monday</td>\n",
              "      <td>18</td>\n",
              "      <td>NaN</td>\n",
              "      <td>NaN</td>\n",
              "      <td>0.5</td>\n",
              "      <td>-0.866025</td>\n",
              "      <td>0.201299</td>\n",
              "      <td>0.97953</td>\n",
              "      <td>164</td>\n",
              "    </tr>\n",
              "    <tr>\n",
              "      <th>4</th>\n",
              "      <td>4</td>\n",
              "      <td>28871_840e3e983b3b93d5_7ff04000608618000003d.png</td>\n",
              "      <td>b'\\x8d\\xf1\\xd3w&lt;\\xa9a\\xa5ow:R\\x0f\\xf8\"\\x82\\t\\r...</td>\n",
              "      <td>31299881</td>\n",
              "      <td>441009724</td>\n",
              "      <td>1397585011</td>\n",
              "      <td>業種不明</td>\n",
              "      <td>業種不明</td>\n",
              "      <td>タブレット端末</td>\n",
              "      <td>コンバージョン</td>\n",
              "      <td>...</td>\n",
              "      <td>May</td>\n",
              "      <td>Monday</td>\n",
              "      <td>18</td>\n",
              "      <td>NaN</td>\n",
              "      <td>NaN</td>\n",
              "      <td>0.5</td>\n",
              "      <td>-0.866025</td>\n",
              "      <td>0.201299</td>\n",
              "      <td>0.97953</td>\n",
              "      <td>164</td>\n",
              "    </tr>\n",
              "  </tbody>\n",
              "</table>\n",
              "<p>5 rows × 26 columns</p>\n",
              "</div>\n",
              "    <div class=\"colab-df-buttons\">\n",
              "\n",
              "  <div class=\"colab-df-container\">\n",
              "    <button class=\"colab-df-convert\" onclick=\"convertToInteractive('df-551ba7c9-15f4-4b88-9fe1-69aef7c8597d')\"\n",
              "            title=\"Convert this dataframe to an interactive table.\"\n",
              "            style=\"display:none;\">\n",
              "\n",
              "  <svg xmlns=\"http://www.w3.org/2000/svg\" height=\"24px\" viewBox=\"0 -960 960 960\">\n",
              "    <path d=\"M120-120v-720h720v720H120Zm60-500h600v-160H180v160Zm220 220h160v-160H400v160Zm0 220h160v-160H400v160ZM180-400h160v-160H180v160Zm440 0h160v-160H620v160ZM180-180h160v-160H180v160Zm440 0h160v-160H620v160Z\"/>\n",
              "  </svg>\n",
              "    </button>\n",
              "\n",
              "  <style>\n",
              "    .colab-df-container {\n",
              "      display:flex;\n",
              "      gap: 12px;\n",
              "    }\n",
              "\n",
              "    .colab-df-convert {\n",
              "      background-color: #E8F0FE;\n",
              "      border: none;\n",
              "      border-radius: 50%;\n",
              "      cursor: pointer;\n",
              "      display: none;\n",
              "      fill: #1967D2;\n",
              "      height: 32px;\n",
              "      padding: 0 0 0 0;\n",
              "      width: 32px;\n",
              "    }\n",
              "\n",
              "    .colab-df-convert:hover {\n",
              "      background-color: #E2EBFA;\n",
              "      box-shadow: 0px 1px 2px rgba(60, 64, 67, 0.3), 0px 1px 3px 1px rgba(60, 64, 67, 0.15);\n",
              "      fill: #174EA6;\n",
              "    }\n",
              "\n",
              "    .colab-df-buttons div {\n",
              "      margin-bottom: 4px;\n",
              "    }\n",
              "\n",
              "    [theme=dark] .colab-df-convert {\n",
              "      background-color: #3B4455;\n",
              "      fill: #D2E3FC;\n",
              "    }\n",
              "\n",
              "    [theme=dark] .colab-df-convert:hover {\n",
              "      background-color: #434B5C;\n",
              "      box-shadow: 0px 1px 3px 1px rgba(0, 0, 0, 0.15);\n",
              "      filter: drop-shadow(0px 1px 2px rgba(0, 0, 0, 0.3));\n",
              "      fill: #FFFFFF;\n",
              "    }\n",
              "  </style>\n",
              "\n",
              "    <script>\n",
              "      const buttonEl =\n",
              "        document.querySelector('#df-551ba7c9-15f4-4b88-9fe1-69aef7c8597d button.colab-df-convert');\n",
              "      buttonEl.style.display =\n",
              "        google.colab.kernel.accessAllowed ? 'block' : 'none';\n",
              "\n",
              "      async function convertToInteractive(key) {\n",
              "        const element = document.querySelector('#df-551ba7c9-15f4-4b88-9fe1-69aef7c8597d');\n",
              "        const dataTable =\n",
              "          await google.colab.kernel.invokeFunction('convertToInteractive',\n",
              "                                                    [key], {});\n",
              "        if (!dataTable) return;\n",
              "\n",
              "        const docLinkHtml = 'Like what you see? Visit the ' +\n",
              "          '<a target=\"_blank\" href=https://colab.research.google.com/notebooks/data_table.ipynb>data table notebook</a>'\n",
              "          + ' to learn more about interactive tables.';\n",
              "        element.innerHTML = '';\n",
              "        dataTable['output_type'] = 'display_data';\n",
              "        await google.colab.output.renderOutput(dataTable, element);\n",
              "        const docLink = document.createElement('div');\n",
              "        docLink.innerHTML = docLinkHtml;\n",
              "        element.appendChild(docLink);\n",
              "      }\n",
              "    </script>\n",
              "  </div>\n",
              "\n",
              "\n",
              "    <div id=\"df-7c13978c-8d8a-44d9-abcb-bf2187c4860d\">\n",
              "      <button class=\"colab-df-quickchart\" onclick=\"quickchart('df-7c13978c-8d8a-44d9-abcb-bf2187c4860d')\"\n",
              "                title=\"Suggest charts\"\n",
              "                style=\"display:none;\">\n",
              "\n",
              "<svg xmlns=\"http://www.w3.org/2000/svg\" height=\"24px\"viewBox=\"0 0 24 24\"\n",
              "     width=\"24px\">\n",
              "    <g>\n",
              "        <path d=\"M19 3H5c-1.1 0-2 .9-2 2v14c0 1.1.9 2 2 2h14c1.1 0 2-.9 2-2V5c0-1.1-.9-2-2-2zM9 17H7v-7h2v7zm4 0h-2V7h2v10zm4 0h-2v-4h2v4z\"/>\n",
              "    </g>\n",
              "</svg>\n",
              "      </button>\n",
              "\n",
              "<style>\n",
              "  .colab-df-quickchart {\n",
              "      --bg-color: #E8F0FE;\n",
              "      --fill-color: #1967D2;\n",
              "      --hover-bg-color: #E2EBFA;\n",
              "      --hover-fill-color: #174EA6;\n",
              "      --disabled-fill-color: #AAA;\n",
              "      --disabled-bg-color: #DDD;\n",
              "  }\n",
              "\n",
              "  [theme=dark] .colab-df-quickchart {\n",
              "      --bg-color: #3B4455;\n",
              "      --fill-color: #D2E3FC;\n",
              "      --hover-bg-color: #434B5C;\n",
              "      --hover-fill-color: #FFFFFF;\n",
              "      --disabled-bg-color: #3B4455;\n",
              "      --disabled-fill-color: #666;\n",
              "  }\n",
              "\n",
              "  .colab-df-quickchart {\n",
              "    background-color: var(--bg-color);\n",
              "    border: none;\n",
              "    border-radius: 50%;\n",
              "    cursor: pointer;\n",
              "    display: none;\n",
              "    fill: var(--fill-color);\n",
              "    height: 32px;\n",
              "    padding: 0;\n",
              "    width: 32px;\n",
              "  }\n",
              "\n",
              "  .colab-df-quickchart:hover {\n",
              "    background-color: var(--hover-bg-color);\n",
              "    box-shadow: 0 1px 2px rgba(60, 64, 67, 0.3), 0 1px 3px 1px rgba(60, 64, 67, 0.15);\n",
              "    fill: var(--button-hover-fill-color);\n",
              "  }\n",
              "\n",
              "  .colab-df-quickchart-complete:disabled,\n",
              "  .colab-df-quickchart-complete:disabled:hover {\n",
              "    background-color: var(--disabled-bg-color);\n",
              "    fill: var(--disabled-fill-color);\n",
              "    box-shadow: none;\n",
              "  }\n",
              "\n",
              "  .colab-df-spinner {\n",
              "    border: 2px solid var(--fill-color);\n",
              "    border-color: transparent;\n",
              "    border-bottom-color: var(--fill-color);\n",
              "    animation:\n",
              "      spin 1s steps(1) infinite;\n",
              "  }\n",
              "\n",
              "  @keyframes spin {\n",
              "    0% {\n",
              "      border-color: transparent;\n",
              "      border-bottom-color: var(--fill-color);\n",
              "      border-left-color: var(--fill-color);\n",
              "    }\n",
              "    20% {\n",
              "      border-color: transparent;\n",
              "      border-left-color: var(--fill-color);\n",
              "      border-top-color: var(--fill-color);\n",
              "    }\n",
              "    30% {\n",
              "      border-color: transparent;\n",
              "      border-left-color: var(--fill-color);\n",
              "      border-top-color: var(--fill-color);\n",
              "      border-right-color: var(--fill-color);\n",
              "    }\n",
              "    40% {\n",
              "      border-color: transparent;\n",
              "      border-right-color: var(--fill-color);\n",
              "      border-top-color: var(--fill-color);\n",
              "    }\n",
              "    60% {\n",
              "      border-color: transparent;\n",
              "      border-right-color: var(--fill-color);\n",
              "    }\n",
              "    80% {\n",
              "      border-color: transparent;\n",
              "      border-right-color: var(--fill-color);\n",
              "      border-bottom-color: var(--fill-color);\n",
              "    }\n",
              "    90% {\n",
              "      border-color: transparent;\n",
              "      border-bottom-color: var(--fill-color);\n",
              "    }\n",
              "  }\n",
              "</style>\n",
              "\n",
              "      <script>\n",
              "        async function quickchart(key) {\n",
              "          const quickchartButtonEl =\n",
              "            document.querySelector('#' + key + ' button');\n",
              "          quickchartButtonEl.disabled = true;  // To prevent multiple clicks.\n",
              "          quickchartButtonEl.classList.add('colab-df-spinner');\n",
              "          try {\n",
              "            const charts = await google.colab.kernel.invokeFunction(\n",
              "                'suggestCharts', [key], {});\n",
              "          } catch (error) {\n",
              "            console.error('Error during call to suggestCharts:', error);\n",
              "          }\n",
              "          quickchartButtonEl.classList.remove('colab-df-spinner');\n",
              "          quickchartButtonEl.classList.add('colab-df-quickchart-complete');\n",
              "        }\n",
              "        (() => {\n",
              "          let quickchartButtonEl =\n",
              "            document.querySelector('#df-7c13978c-8d8a-44d9-abcb-bf2187c4860d button');\n",
              "          quickchartButtonEl.style.display =\n",
              "            google.colab.kernel.accessAllowed ? 'block' : 'none';\n",
              "        })();\n",
              "      </script>\n",
              "    </div>\n",
              "\n",
              "    </div>\n",
              "  </div>\n"
            ],
            "application/vnd.google.colaboratory.intrinsic+json": {
              "type": "dataframe",
              "variable_name": "test_data"
            }
          },
          "metadata": {},
          "execution_count": 4
        }
      ],
      "source": [
        "test_data.head()"
      ]
    },
    {
      "cell_type": "code",
      "execution_count": null,
      "metadata": {
        "id": "UgZLjPdPlxKd",
        "colab": {
          "base_uri": "https://localhost:8080/"
        },
        "outputId": "e5112b13-da9b-4540-cfab-3c06c9042d6e"
      },
      "outputs": [
        {
          "output_type": "stream",
          "name": "stdout",
          "text": [
            "Target Column: cumu_ctr\n",
            "\n",
            "Categorical Columns: ['filename', 'advertiser_id', 'digital_large', 'digital_small', 'device', 'campaign_goal', 'purpose_of_conversion_measurement', 'creative_size', 'annotation', 'Month_name', 'Day_of_week']\n",
            "\n",
            "Numerical Columns: ['Unnamed: 0', 'delivery_days', 'campaign_id', 'adgroup_id', 'ad_id', 'cumu_cost', 'cumu_impressions', 'cumu_clicks', 'cumu_ctr', 'Year', 'Day', 'Month', 'Week', 'Year_sin', 'Year_cos', 'Month_sin', 'Month_cos', 'Day_sin', 'Day_cos', 'Group']\n"
          ]
        }
      ],
      "source": [
        "# Define the target column\n",
        "target_column = 'cumu_ctr'\n",
        "\n",
        "# Select categorical and numerical columns (initial)\n",
        "categorical_columns = train_data2.select_dtypes(include=['object']).columns\n",
        "numerical_columns = train_data2.select_dtypes(exclude=['object']).columns\n",
        "\n",
        "# Print out column information\n",
        "print(\"Target Column:\", target_column)\n",
        "print(\"\\nCategorical Columns:\", categorical_columns.tolist())\n",
        "print(\"\\nNumerical Columns:\", numerical_columns.tolist())"
      ]
    },
    {
      "cell_type": "code",
      "source": [
        "# Create a list of delivery days from 1 to 30\n",
        "delivery_days = list(range(1, 31))\n",
        "\n",
        "# Create expanded DataFrame\n",
        "test_df_expanded = pd.DataFrame(np.repeat(test_data.values, 30, axis=0), columns=test_data.columns)"
      ],
      "metadata": {
        "id": "gTJpS8dIt1W9"
      },
      "execution_count": null,
      "outputs": []
    },
    {
      "cell_type": "code",
      "execution_count": null,
      "metadata": {
        "id": "8zwMDfgNpuq4"
      },
      "outputs": [],
      "source": [
        "def date(df):\n",
        "\n",
        "    df['min_date'] = pd.to_datetime(df['min_date'])\n",
        "    df['Year'] = df['min_date'].dt.year\n",
        "    df['Day'] = df['min_date'].dt.day\n",
        "    df['Month'] = df['min_date'].dt.month\n",
        "    df['Month_name'] = df['min_date'].dt.month_name()\n",
        "    df['Day_of_week'] = df['min_date'].dt.day_name()\n",
        "    df['Week'] = df['min_date'].dt.isocalendar().week\n",
        "    df['Year_sin'] = np.sin(2 * np.pi * df['Year'])\n",
        "    df['Year_cos'] = np.cos(2 * np.pi * df['Year'])\n",
        "    min_year = df['Year'].min()\n",
        "    max_year = df['Year'].max()\n",
        "    df['Year_sin'] = np.sin(2 * np.pi * (df['Year'] - min_year) / (max_year - min_year))\n",
        "    df['Year_cos'] = np.cos(2 * np.pi * (df['Year'] - min_year) / (max_year - min_year))\n",
        "    df['Month_sin'] = np.sin(2 * np.pi * df['Month'] / 12)\n",
        "    df['Month_cos'] = np.cos(2 * np.pi * df['Month'] / 12)\n",
        "    df['Day_sin'] = np.sin(2 * np.pi * df['Day'] / 31)\n",
        "    df['Day_cos'] = np.cos(2 * np.pi * df['Day'] / 31)\n",
        "    df['Group']=(df['Year']-2020)*48+df['Month']*4+df['Day']//7\n",
        "\n",
        "\n",
        "\n",
        "    df.drop('min_date', axis=1, inplace=True)\n",
        "    return df"
      ]
    },
    {
      "cell_type": "code",
      "execution_count": null,
      "metadata": {
        "id": "HwlbeV7cJkHt",
        "colab": {
          "base_uri": "https://localhost:8080/",
          "height": 575
        },
        "outputId": "fae975e1-96c6-4adc-e6c7-7d96893e2297"
      },
      "outputs": [
        {
          "output_type": "error",
          "ename": "KeyError",
          "evalue": "'min_date'",
          "traceback": [
            "\u001b[0;31m---------------------------------------------------------------------------\u001b[0m",
            "\u001b[0;31mKeyError\u001b[0m                                  Traceback (most recent call last)",
            "\u001b[0;32m/usr/local/lib/python3.11/dist-packages/pandas/core/indexes/base.py\u001b[0m in \u001b[0;36mget_loc\u001b[0;34m(self, key)\u001b[0m\n\u001b[1;32m   3804\u001b[0m         \u001b[0;32mtry\u001b[0m\u001b[0;34m:\u001b[0m\u001b[0;34m\u001b[0m\u001b[0;34m\u001b[0m\u001b[0m\n\u001b[0;32m-> 3805\u001b[0;31m             \u001b[0;32mreturn\u001b[0m \u001b[0mself\u001b[0m\u001b[0;34m.\u001b[0m\u001b[0m_engine\u001b[0m\u001b[0;34m.\u001b[0m\u001b[0mget_loc\u001b[0m\u001b[0;34m(\u001b[0m\u001b[0mcasted_key\u001b[0m\u001b[0;34m)\u001b[0m\u001b[0;34m\u001b[0m\u001b[0;34m\u001b[0m\u001b[0m\n\u001b[0m\u001b[1;32m   3806\u001b[0m         \u001b[0;32mexcept\u001b[0m \u001b[0mKeyError\u001b[0m \u001b[0;32mas\u001b[0m \u001b[0merr\u001b[0m\u001b[0;34m:\u001b[0m\u001b[0;34m\u001b[0m\u001b[0;34m\u001b[0m\u001b[0m\n",
            "\u001b[0;32mindex.pyx\u001b[0m in \u001b[0;36mpandas._libs.index.IndexEngine.get_loc\u001b[0;34m()\u001b[0m\n",
            "\u001b[0;32mindex.pyx\u001b[0m in \u001b[0;36mpandas._libs.index.IndexEngine.get_loc\u001b[0;34m()\u001b[0m\n",
            "\u001b[0;32mpandas/_libs/hashtable_class_helper.pxi\u001b[0m in \u001b[0;36mpandas._libs.hashtable.PyObjectHashTable.get_item\u001b[0;34m()\u001b[0m\n",
            "\u001b[0;32mpandas/_libs/hashtable_class_helper.pxi\u001b[0m in \u001b[0;36mpandas._libs.hashtable.PyObjectHashTable.get_item\u001b[0;34m()\u001b[0m\n",
            "\u001b[0;31mKeyError\u001b[0m: 'min_date'",
            "\nThe above exception was the direct cause of the following exception:\n",
            "\u001b[0;31mKeyError\u001b[0m                                  Traceback (most recent call last)",
            "\u001b[0;32m/tmp/ipython-input-8-38648694.py\u001b[0m in \u001b[0;36m<cell line: 0>\u001b[0;34m()\u001b[0m\n\u001b[1;32m      1\u001b[0m \u001b[0;31m# Apply the date function to both datasets\u001b[0m\u001b[0;34m\u001b[0m\u001b[0;34m\u001b[0m\u001b[0m\n\u001b[0;32m----> 2\u001b[0;31m \u001b[0mtrain_df\u001b[0m \u001b[0;34m=\u001b[0m \u001b[0mdate\u001b[0m\u001b[0;34m(\u001b[0m\u001b[0mtrain_data2\u001b[0m\u001b[0;34m)\u001b[0m\u001b[0;34m\u001b[0m\u001b[0;34m\u001b[0m\u001b[0m\n\u001b[0m\u001b[1;32m      3\u001b[0m \u001b[0mtest_df\u001b[0m \u001b[0;34m=\u001b[0m \u001b[0mdate\u001b[0m\u001b[0;34m(\u001b[0m\u001b[0mtest_data\u001b[0m\u001b[0;34m)\u001b[0m\u001b[0;34m\u001b[0m\u001b[0;34m\u001b[0m\u001b[0m\n\u001b[1;32m      4\u001b[0m \u001b[0mtest_df_expanded\u001b[0m \u001b[0;34m=\u001b[0m \u001b[0mdate\u001b[0m\u001b[0;34m(\u001b[0m\u001b[0mtest_df_expanded\u001b[0m\u001b[0;34m)\u001b[0m\u001b[0;34m\u001b[0m\u001b[0;34m\u001b[0m\u001b[0m\n",
            "\u001b[0;32m/tmp/ipython-input-7-1879138143.py\u001b[0m in \u001b[0;36mdate\u001b[0;34m(df)\u001b[0m\n\u001b[1;32m      1\u001b[0m \u001b[0;32mdef\u001b[0m \u001b[0mdate\u001b[0m\u001b[0;34m(\u001b[0m\u001b[0mdf\u001b[0m\u001b[0;34m)\u001b[0m\u001b[0;34m:\u001b[0m\u001b[0;34m\u001b[0m\u001b[0;34m\u001b[0m\u001b[0m\n\u001b[1;32m      2\u001b[0m \u001b[0;34m\u001b[0m\u001b[0m\n\u001b[0;32m----> 3\u001b[0;31m     \u001b[0mdf\u001b[0m\u001b[0;34m[\u001b[0m\u001b[0;34m'min_date'\u001b[0m\u001b[0;34m]\u001b[0m \u001b[0;34m=\u001b[0m \u001b[0mpd\u001b[0m\u001b[0;34m.\u001b[0m\u001b[0mto_datetime\u001b[0m\u001b[0;34m(\u001b[0m\u001b[0mdf\u001b[0m\u001b[0;34m[\u001b[0m\u001b[0;34m'min_date'\u001b[0m\u001b[0;34m]\u001b[0m\u001b[0;34m)\u001b[0m\u001b[0;34m\u001b[0m\u001b[0;34m\u001b[0m\u001b[0m\n\u001b[0m\u001b[1;32m      4\u001b[0m     \u001b[0mdf\u001b[0m\u001b[0;34m[\u001b[0m\u001b[0;34m'Year'\u001b[0m\u001b[0;34m]\u001b[0m \u001b[0;34m=\u001b[0m \u001b[0mdf\u001b[0m\u001b[0;34m[\u001b[0m\u001b[0;34m'min_date'\u001b[0m\u001b[0;34m]\u001b[0m\u001b[0;34m.\u001b[0m\u001b[0mdt\u001b[0m\u001b[0;34m.\u001b[0m\u001b[0myear\u001b[0m\u001b[0;34m\u001b[0m\u001b[0;34m\u001b[0m\u001b[0m\n\u001b[1;32m      5\u001b[0m     \u001b[0mdf\u001b[0m\u001b[0;34m[\u001b[0m\u001b[0;34m'Day'\u001b[0m\u001b[0;34m]\u001b[0m \u001b[0;34m=\u001b[0m \u001b[0mdf\u001b[0m\u001b[0;34m[\u001b[0m\u001b[0;34m'min_date'\u001b[0m\u001b[0;34m]\u001b[0m\u001b[0;34m.\u001b[0m\u001b[0mdt\u001b[0m\u001b[0;34m.\u001b[0m\u001b[0mday\u001b[0m\u001b[0;34m\u001b[0m\u001b[0;34m\u001b[0m\u001b[0m\n",
            "\u001b[0;32m/usr/local/lib/python3.11/dist-packages/pandas/core/frame.py\u001b[0m in \u001b[0;36m__getitem__\u001b[0;34m(self, key)\u001b[0m\n\u001b[1;32m   4100\u001b[0m             \u001b[0;32mif\u001b[0m \u001b[0mself\u001b[0m\u001b[0;34m.\u001b[0m\u001b[0mcolumns\u001b[0m\u001b[0;34m.\u001b[0m\u001b[0mnlevels\u001b[0m \u001b[0;34m>\u001b[0m \u001b[0;36m1\u001b[0m\u001b[0;34m:\u001b[0m\u001b[0;34m\u001b[0m\u001b[0;34m\u001b[0m\u001b[0m\n\u001b[1;32m   4101\u001b[0m                 \u001b[0;32mreturn\u001b[0m \u001b[0mself\u001b[0m\u001b[0;34m.\u001b[0m\u001b[0m_getitem_multilevel\u001b[0m\u001b[0;34m(\u001b[0m\u001b[0mkey\u001b[0m\u001b[0;34m)\u001b[0m\u001b[0;34m\u001b[0m\u001b[0;34m\u001b[0m\u001b[0m\n\u001b[0;32m-> 4102\u001b[0;31m             \u001b[0mindexer\u001b[0m \u001b[0;34m=\u001b[0m \u001b[0mself\u001b[0m\u001b[0;34m.\u001b[0m\u001b[0mcolumns\u001b[0m\u001b[0;34m.\u001b[0m\u001b[0mget_loc\u001b[0m\u001b[0;34m(\u001b[0m\u001b[0mkey\u001b[0m\u001b[0;34m)\u001b[0m\u001b[0;34m\u001b[0m\u001b[0;34m\u001b[0m\u001b[0m\n\u001b[0m\u001b[1;32m   4103\u001b[0m             \u001b[0;32mif\u001b[0m \u001b[0mis_integer\u001b[0m\u001b[0;34m(\u001b[0m\u001b[0mindexer\u001b[0m\u001b[0;34m)\u001b[0m\u001b[0;34m:\u001b[0m\u001b[0;34m\u001b[0m\u001b[0;34m\u001b[0m\u001b[0m\n\u001b[1;32m   4104\u001b[0m                 \u001b[0mindexer\u001b[0m \u001b[0;34m=\u001b[0m \u001b[0;34m[\u001b[0m\u001b[0mindexer\u001b[0m\u001b[0;34m]\u001b[0m\u001b[0;34m\u001b[0m\u001b[0;34m\u001b[0m\u001b[0m\n",
            "\u001b[0;32m/usr/local/lib/python3.11/dist-packages/pandas/core/indexes/base.py\u001b[0m in \u001b[0;36mget_loc\u001b[0;34m(self, key)\u001b[0m\n\u001b[1;32m   3810\u001b[0m             ):\n\u001b[1;32m   3811\u001b[0m                 \u001b[0;32mraise\u001b[0m \u001b[0mInvalidIndexError\u001b[0m\u001b[0;34m(\u001b[0m\u001b[0mkey\u001b[0m\u001b[0;34m)\u001b[0m\u001b[0;34m\u001b[0m\u001b[0;34m\u001b[0m\u001b[0m\n\u001b[0;32m-> 3812\u001b[0;31m             \u001b[0;32mraise\u001b[0m \u001b[0mKeyError\u001b[0m\u001b[0;34m(\u001b[0m\u001b[0mkey\u001b[0m\u001b[0;34m)\u001b[0m \u001b[0;32mfrom\u001b[0m \u001b[0merr\u001b[0m\u001b[0;34m\u001b[0m\u001b[0;34m\u001b[0m\u001b[0m\n\u001b[0m\u001b[1;32m   3813\u001b[0m         \u001b[0;32mexcept\u001b[0m \u001b[0mTypeError\u001b[0m\u001b[0;34m:\u001b[0m\u001b[0;34m\u001b[0m\u001b[0;34m\u001b[0m\u001b[0m\n\u001b[1;32m   3814\u001b[0m             \u001b[0;31m# If we have a listlike key, _check_indexing_error will raise\u001b[0m\u001b[0;34m\u001b[0m\u001b[0;34m\u001b[0m\u001b[0m\n",
            "\u001b[0;31mKeyError\u001b[0m: 'min_date'"
          ]
        }
      ],
      "source": [
        "# Apply the date function to both datasets\n",
        "# train_df = date(train_data2)\n",
        "# test_df = date(test_data)\n",
        "# test_df_expanded = date(test_df_expanded)"
      ]
    },
    {
      "cell_type": "code",
      "execution_count": null,
      "metadata": {
        "id": "pE9wfAj0mEKS",
        "colab": {
          "base_uri": "https://localhost:8080/",
          "height": 147
        },
        "outputId": "340101a1-5a50-47d6-a894-59ad9cbf64a0"
      },
      "outputs": [
        {
          "output_type": "error",
          "ename": "NameError",
          "evalue": "name 'train_df' is not defined",
          "traceback": [
            "\u001b[0;31m---------------------------------------------------------------------------\u001b[0m",
            "\u001b[0;31mNameError\u001b[0m                                 Traceback (most recent call last)",
            "\u001b[0;32m/tmp/ipython-input-9-1442268148.py\u001b[0m in \u001b[0;36m<cell line: 0>\u001b[0;34m()\u001b[0m\n\u001b[0;32m----> 1\u001b[0;31m \u001b[0mtrain_df\u001b[0m\u001b[0;34m.\u001b[0m\u001b[0mcolumns\u001b[0m\u001b[0;34m\u001b[0m\u001b[0;34m\u001b[0m\u001b[0m\n\u001b[0m",
            "\u001b[0;31mNameError\u001b[0m: name 'train_df' is not defined"
          ]
        }
      ],
      "source": [
        "train_df.columns"
      ]
    },
    {
      "cell_type": "code",
      "execution_count": null,
      "metadata": {
        "id": "lYL1hb_4JvBq"
      },
      "outputs": [],
      "source": [
        "test_df.columns"
      ]
    },
    {
      "cell_type": "code",
      "source": [
        "train_df.drop('annotation', axis=1, inplace=True)\n",
        "test_df.drop('annotation', axis=1, inplace=True)"
      ],
      "metadata": {
        "id": "wJOgd76fsg6n"
      },
      "execution_count": null,
      "outputs": []
    },
    {
      "cell_type": "code",
      "source": [
        "train_df.drop('filename', axis=1, inplace=True)\n",
        "test_df.drop('filename', axis=1, inplace=True)"
      ],
      "metadata": {
        "id": "ZiF-9M-xtEST"
      },
      "execution_count": null,
      "outputs": []
    },
    {
      "cell_type": "code",
      "execution_count": null,
      "metadata": {
        "id": "liPBx5KWz-S2"
      },
      "outputs": [],
      "source": [
        "# print(train_df.duplicated(subset=['advertiser_id', 'adgroup_id', 'ad_id', 'campaign_id']))"
      ]
    },
    {
      "cell_type": "code",
      "execution_count": null,
      "metadata": {
        "id": "ykQUSeDAz97e"
      },
      "outputs": [],
      "source": [
        "print(train_df.duplicated(subset=['advertiser_id', 'adgroup_id', 'ad_id', 'campaign_id']).value_counts())"
      ]
    },
    {
      "cell_type": "code",
      "execution_count": null,
      "metadata": {
        "id": "OBlfRfUJ-FlJ"
      },
      "outputs": [],
      "source": [
        "# Create a list of the ID columns to be used for grouping\n",
        "id_columns = ['advertiser_id', 'adgroup_id', 'ad_id', 'campaign_id']\n",
        "\n",
        "print(\"ID columns for grouping:\", id_columns)"
      ]
    },
    {
      "cell_type": "code",
      "source": [
        "print(train_df.info())"
      ],
      "metadata": {
        "id": "RsdQY4BIcJh0"
      },
      "execution_count": null,
      "outputs": []
    },
    {
      "cell_type": "code",
      "source": [
        "print(test_df.info())"
      ],
      "metadata": {
        "id": "cmXaeQcccMex"
      },
      "execution_count": null,
      "outputs": []
    },
    {
      "cell_type": "code",
      "source": [
        "def downcast_dataframe_dtypes(df):\n",
        "    \"\"\"\n",
        "    Downcasts numerical columns to more memory-efficient types.\n",
        "\n",
        "    Args:\n",
        "        df (pd.DataFrame): The input DataFrame.\n",
        "\n",
        "    Returns:\n",
        "        pd.DataFrame: The DataFrame with downcasted numerical types.\n",
        "    \"\"\"\n",
        "    for col in df.columns:\n",
        "        if df[col].dtype == 'int64':\n",
        "            df[col] = pd.to_numeric(df[col], downcast='integer')\n",
        "        elif df[col].dtype == 'float64':\n",
        "            df[col] = pd.to_numeric(df[col], downcast='float')\n",
        "    return df\n",
        "\n",
        "# Apply downcasting to train_data2\n",
        "train_df = downcast_dataframe_dtypes(train_df)\n",
        "test_df = downcast_dataframe_dtypes(test_df)\n",
        "\n",
        "# Print the data types after downcasting\n",
        "print(\"Data types after downcasting:\")\n",
        "print(train_df.dtypes)\n",
        "print(test_df.dtypes)\n",
        "\n",
        "# Check memory usage after downcasting\n",
        "print(\"\\nMemory usage after downcasting:\")\n",
        "print(train_df.memory_usage(deep=True).sum())\n",
        "print(test_df.memory_usage(deep=True).sum())"
      ],
      "metadata": {
        "id": "MaaIrbykhEu3"
      },
      "execution_count": null,
      "outputs": []
    },
    {
      "cell_type": "code",
      "execution_count": null,
      "metadata": {
        "id": "pigG2Wxx-ZEl"
      },
      "outputs": [],
      "source": [
        "# from sklearn.model_selection import cross_val_score, StratifiedKFold\n",
        "\n",
        "# Group the train_df DataFrame by the columns listed in id_columns\n",
        "# grouped_data = train_df.groupby(id_columns)\n",
        "\n",
        "# Since reset_index() failed previously, let's try creating a list of groups directly\n",
        "# This will give us the group keys, which are the unique combinations of id_columns\n",
        "# unique_groups_list = list(grouped_data.groups.keys())\n",
        "\n",
        "# Convert the list of tuples to a DataFrame\n",
        "# unique_groups = pd.DataFrame(unique_groups_list, columns=id_columns)\n",
        "\n",
        "\n",
        "# Split these unique groups into training and validation sets using train_test_split.\n",
        "# train_groups, val_groups = train_test_split(unique_groups, test_size=0.2, random_state=42)\n",
        "\n",
        "# Display the number of groups in each set\n",
        "# print(f\"Number of training groups: {len(train_groups)}\")\n",
        "# print(f\"Number of validation groups: {len(val_groups)}\")"
      ]
    },
    {
      "cell_type": "code",
      "execution_count": null,
      "metadata": {
        "collapsed": true,
        "id": "pQAKGtLC-kvp"
      },
      "outputs": [],
      "source": [
        "# Merge train_groups with the original train_df\n",
        "# train_data = pd.merge(train_groups, train_df, on=id_columns, how='left')\n",
        "\n",
        "# Merge val_groups with the original train_df\n",
        "# val_data = pd.merge(val_groups, train_df, on=id_columns, how='left')\n",
        "\n",
        "# Display the shapes of the resulting DataFrames\n",
        "# print(f\"Shape of train_data: {train_data.shape}\")\n",
        "# print(train_data.head())\n",
        "# print(f\"Shape of val_data: {val_data.shape}\")"
      ]
    },
    {
      "cell_type": "code",
      "source": [],
      "metadata": {
        "id": "AfDjCqStt0Oh"
      },
      "execution_count": null,
      "outputs": []
    },
    {
      "cell_type": "code",
      "source": [
        "train_df.dropna()\n",
        "test_df.dropna()"
      ],
      "metadata": {
        "id": "orskJky_wxLO"
      },
      "execution_count": null,
      "outputs": []
    },
    {
      "cell_type": "code",
      "source": [
        "import pyarrow\n",
        "import pyarrow.parquet\n",
        "import pyarrow.csv\n",
        "\n",
        "# Convert pandas DataFrames to PyArrow Tables\n",
        "train_table = pyarrow.Table.from_pandas(train_df)\n",
        "test_table = pyarrow.Table.from_pandas(test_df)\n",
        "\n",
        "# Write PyArrow Tables to Parquet files\n",
        "pyarrow.parquet.write_table(train_table, \"./yda_train.parquet\")\n",
        "pyarrow.parquet.write_table(test_table, \"./yda_test.parquet\")\n",
        "\n",
        "print(\"DataFrames successfully converted to PyArrow Tables and saved as Parquet files.\")"
      ],
      "metadata": {
        "id": "g0Sh7dQAvlR0"
      },
      "execution_count": null,
      "outputs": []
    },
    {
      "cell_type": "code",
      "source": [
        "test_df.to_csv('/content/drive/MyDrive/Colab Notebooks/yda_test_processed2.csv')"
      ],
      "metadata": {
        "id": "jXxBXzeZ1JLK",
        "colab": {
          "base_uri": "https://localhost:8080/",
          "height": 147
        },
        "outputId": "1b8fe5bd-bc78-4950-c944-6fc4cfd8383f"
      },
      "execution_count": null,
      "outputs": [
        {
          "output_type": "error",
          "ename": "NameError",
          "evalue": "name 'test_df' is not defined",
          "traceback": [
            "\u001b[0;31m---------------------------------------------------------------------------\u001b[0m",
            "\u001b[0;31mNameError\u001b[0m                                 Traceback (most recent call last)",
            "\u001b[0;32m/tmp/ipython-input-10-2039857013.py\u001b[0m in \u001b[0;36m<cell line: 0>\u001b[0;34m()\u001b[0m\n\u001b[0;32m----> 1\u001b[0;31m \u001b[0mtest_df\u001b[0m\u001b[0;34m.\u001b[0m\u001b[0mto_csv\u001b[0m\u001b[0;34m(\u001b[0m\u001b[0;34m'/content/drive/MyDrive/Colab Notebooks/yda_test_processed2.csv'\u001b[0m\u001b[0;34m)\u001b[0m\u001b[0;34m\u001b[0m\u001b[0;34m\u001b[0m\u001b[0m\n\u001b[0m",
            "\u001b[0;31mNameError\u001b[0m: name 'test_df' is not defined"
          ]
        }
      ]
    },
    {
      "cell_type": "markdown",
      "source": [],
      "metadata": {
        "id": "FkhfIYSRiIRa"
      }
    },
    {
      "cell_type": "code",
      "source": [],
      "metadata": {
        "id": "T6jUdLAm4k-E"
      },
      "execution_count": null,
      "outputs": []
    },
    {
      "cell_type": "code",
      "source": [
        "# train_df.to_csv('/content/drive/MyDrive/Colab Notebooks/lap_train_processed2.csv')"
      ],
      "metadata": {
        "id": "G9wMTU9ZxJ5E"
      },
      "execution_count": null,
      "outputs": []
    },
    {
      "cell_type": "code",
      "source": [
        "import pyarrow\n",
        "import pyarrow.parquet\n",
        "import pyarrow.csv\n",
        "\n",
        "loaded_parquet_train = pyarrow.parquet.read_table(\"./yda_train.parquet\")\n",
        "train_df = loaded_parquet_train.to_pandas()\n",
        "\n",
        "loaded_parquet_test = pyarrow.parquet.read_table(\"./yda_test.parquet\")\n",
        "test_df = loaded_parquet_test.to_pandas()"
      ],
      "metadata": {
        "id": "QBwfaETCwQTL"
      },
      "execution_count": null,
      "outputs": []
    },
    {
      "cell_type": "code",
      "source": [
        "import numpy as np\n",
        "import pandas as pd\n",
        "import matplotlib.pyplot as plt\n",
        "import seaborn as sns\n",
        "import json\n",
        "\n",
        "from google.colab import drive\n",
        "drive.mount('/content/drive')"
      ],
      "metadata": {
        "id": "0GuM52aIyF--",
        "colab": {
          "base_uri": "https://localhost:8080/"
        },
        "outputId": "799d0a64-cca7-4f59-9e4f-d8b6ac57ce4c"
      },
      "execution_count": null,
      "outputs": [
        {
          "output_type": "stream",
          "name": "stdout",
          "text": [
            "Mounted at /content/drive\n"
          ]
        }
      ]
    },
    {
      "cell_type": "code",
      "source": [
        "train_df = pd.read_csv('/content/drive/Shared/lap_train_processed2.csv')\n",
        "test_df = pd.read_csv('/content/drive/MyDrive/yda_test_processed2.csv')"
      ],
      "metadata": {
        "id": "tvKL7CyIyLrv",
        "colab": {
          "base_uri": "https://localhost:8080/"
        },
        "outputId": "c8859f98-e1b1-47e2-e4dd-de6e6305626f"
      },
      "execution_count": null,
      "outputs": [
        {
          "output_type": "stream",
          "name": "stderr",
          "text": [
            "/tmp/ipython-input-2-1342728453.py:1: DtypeWarning: Columns (14) have mixed types. Specify dtype option on import or set low_memory=False.\n",
            "  train_df = pd.read_csv('/content/drive/MyDrive/lap_train_processed2.csv')\n"
          ]
        }
      ]
    },
    {
      "cell_type": "code",
      "source": [
        "!nvidia-smi"
      ],
      "metadata": {
        "colab": {
          "base_uri": "https://localhost:8080/"
        },
        "id": "-XdgZMe0FlRj",
        "outputId": "89edbfad-e771-4c84-93c9-a9630835923f"
      },
      "execution_count": null,
      "outputs": [
        {
          "output_type": "stream",
          "name": "stdout",
          "text": [
            "/bin/bash: line 1: nvidia-smi: command not found\n"
          ]
        }
      ]
    },
    {
      "cell_type": "code",
      "source": [
        "from sklearn.compose import ColumnTransformer\n",
        "from sklearn.pipeline import Pipeline, make_pipeline\n",
        "from sklearn.preprocessing import RobustScaler, OneHotEncoder\n",
        "from sklearn.tree import DecisionTreeRegressor\n",
        "from sklearn.model_selection import cross_val_score, GroupKFold\n",
        "from sklearn.impute import SimpleImputer\n",
        "\n",
        "# 1. Define the target variable y_train\n",
        "y_train = train_df['cumu_ctr']\n",
        "\n",
        "# Define the id_columns for grouping\n",
        "id_columns = ['advertiser_id', 'adgroup_id', 'ad_id', 'campaign_id']\n",
        "\n",
        "# Create group labels based on id_columns from the original train_data\n",
        "# Convert the id_columns to string type and combine them to create unique group identifiers\n",
        "train_groups = train_df[id_columns].astype(str).agg('_'.join, axis=1)\n"
      ],
      "metadata": {
        "id": "IO_XXkqpn_ZN"
      },
      "execution_count": null,
      "outputs": []
    },
    {
      "cell_type": "code",
      "source": [
        "# 2. Define the feature sets X_train for the model\n",
        "# These are the columns that will be used to train the regression model\n",
        "irrelevant_columns_for_features = ['cumu_ctr', 'cumu_clicks', 'cumu_cost', 'cumu_impressions', 'delivery_days']\n",
        "# Combine irrelevant columns and id_columns to get all columns NOT used as features in the model\n",
        "columns_to_drop_from_features = irrelevant_columns_for_features + id_columns\n",
        "\n",
        "# Select features for the model by dropping the specified columns from train_data\n",
        "features_for_model = train_df.drop(columns=columns_to_drop_from_features)\n",
        "\n",
        "\n",
        "# 3. Identify the numerical and categorical features from features_for_model for preprocessing\n",
        "numerical_features = features_for_model.select_dtypes(exclude=['object']).columns\n",
        "categorical_features = features_for_model.select_dtypes(include=['object']).columns"
      ],
      "metadata": {
        "id": "eDTEWE-YoJ27"
      },
      "execution_count": null,
      "outputs": []
    },
    {
      "cell_type": "code",
      "execution_count": null,
      "metadata": {
        "id": "6UHXXbGq-ry6",
        "colab": {
          "base_uri": "https://localhost:8080/"
        },
        "outputId": "a759f4d5-6de9-48b5-b1c0-4560e86b7681"
      },
      "outputs": [
        {
          "output_type": "stream",
          "name": "stdout",
          "text": [
            "\n",
            "Performing cross-validation using GroupKFold...\n",
            "GroupKFold Cross-Validation RMSE Scores: [0.00101024 0.00103873 0.00100702 0.00102064]\n",
            "Mean GroupKFold Cross-Validation RMSE: 0.001019\n",
            "\n",
            "Models trained successfully on the full training data (after cross-validation).\n"
          ]
        }
      ],
      "source": [
        "# 4. Create a preprocessing pipeline\n",
        "preprocessor = ColumnTransformer(\n",
        "    transformers=[\n",
        "        ('num', Pipeline([('imputer', SimpleImputer(strategy='median')), ('scaler', RobustScaler())]), numerical_features), # Add imputer to numerical pipeline\n",
        "        ('cat', Pipeline([('imputer', SimpleImputer(strategy='constant')), ('onehot', OneHotEncoder(handle_unknown='ignore'))]), categorical_features)]\n",
        ")\n",
        "\n",
        "# Use make_pipeline\n",
        "training_pipeline = make_pipeline(preprocessor, DecisionTreeRegressor(random_state=42, max_depth=20))\n",
        "\n",
        "# Use GroupKFold for cross-validation with regression target\n",
        "print(\"\\nPerforming cross-validation using GroupKFold...\")\n",
        "cv_group = GroupKFold(n_splits=4)\n",
        "# Perform cross-validation using GroupKFold and provide the group labels\n",
        "scores_group = cross_val_score(\n",
        "    training_pipeline,\n",
        "    features_for_model,\n",
        "    y_train,\n",
        "    groups=train_groups,\n",
        "    cv=cv_group,\n",
        "    scoring='neg_root_mean_squared_error'\n",
        ")\n",
        "rmse_scores_group = -scores_group # Convert negative RMSE scores to positive RMSE\n",
        "print(\"GroupKFold Cross-Validation RMSE Scores:\", rmse_scores_group)\n",
        "print(f\"Mean GroupKFold Cross-Validation RMSE: {rmse_scores_group.mean():.6f}\")\n",
        "\n",
        "\n",
        "\n",
        "# 5. Fit the preprocessor and train the final model on the full training data\n",
        "# Fit the preprocessor on the training features\n",
        "preprocessor.fit(features_for_model)\n",
        "\n",
        "# Transform the training features using the fitted preprocessor\n",
        "X_train_processed = preprocessor.transform(features_for_model)\n",
        "\n",
        "# Train the DecisionTreeRegressor model on the processed training data\n",
        "model = DecisionTreeRegressor(random_state=42, max_depth=20)\n",
        "model.fit(X_train_processed, y_train)\n",
        "\n",
        "print(\"\\nModels trained successfully on the full training data (after cross-validation).\")"
      ]
    },
    {
      "cell_type": "code",
      "source": [
        "import pickle\n",
        "\n",
        "with open('model_yba.pickle', mode='wb') as f:\n",
        "    pickle.dump(clf,f,protocol=2)"
      ],
      "metadata": {
        "colab": {
          "base_uri": "https://localhost:8080/",
          "height": 184
        },
        "id": "qVVQvWlEHe8q",
        "outputId": "aa10af69-9df3-4b1c-96b8-db3859ec0349"
      },
      "execution_count": null,
      "outputs": [
        {
          "output_type": "error",
          "ename": "NameError",
          "evalue": "name 'clf' is not defined",
          "traceback": [
            "\u001b[0;31m---------------------------------------------------------------------------\u001b[0m",
            "\u001b[0;31mNameError\u001b[0m                                 Traceback (most recent call last)",
            "\u001b[0;32m/tmp/ipython-input-6-513793418.py\u001b[0m in \u001b[0;36m<cell line: 0>\u001b[0;34m()\u001b[0m\n\u001b[1;32m      2\u001b[0m \u001b[0;34m\u001b[0m\u001b[0m\n\u001b[1;32m      3\u001b[0m \u001b[0;32mwith\u001b[0m \u001b[0mopen\u001b[0m\u001b[0;34m(\u001b[0m\u001b[0;34m'model_yba.pickle'\u001b[0m\u001b[0;34m,\u001b[0m \u001b[0mmode\u001b[0m\u001b[0;34m=\u001b[0m\u001b[0;34m'wb'\u001b[0m\u001b[0;34m)\u001b[0m \u001b[0;32mas\u001b[0m \u001b[0mf\u001b[0m\u001b[0;34m:\u001b[0m\u001b[0;34m\u001b[0m\u001b[0;34m\u001b[0m\u001b[0m\n\u001b[0;32m----> 4\u001b[0;31m     \u001b[0mpickle\u001b[0m\u001b[0;34m.\u001b[0m\u001b[0mdump\u001b[0m\u001b[0;34m(\u001b[0m\u001b[0mclf\u001b[0m\u001b[0;34m,\u001b[0m\u001b[0mf\u001b[0m\u001b[0;34m,\u001b[0m\u001b[0mprotocol\u001b[0m\u001b[0;34m=\u001b[0m\u001b[0;36m2\u001b[0m\u001b[0;34m)\u001b[0m\u001b[0;34m\u001b[0m\u001b[0;34m\u001b[0m\u001b[0m\n\u001b[0m",
            "\u001b[0;31mNameError\u001b[0m: name 'clf' is not defined"
          ]
        }
      ]
    },
    {
      "cell_type": "code",
      "source": [
        "import pickle\n",
        "\n",
        "# モデルのオープン\n",
        "with open('model_yba.pickle', mode='rb') as f:\n",
        "    clf = pickle.load(f)\n"
      ],
      "metadata": {
        "id": "kJKnA6IQHiPM"
      },
      "execution_count": null,
      "outputs": []
    },
    {
      "cell_type": "code",
      "source": [
        "# Select the same features from the test_df as used for training\n",
        "features_for_prediction = test_df[features_for_model.columns]\n",
        "\n",
        "# Apply the same preprocessing steps to the selected test features\n",
        "X_test_processed = preprocessor.transform(features_for_prediction)\n",
        "\n",
        "# Make predictions on the processed test data using the trained DecisionTreeRegressor model\n",
        "y_pred_dt_test = model.predict(X_test_processed)\n",
        "\n",
        "print(\"Predictions on test data completed for Decision Tree Regression model.\")"
      ],
      "metadata": {
        "id": "AMpNPWCHxzkh",
        "colab": {
          "base_uri": "https://localhost:8080/"
        },
        "outputId": "16f14cf1-829a-4ea7-e3d8-7d04f027d869"
      },
      "execution_count": null,
      "outputs": [
        {
          "output_type": "stream",
          "name": "stdout",
          "text": [
            "Predictions on test data completed for Decision Tree Regression model.\n"
          ]
        }
      ]
    },
    {
      "cell_type": "code",
      "source": [
        "test_df['pred_ctr'] = y_pred_dt_test\n",
        "\n",
        "test_df.head()"
      ],
      "metadata": {
        "id": "p622gi-qQF-h",
        "colab": {
          "base_uri": "https://localhost:8080/",
          "height": 429
        },
        "outputId": "af545890-7abb-4655-f321-b5ef3cc01354"
      },
      "execution_count": null,
      "outputs": [
        {
          "output_type": "execute_result",
          "data": {
            "text/plain": [
              "   Unnamed: 0                                          filename  \\\n",
              "0           0  39409_b1c14afc87b52c6a_39f3f804e000180000001.png   \n",
              "1           1  10940_fc87133aa845b7a2_1fe04001e00000001f00e.png   \n",
              "2           2  35840_97bf49a0c0e1f133_09e300000000fc0000006.png   \n",
              "3           3  36914_b3b9ccc403b937e0_0bfe4c00300000101c000.png   \n",
              "4           4  28871_840e3e983b3b93d5_7ff04000608618000003d.png   \n",
              "\n",
              "                                       advertiser_id  campaign_id  adgroup_id  \\\n",
              "0  b'x\\xc1\\xda\\\\\\n\\x83u8\\x0b\\xe3\\xf8\\xf7\\x83G\\xb2...     31343217   441366941   \n",
              "1  b'=\\xab\\x80\\x15|\\xcdu\\x172\\xce;S\\xb3+3E\\xf5a\\x...     30665832   435390866   \n",
              "2  b'\\x15=a\\xfc\\xcb\\xb5\\x10;\\xa2 [\\x8c\\xe1N\\x81\\x...     30144752   439602681   \n",
              "3  b'\\xb2#\\xf1\\xc2\\xf6\\x82\\xfc\\xed\\xe7L\\x10\\xb7\\x...     30939864   438067830   \n",
              "4  b'\\x8d\\xf1\\xd3w<\\xa9a\\xa5ow:R\\x0f\\xf8\"\\x82\\t\\r...     31299881   441009724   \n",
              "\n",
              "        ad_id digital_large digital_small   device campaign_goal  ...  \\\n",
              "0  1402755076  自動車・輸送用機器・用品       自動車メーカー  スマートフォン        ブランド認知  ...   \n",
              "1  1332478197  自動車・輸送用機器・用品       自動車メーカー  タブレット端末       コンバージョン  ...   \n",
              "2  1401386026        製薬・医薬品            製薬       PC       コンバージョン  ...   \n",
              "3  1403162913          業種不明          業種不明  スマートフォン       コンバージョン  ...   \n",
              "4  1397585011          業種不明          業種不明  タブレット端末       コンバージョン  ...   \n",
              "\n",
              "  Day_of_week Week Year_sin  Year_cos  Month_sin  Month_cos   Day_sin  \\\n",
              "0      Monday   18      NaN       NaN        0.5  -0.866025  0.201299   \n",
              "1      Monday   18      NaN       NaN        0.5  -0.866025  0.201299   \n",
              "2      Monday   18      NaN       NaN        0.5  -0.866025  0.201299   \n",
              "3      Monday   18      NaN       NaN        0.5  -0.866025  0.201299   \n",
              "4      Monday   18      NaN       NaN        0.5  -0.866025  0.201299   \n",
              "\n",
              "   Day_cos  Group  pred_ctr  \n",
              "0  0.97953    164  0.004717  \n",
              "1  0.97953    164  0.000725  \n",
              "2  0.97953    164  0.000274  \n",
              "3  0.97953    164  0.001501  \n",
              "4  0.97953    164  0.001665  \n",
              "\n",
              "[5 rows x 27 columns]"
            ],
            "text/html": [
              "\n",
              "  <div id=\"df-ca3ee346-d00e-4ac5-8158-976e5c99387a\" class=\"colab-df-container\">\n",
              "    <div>\n",
              "<style scoped>\n",
              "    .dataframe tbody tr th:only-of-type {\n",
              "        vertical-align: middle;\n",
              "    }\n",
              "\n",
              "    .dataframe tbody tr th {\n",
              "        vertical-align: top;\n",
              "    }\n",
              "\n",
              "    .dataframe thead th {\n",
              "        text-align: right;\n",
              "    }\n",
              "</style>\n",
              "<table border=\"1\" class=\"dataframe\">\n",
              "  <thead>\n",
              "    <tr style=\"text-align: right;\">\n",
              "      <th></th>\n",
              "      <th>Unnamed: 0</th>\n",
              "      <th>filename</th>\n",
              "      <th>advertiser_id</th>\n",
              "      <th>campaign_id</th>\n",
              "      <th>adgroup_id</th>\n",
              "      <th>ad_id</th>\n",
              "      <th>digital_large</th>\n",
              "      <th>digital_small</th>\n",
              "      <th>device</th>\n",
              "      <th>campaign_goal</th>\n",
              "      <th>...</th>\n",
              "      <th>Day_of_week</th>\n",
              "      <th>Week</th>\n",
              "      <th>Year_sin</th>\n",
              "      <th>Year_cos</th>\n",
              "      <th>Month_sin</th>\n",
              "      <th>Month_cos</th>\n",
              "      <th>Day_sin</th>\n",
              "      <th>Day_cos</th>\n",
              "      <th>Group</th>\n",
              "      <th>pred_ctr</th>\n",
              "    </tr>\n",
              "  </thead>\n",
              "  <tbody>\n",
              "    <tr>\n",
              "      <th>0</th>\n",
              "      <td>0</td>\n",
              "      <td>39409_b1c14afc87b52c6a_39f3f804e000180000001.png</td>\n",
              "      <td>b'x\\xc1\\xda\\\\\\n\\x83u8\\x0b\\xe3\\xf8\\xf7\\x83G\\xb2...</td>\n",
              "      <td>31343217</td>\n",
              "      <td>441366941</td>\n",
              "      <td>1402755076</td>\n",
              "      <td>自動車・輸送用機器・用品</td>\n",
              "      <td>自動車メーカー</td>\n",
              "      <td>スマートフォン</td>\n",
              "      <td>ブランド認知</td>\n",
              "      <td>...</td>\n",
              "      <td>Monday</td>\n",
              "      <td>18</td>\n",
              "      <td>NaN</td>\n",
              "      <td>NaN</td>\n",
              "      <td>0.5</td>\n",
              "      <td>-0.866025</td>\n",
              "      <td>0.201299</td>\n",
              "      <td>0.97953</td>\n",
              "      <td>164</td>\n",
              "      <td>0.004717</td>\n",
              "    </tr>\n",
              "    <tr>\n",
              "      <th>1</th>\n",
              "      <td>1</td>\n",
              "      <td>10940_fc87133aa845b7a2_1fe04001e00000001f00e.png</td>\n",
              "      <td>b'=\\xab\\x80\\x15|\\xcdu\\x172\\xce;S\\xb3+3E\\xf5a\\x...</td>\n",
              "      <td>30665832</td>\n",
              "      <td>435390866</td>\n",
              "      <td>1332478197</td>\n",
              "      <td>自動車・輸送用機器・用品</td>\n",
              "      <td>自動車メーカー</td>\n",
              "      <td>タブレット端末</td>\n",
              "      <td>コンバージョン</td>\n",
              "      <td>...</td>\n",
              "      <td>Monday</td>\n",
              "      <td>18</td>\n",
              "      <td>NaN</td>\n",
              "      <td>NaN</td>\n",
              "      <td>0.5</td>\n",
              "      <td>-0.866025</td>\n",
              "      <td>0.201299</td>\n",
              "      <td>0.97953</td>\n",
              "      <td>164</td>\n",
              "      <td>0.000725</td>\n",
              "    </tr>\n",
              "    <tr>\n",
              "      <th>2</th>\n",
              "      <td>2</td>\n",
              "      <td>35840_97bf49a0c0e1f133_09e300000000fc0000006.png</td>\n",
              "      <td>b'\\x15=a\\xfc\\xcb\\xb5\\x10;\\xa2 [\\x8c\\xe1N\\x81\\x...</td>\n",
              "      <td>30144752</td>\n",
              "      <td>439602681</td>\n",
              "      <td>1401386026</td>\n",
              "      <td>製薬・医薬品</td>\n",
              "      <td>製薬</td>\n",
              "      <td>PC</td>\n",
              "      <td>コンバージョン</td>\n",
              "      <td>...</td>\n",
              "      <td>Monday</td>\n",
              "      <td>18</td>\n",
              "      <td>NaN</td>\n",
              "      <td>NaN</td>\n",
              "      <td>0.5</td>\n",
              "      <td>-0.866025</td>\n",
              "      <td>0.201299</td>\n",
              "      <td>0.97953</td>\n",
              "      <td>164</td>\n",
              "      <td>0.000274</td>\n",
              "    </tr>\n",
              "    <tr>\n",
              "      <th>3</th>\n",
              "      <td>3</td>\n",
              "      <td>36914_b3b9ccc403b937e0_0bfe4c00300000101c000.png</td>\n",
              "      <td>b'\\xb2#\\xf1\\xc2\\xf6\\x82\\xfc\\xed\\xe7L\\x10\\xb7\\x...</td>\n",
              "      <td>30939864</td>\n",
              "      <td>438067830</td>\n",
              "      <td>1403162913</td>\n",
              "      <td>業種不明</td>\n",
              "      <td>業種不明</td>\n",
              "      <td>スマートフォン</td>\n",
              "      <td>コンバージョン</td>\n",
              "      <td>...</td>\n",
              "      <td>Monday</td>\n",
              "      <td>18</td>\n",
              "      <td>NaN</td>\n",
              "      <td>NaN</td>\n",
              "      <td>0.5</td>\n",
              "      <td>-0.866025</td>\n",
              "      <td>0.201299</td>\n",
              "      <td>0.97953</td>\n",
              "      <td>164</td>\n",
              "      <td>0.001501</td>\n",
              "    </tr>\n",
              "    <tr>\n",
              "      <th>4</th>\n",
              "      <td>4</td>\n",
              "      <td>28871_840e3e983b3b93d5_7ff04000608618000003d.png</td>\n",
              "      <td>b'\\x8d\\xf1\\xd3w&lt;\\xa9a\\xa5ow:R\\x0f\\xf8\"\\x82\\t\\r...</td>\n",
              "      <td>31299881</td>\n",
              "      <td>441009724</td>\n",
              "      <td>1397585011</td>\n",
              "      <td>業種不明</td>\n",
              "      <td>業種不明</td>\n",
              "      <td>タブレット端末</td>\n",
              "      <td>コンバージョン</td>\n",
              "      <td>...</td>\n",
              "      <td>Monday</td>\n",
              "      <td>18</td>\n",
              "      <td>NaN</td>\n",
              "      <td>NaN</td>\n",
              "      <td>0.5</td>\n",
              "      <td>-0.866025</td>\n",
              "      <td>0.201299</td>\n",
              "      <td>0.97953</td>\n",
              "      <td>164</td>\n",
              "      <td>0.001665</td>\n",
              "    </tr>\n",
              "  </tbody>\n",
              "</table>\n",
              "<p>5 rows × 27 columns</p>\n",
              "</div>\n",
              "    <div class=\"colab-df-buttons\">\n",
              "\n",
              "  <div class=\"colab-df-container\">\n",
              "    <button class=\"colab-df-convert\" onclick=\"convertToInteractive('df-ca3ee346-d00e-4ac5-8158-976e5c99387a')\"\n",
              "            title=\"Convert this dataframe to an interactive table.\"\n",
              "            style=\"display:none;\">\n",
              "\n",
              "  <svg xmlns=\"http://www.w3.org/2000/svg\" height=\"24px\" viewBox=\"0 -960 960 960\">\n",
              "    <path d=\"M120-120v-720h720v720H120Zm60-500h600v-160H180v160Zm220 220h160v-160H400v160Zm0 220h160v-160H400v160ZM180-400h160v-160H180v160Zm440 0h160v-160H620v160ZM180-180h160v-160H180v160Zm440 0h160v-160H620v160Z\"/>\n",
              "  </svg>\n",
              "    </button>\n",
              "\n",
              "  <style>\n",
              "    .colab-df-container {\n",
              "      display:flex;\n",
              "      gap: 12px;\n",
              "    }\n",
              "\n",
              "    .colab-df-convert {\n",
              "      background-color: #E8F0FE;\n",
              "      border: none;\n",
              "      border-radius: 50%;\n",
              "      cursor: pointer;\n",
              "      display: none;\n",
              "      fill: #1967D2;\n",
              "      height: 32px;\n",
              "      padding: 0 0 0 0;\n",
              "      width: 32px;\n",
              "    }\n",
              "\n",
              "    .colab-df-convert:hover {\n",
              "      background-color: #E2EBFA;\n",
              "      box-shadow: 0px 1px 2px rgba(60, 64, 67, 0.3), 0px 1px 3px 1px rgba(60, 64, 67, 0.15);\n",
              "      fill: #174EA6;\n",
              "    }\n",
              "\n",
              "    .colab-df-buttons div {\n",
              "      margin-bottom: 4px;\n",
              "    }\n",
              "\n",
              "    [theme=dark] .colab-df-convert {\n",
              "      background-color: #3B4455;\n",
              "      fill: #D2E3FC;\n",
              "    }\n",
              "\n",
              "    [theme=dark] .colab-df-convert:hover {\n",
              "      background-color: #434B5C;\n",
              "      box-shadow: 0px 1px 3px 1px rgba(0, 0, 0, 0.15);\n",
              "      filter: drop-shadow(0px 1px 2px rgba(0, 0, 0, 0.3));\n",
              "      fill: #FFFFFF;\n",
              "    }\n",
              "  </style>\n",
              "\n",
              "    <script>\n",
              "      const buttonEl =\n",
              "        document.querySelector('#df-ca3ee346-d00e-4ac5-8158-976e5c99387a button.colab-df-convert');\n",
              "      buttonEl.style.display =\n",
              "        google.colab.kernel.accessAllowed ? 'block' : 'none';\n",
              "\n",
              "      async function convertToInteractive(key) {\n",
              "        const element = document.querySelector('#df-ca3ee346-d00e-4ac5-8158-976e5c99387a');\n",
              "        const dataTable =\n",
              "          await google.colab.kernel.invokeFunction('convertToInteractive',\n",
              "                                                    [key], {});\n",
              "        if (!dataTable) return;\n",
              "\n",
              "        const docLinkHtml = 'Like what you see? Visit the ' +\n",
              "          '<a target=\"_blank\" href=https://colab.research.google.com/notebooks/data_table.ipynb>data table notebook</a>'\n",
              "          + ' to learn more about interactive tables.';\n",
              "        element.innerHTML = '';\n",
              "        dataTable['output_type'] = 'display_data';\n",
              "        await google.colab.output.renderOutput(dataTable, element);\n",
              "        const docLink = document.createElement('div');\n",
              "        docLink.innerHTML = docLinkHtml;\n",
              "        element.appendChild(docLink);\n",
              "      }\n",
              "    </script>\n",
              "  </div>\n",
              "\n",
              "\n",
              "    <div id=\"df-dda1ba98-d185-47e9-9a2a-210ce271f686\">\n",
              "      <button class=\"colab-df-quickchart\" onclick=\"quickchart('df-dda1ba98-d185-47e9-9a2a-210ce271f686')\"\n",
              "                title=\"Suggest charts\"\n",
              "                style=\"display:none;\">\n",
              "\n",
              "<svg xmlns=\"http://www.w3.org/2000/svg\" height=\"24px\"viewBox=\"0 0 24 24\"\n",
              "     width=\"24px\">\n",
              "    <g>\n",
              "        <path d=\"M19 3H5c-1.1 0-2 .9-2 2v14c0 1.1.9 2 2 2h14c1.1 0 2-.9 2-2V5c0-1.1-.9-2-2-2zM9 17H7v-7h2v7zm4 0h-2V7h2v10zm4 0h-2v-4h2v4z\"/>\n",
              "    </g>\n",
              "</svg>\n",
              "      </button>\n",
              "\n",
              "<style>\n",
              "  .colab-df-quickchart {\n",
              "      --bg-color: #E8F0FE;\n",
              "      --fill-color: #1967D2;\n",
              "      --hover-bg-color: #E2EBFA;\n",
              "      --hover-fill-color: #174EA6;\n",
              "      --disabled-fill-color: #AAA;\n",
              "      --disabled-bg-color: #DDD;\n",
              "  }\n",
              "\n",
              "  [theme=dark] .colab-df-quickchart {\n",
              "      --bg-color: #3B4455;\n",
              "      --fill-color: #D2E3FC;\n",
              "      --hover-bg-color: #434B5C;\n",
              "      --hover-fill-color: #FFFFFF;\n",
              "      --disabled-bg-color: #3B4455;\n",
              "      --disabled-fill-color: #666;\n",
              "  }\n",
              "\n",
              "  .colab-df-quickchart {\n",
              "    background-color: var(--bg-color);\n",
              "    border: none;\n",
              "    border-radius: 50%;\n",
              "    cursor: pointer;\n",
              "    display: none;\n",
              "    fill: var(--fill-color);\n",
              "    height: 32px;\n",
              "    padding: 0;\n",
              "    width: 32px;\n",
              "  }\n",
              "\n",
              "  .colab-df-quickchart:hover {\n",
              "    background-color: var(--hover-bg-color);\n",
              "    box-shadow: 0 1px 2px rgba(60, 64, 67, 0.3), 0 1px 3px 1px rgba(60, 64, 67, 0.15);\n",
              "    fill: var(--button-hover-fill-color);\n",
              "  }\n",
              "\n",
              "  .colab-df-quickchart-complete:disabled,\n",
              "  .colab-df-quickchart-complete:disabled:hover {\n",
              "    background-color: var(--disabled-bg-color);\n",
              "    fill: var(--disabled-fill-color);\n",
              "    box-shadow: none;\n",
              "  }\n",
              "\n",
              "  .colab-df-spinner {\n",
              "    border: 2px solid var(--fill-color);\n",
              "    border-color: transparent;\n",
              "    border-bottom-color: var(--fill-color);\n",
              "    animation:\n",
              "      spin 1s steps(1) infinite;\n",
              "  }\n",
              "\n",
              "  @keyframes spin {\n",
              "    0% {\n",
              "      border-color: transparent;\n",
              "      border-bottom-color: var(--fill-color);\n",
              "      border-left-color: var(--fill-color);\n",
              "    }\n",
              "    20% {\n",
              "      border-color: transparent;\n",
              "      border-left-color: var(--fill-color);\n",
              "      border-top-color: var(--fill-color);\n",
              "    }\n",
              "    30% {\n",
              "      border-color: transparent;\n",
              "      border-left-color: var(--fill-color);\n",
              "      border-top-color: var(--fill-color);\n",
              "      border-right-color: var(--fill-color);\n",
              "    }\n",
              "    40% {\n",
              "      border-color: transparent;\n",
              "      border-right-color: var(--fill-color);\n",
              "      border-top-color: var(--fill-color);\n",
              "    }\n",
              "    60% {\n",
              "      border-color: transparent;\n",
              "      border-right-color: var(--fill-color);\n",
              "    }\n",
              "    80% {\n",
              "      border-color: transparent;\n",
              "      border-right-color: var(--fill-color);\n",
              "      border-bottom-color: var(--fill-color);\n",
              "    }\n",
              "    90% {\n",
              "      border-color: transparent;\n",
              "      border-bottom-color: var(--fill-color);\n",
              "    }\n",
              "  }\n",
              "</style>\n",
              "\n",
              "      <script>\n",
              "        async function quickchart(key) {\n",
              "          const quickchartButtonEl =\n",
              "            document.querySelector('#' + key + ' button');\n",
              "          quickchartButtonEl.disabled = true;  // To prevent multiple clicks.\n",
              "          quickchartButtonEl.classList.add('colab-df-spinner');\n",
              "          try {\n",
              "            const charts = await google.colab.kernel.invokeFunction(\n",
              "                'suggestCharts', [key], {});\n",
              "          } catch (error) {\n",
              "            console.error('Error during call to suggestCharts:', error);\n",
              "          }\n",
              "          quickchartButtonEl.classList.remove('colab-df-spinner');\n",
              "          quickchartButtonEl.classList.add('colab-df-quickchart-complete');\n",
              "        }\n",
              "        (() => {\n",
              "          let quickchartButtonEl =\n",
              "            document.querySelector('#df-dda1ba98-d185-47e9-9a2a-210ce271f686 button');\n",
              "          quickchartButtonEl.style.display =\n",
              "            google.colab.kernel.accessAllowed ? 'block' : 'none';\n",
              "        })();\n",
              "      </script>\n",
              "    </div>\n",
              "\n",
              "    </div>\n",
              "  </div>\n"
            ],
            "application/vnd.google.colaboratory.intrinsic+json": {
              "type": "dataframe",
              "variable_name": "test_df"
            }
          },
          "metadata": {},
          "execution_count": 8
        }
      ]
    },
    {
      "cell_type": "code",
      "source": [
        "test_df.to_csv('/content/drive/MyDrive/yda_Decision_Tree_250723.csv')"
      ],
      "metadata": {
        "id": "CUAvarvPTStV"
      },
      "execution_count": null,
      "outputs": []
    },
    {
      "cell_type": "code",
      "execution_count": null,
      "metadata": {
        "id": "ArOCTuoQJYkt",
        "colab": {
          "base_uri": "https://localhost:8080/",
          "height": 1000
        },
        "outputId": "8c967d9f-2877-4263-9d4d-5ead9024fcdb"
      },
      "outputs": [
        {
          "output_type": "stream",
          "name": "stdout",
          "text": [
            "Top 10 Feature Importances:\n"
          ]
        },
        {
          "output_type": "display_data",
          "data": {
            "text/plain": [
              "                          Feature  Importance\n",
              "32906  cat__creative_size_640x360    0.250929\n",
              "32900  cat__creative_size_300x250    0.150995\n",
              "32878       cat__digital_small_通信    0.070145\n",
              "32905  cat__creative_size_600x600    0.063306\n",
              "32902  cat__creative_size_320x100    0.058710\n",
              "0                 num__Unnamed: 0    0.052851\n",
              "32885              cat__device_PC    0.043425\n",
              "32886         cat__device_スマートフォン    0.010997\n",
              "4                       num__Week    0.010869\n",
              "32890    cat__campaign_goal_サイト誘導    0.010353"
            ],
            "text/html": [
              "\n",
              "  <div id=\"df-c862642e-5a2a-4875-8d8e-af8299a0552b\" class=\"colab-df-container\">\n",
              "    <div>\n",
              "<style scoped>\n",
              "    .dataframe tbody tr th:only-of-type {\n",
              "        vertical-align: middle;\n",
              "    }\n",
              "\n",
              "    .dataframe tbody tr th {\n",
              "        vertical-align: top;\n",
              "    }\n",
              "\n",
              "    .dataframe thead th {\n",
              "        text-align: right;\n",
              "    }\n",
              "</style>\n",
              "<table border=\"1\" class=\"dataframe\">\n",
              "  <thead>\n",
              "    <tr style=\"text-align: right;\">\n",
              "      <th></th>\n",
              "      <th>Feature</th>\n",
              "      <th>Importance</th>\n",
              "    </tr>\n",
              "  </thead>\n",
              "  <tbody>\n",
              "    <tr>\n",
              "      <th>32906</th>\n",
              "      <td>cat__creative_size_640x360</td>\n",
              "      <td>0.250929</td>\n",
              "    </tr>\n",
              "    <tr>\n",
              "      <th>32900</th>\n",
              "      <td>cat__creative_size_300x250</td>\n",
              "      <td>0.150995</td>\n",
              "    </tr>\n",
              "    <tr>\n",
              "      <th>32878</th>\n",
              "      <td>cat__digital_small_通信</td>\n",
              "      <td>0.070145</td>\n",
              "    </tr>\n",
              "    <tr>\n",
              "      <th>32905</th>\n",
              "      <td>cat__creative_size_600x600</td>\n",
              "      <td>0.063306</td>\n",
              "    </tr>\n",
              "    <tr>\n",
              "      <th>32902</th>\n",
              "      <td>cat__creative_size_320x100</td>\n",
              "      <td>0.058710</td>\n",
              "    </tr>\n",
              "    <tr>\n",
              "      <th>0</th>\n",
              "      <td>num__Unnamed: 0</td>\n",
              "      <td>0.052851</td>\n",
              "    </tr>\n",
              "    <tr>\n",
              "      <th>32885</th>\n",
              "      <td>cat__device_PC</td>\n",
              "      <td>0.043425</td>\n",
              "    </tr>\n",
              "    <tr>\n",
              "      <th>32886</th>\n",
              "      <td>cat__device_スマートフォン</td>\n",
              "      <td>0.010997</td>\n",
              "    </tr>\n",
              "    <tr>\n",
              "      <th>4</th>\n",
              "      <td>num__Week</td>\n",
              "      <td>0.010869</td>\n",
              "    </tr>\n",
              "    <tr>\n",
              "      <th>32890</th>\n",
              "      <td>cat__campaign_goal_サイト誘導</td>\n",
              "      <td>0.010353</td>\n",
              "    </tr>\n",
              "  </tbody>\n",
              "</table>\n",
              "</div>\n",
              "    <div class=\"colab-df-buttons\">\n",
              "\n",
              "  <div class=\"colab-df-container\">\n",
              "    <button class=\"colab-df-convert\" onclick=\"convertToInteractive('df-c862642e-5a2a-4875-8d8e-af8299a0552b')\"\n",
              "            title=\"Convert this dataframe to an interactive table.\"\n",
              "            style=\"display:none;\">\n",
              "\n",
              "  <svg xmlns=\"http://www.w3.org/2000/svg\" height=\"24px\" viewBox=\"0 -960 960 960\">\n",
              "    <path d=\"M120-120v-720h720v720H120Zm60-500h600v-160H180v160Zm220 220h160v-160H400v160Zm0 220h160v-160H400v160ZM180-400h160v-160H180v160Zm440 0h160v-160H620v160ZM180-180h160v-160H180v160Zm440 0h160v-160H620v160Z\"/>\n",
              "  </svg>\n",
              "    </button>\n",
              "\n",
              "  <style>\n",
              "    .colab-df-container {\n",
              "      display:flex;\n",
              "      gap: 12px;\n",
              "    }\n",
              "\n",
              "    .colab-df-convert {\n",
              "      background-color: #E8F0FE;\n",
              "      border: none;\n",
              "      border-radius: 50%;\n",
              "      cursor: pointer;\n",
              "      display: none;\n",
              "      fill: #1967D2;\n",
              "      height: 32px;\n",
              "      padding: 0 0 0 0;\n",
              "      width: 32px;\n",
              "    }\n",
              "\n",
              "    .colab-df-convert:hover {\n",
              "      background-color: #E2EBFA;\n",
              "      box-shadow: 0px 1px 2px rgba(60, 64, 67, 0.3), 0px 1px 3px 1px rgba(60, 64, 67, 0.15);\n",
              "      fill: #174EA6;\n",
              "    }\n",
              "\n",
              "    .colab-df-buttons div {\n",
              "      margin-bottom: 4px;\n",
              "    }\n",
              "\n",
              "    [theme=dark] .colab-df-convert {\n",
              "      background-color: #3B4455;\n",
              "      fill: #D2E3FC;\n",
              "    }\n",
              "\n",
              "    [theme=dark] .colab-df-convert:hover {\n",
              "      background-color: #434B5C;\n",
              "      box-shadow: 0px 1px 3px 1px rgba(0, 0, 0, 0.15);\n",
              "      filter: drop-shadow(0px 1px 2px rgba(0, 0, 0, 0.3));\n",
              "      fill: #FFFFFF;\n",
              "    }\n",
              "  </style>\n",
              "\n",
              "    <script>\n",
              "      const buttonEl =\n",
              "        document.querySelector('#df-c862642e-5a2a-4875-8d8e-af8299a0552b button.colab-df-convert');\n",
              "      buttonEl.style.display =\n",
              "        google.colab.kernel.accessAllowed ? 'block' : 'none';\n",
              "\n",
              "      async function convertToInteractive(key) {\n",
              "        const element = document.querySelector('#df-c862642e-5a2a-4875-8d8e-af8299a0552b');\n",
              "        const dataTable =\n",
              "          await google.colab.kernel.invokeFunction('convertToInteractive',\n",
              "                                                    [key], {});\n",
              "        if (!dataTable) return;\n",
              "\n",
              "        const docLinkHtml = 'Like what you see? Visit the ' +\n",
              "          '<a target=\"_blank\" href=https://colab.research.google.com/notebooks/data_table.ipynb>data table notebook</a>'\n",
              "          + ' to learn more about interactive tables.';\n",
              "        element.innerHTML = '';\n",
              "        dataTable['output_type'] = 'display_data';\n",
              "        await google.colab.output.renderOutput(dataTable, element);\n",
              "        const docLink = document.createElement('div');\n",
              "        docLink.innerHTML = docLinkHtml;\n",
              "        element.appendChild(docLink);\n",
              "      }\n",
              "    </script>\n",
              "  </div>\n",
              "\n",
              "\n",
              "    <div id=\"df-ace64756-01f4-4d4f-9527-1ba55c62687f\">\n",
              "      <button class=\"colab-df-quickchart\" onclick=\"quickchart('df-ace64756-01f4-4d4f-9527-1ba55c62687f')\"\n",
              "                title=\"Suggest charts\"\n",
              "                style=\"display:none;\">\n",
              "\n",
              "<svg xmlns=\"http://www.w3.org/2000/svg\" height=\"24px\"viewBox=\"0 0 24 24\"\n",
              "     width=\"24px\">\n",
              "    <g>\n",
              "        <path d=\"M19 3H5c-1.1 0-2 .9-2 2v14c0 1.1.9 2 2 2h14c1.1 0 2-.9 2-2V5c0-1.1-.9-2-2-2zM9 17H7v-7h2v7zm4 0h-2V7h2v10zm4 0h-2v-4h2v4z\"/>\n",
              "    </g>\n",
              "</svg>\n",
              "      </button>\n",
              "\n",
              "<style>\n",
              "  .colab-df-quickchart {\n",
              "      --bg-color: #E8F0FE;\n",
              "      --fill-color: #1967D2;\n",
              "      --hover-bg-color: #E2EBFA;\n",
              "      --hover-fill-color: #174EA6;\n",
              "      --disabled-fill-color: #AAA;\n",
              "      --disabled-bg-color: #DDD;\n",
              "  }\n",
              "\n",
              "  [theme=dark] .colab-df-quickchart {\n",
              "      --bg-color: #3B4455;\n",
              "      --fill-color: #D2E3FC;\n",
              "      --hover-bg-color: #434B5C;\n",
              "      --hover-fill-color: #FFFFFF;\n",
              "      --disabled-bg-color: #3B4455;\n",
              "      --disabled-fill-color: #666;\n",
              "  }\n",
              "\n",
              "  .colab-df-quickchart {\n",
              "    background-color: var(--bg-color);\n",
              "    border: none;\n",
              "    border-radius: 50%;\n",
              "    cursor: pointer;\n",
              "    display: none;\n",
              "    fill: var(--fill-color);\n",
              "    height: 32px;\n",
              "    padding: 0;\n",
              "    width: 32px;\n",
              "  }\n",
              "\n",
              "  .colab-df-quickchart:hover {\n",
              "    background-color: var(--hover-bg-color);\n",
              "    box-shadow: 0 1px 2px rgba(60, 64, 67, 0.3), 0 1px 3px 1px rgba(60, 64, 67, 0.15);\n",
              "    fill: var(--button-hover-fill-color);\n",
              "  }\n",
              "\n",
              "  .colab-df-quickchart-complete:disabled,\n",
              "  .colab-df-quickchart-complete:disabled:hover {\n",
              "    background-color: var(--disabled-bg-color);\n",
              "    fill: var(--disabled-fill-color);\n",
              "    box-shadow: none;\n",
              "  }\n",
              "\n",
              "  .colab-df-spinner {\n",
              "    border: 2px solid var(--fill-color);\n",
              "    border-color: transparent;\n",
              "    border-bottom-color: var(--fill-color);\n",
              "    animation:\n",
              "      spin 1s steps(1) infinite;\n",
              "  }\n",
              "\n",
              "  @keyframes spin {\n",
              "    0% {\n",
              "      border-color: transparent;\n",
              "      border-bottom-color: var(--fill-color);\n",
              "      border-left-color: var(--fill-color);\n",
              "    }\n",
              "    20% {\n",
              "      border-color: transparent;\n",
              "      border-left-color: var(--fill-color);\n",
              "      border-top-color: var(--fill-color);\n",
              "    }\n",
              "    30% {\n",
              "      border-color: transparent;\n",
              "      border-left-color: var(--fill-color);\n",
              "      border-top-color: var(--fill-color);\n",
              "      border-right-color: var(--fill-color);\n",
              "    }\n",
              "    40% {\n",
              "      border-color: transparent;\n",
              "      border-right-color: var(--fill-color);\n",
              "      border-top-color: var(--fill-color);\n",
              "    }\n",
              "    60% {\n",
              "      border-color: transparent;\n",
              "      border-right-color: var(--fill-color);\n",
              "    }\n",
              "    80% {\n",
              "      border-color: transparent;\n",
              "      border-right-color: var(--fill-color);\n",
              "      border-bottom-color: var(--fill-color);\n",
              "    }\n",
              "    90% {\n",
              "      border-color: transparent;\n",
              "      border-bottom-color: var(--fill-color);\n",
              "    }\n",
              "  }\n",
              "</style>\n",
              "\n",
              "      <script>\n",
              "        async function quickchart(key) {\n",
              "          const quickchartButtonEl =\n",
              "            document.querySelector('#' + key + ' button');\n",
              "          quickchartButtonEl.disabled = true;  // To prevent multiple clicks.\n",
              "          quickchartButtonEl.classList.add('colab-df-spinner');\n",
              "          try {\n",
              "            const charts = await google.colab.kernel.invokeFunction(\n",
              "                'suggestCharts', [key], {});\n",
              "          } catch (error) {\n",
              "            console.error('Error during call to suggestCharts:', error);\n",
              "          }\n",
              "          quickchartButtonEl.classList.remove('colab-df-spinner');\n",
              "          quickchartButtonEl.classList.add('colab-df-quickchart-complete');\n",
              "        }\n",
              "        (() => {\n",
              "          let quickchartButtonEl =\n",
              "            document.querySelector('#df-ace64756-01f4-4d4f-9527-1ba55c62687f button');\n",
              "          quickchartButtonEl.style.display =\n",
              "            google.colab.kernel.accessAllowed ? 'block' : 'none';\n",
              "        })();\n",
              "      </script>\n",
              "    </div>\n",
              "\n",
              "    </div>\n",
              "  </div>\n"
            ],
            "application/vnd.google.colaboratory.intrinsic+json": {
              "type": "dataframe",
              "summary": "{\n  \"name\": \"plt\",\n  \"rows\": 10,\n  \"fields\": [\n    {\n      \"column\": \"Feature\",\n      \"properties\": {\n        \"dtype\": \"string\",\n        \"num_unique_values\": 10,\n        \"samples\": [\n          \"num__Week\",\n          \"cat__creative_size_300x250\",\n          \"num__Unnamed: 0\"\n        ],\n        \"semantic_type\": \"\",\n        \"description\": \"\"\n      }\n    },\n    {\n      \"column\": \"Importance\",\n      \"properties\": {\n        \"dtype\": \"number\",\n        \"std\": 0.07524227486550532,\n        \"min\": 0.01035261155443866,\n        \"max\": 0.25092875269469933,\n        \"num_unique_values\": 10,\n        \"samples\": [\n          0.010869460410335936,\n          0.1509953419067634,\n          0.0528513799544772\n        ],\n        \"semantic_type\": \"\",\n        \"description\": \"\"\n      }\n    }\n  ]\n}"
            }
          },
          "metadata": {}
        },
        {
          "output_type": "stream",
          "name": "stderr",
          "text": [
            "/tmp/ipython-input-10-2047746053.py:24: UserWarning: Glyph 36890 (\\N{CJK UNIFIED IDEOGRAPH-901A}) missing from font(s) DejaVu Sans.\n",
            "  plt.tight_layout()\n",
            "/tmp/ipython-input-10-2047746053.py:24: UserWarning: Glyph 20449 (\\N{CJK UNIFIED IDEOGRAPH-4FE1}) missing from font(s) DejaVu Sans.\n",
            "  plt.tight_layout()\n",
            "/tmp/ipython-input-10-2047746053.py:24: UserWarning: Glyph 12473 (\\N{KATAKANA LETTER SU}) missing from font(s) DejaVu Sans.\n",
            "  plt.tight_layout()\n",
            "/tmp/ipython-input-10-2047746053.py:24: UserWarning: Glyph 12510 (\\N{KATAKANA LETTER MA}) missing from font(s) DejaVu Sans.\n",
            "  plt.tight_layout()\n",
            "/tmp/ipython-input-10-2047746053.py:24: UserWarning: Glyph 12540 (\\N{KATAKANA-HIRAGANA PROLONGED SOUND MARK}) missing from font(s) DejaVu Sans.\n",
            "  plt.tight_layout()\n",
            "/tmp/ipython-input-10-2047746053.py:24: UserWarning: Glyph 12488 (\\N{KATAKANA LETTER TO}) missing from font(s) DejaVu Sans.\n",
            "  plt.tight_layout()\n",
            "/tmp/ipython-input-10-2047746053.py:24: UserWarning: Glyph 12501 (\\N{KATAKANA LETTER HU}) missing from font(s) DejaVu Sans.\n",
            "  plt.tight_layout()\n",
            "/tmp/ipython-input-10-2047746053.py:24: UserWarning: Glyph 12457 (\\N{KATAKANA LETTER SMALL O}) missing from font(s) DejaVu Sans.\n",
            "  plt.tight_layout()\n",
            "/tmp/ipython-input-10-2047746053.py:24: UserWarning: Glyph 12531 (\\N{KATAKANA LETTER N}) missing from font(s) DejaVu Sans.\n",
            "  plt.tight_layout()\n",
            "/tmp/ipython-input-10-2047746053.py:24: UserWarning: Glyph 12469 (\\N{KATAKANA LETTER SA}) missing from font(s) DejaVu Sans.\n",
            "  plt.tight_layout()\n",
            "/tmp/ipython-input-10-2047746053.py:24: UserWarning: Glyph 12452 (\\N{KATAKANA LETTER I}) missing from font(s) DejaVu Sans.\n",
            "  plt.tight_layout()\n",
            "/tmp/ipython-input-10-2047746053.py:24: UserWarning: Glyph 35480 (\\N{CJK UNIFIED IDEOGRAPH-8A98}) missing from font(s) DejaVu Sans.\n",
            "  plt.tight_layout()\n",
            "/tmp/ipython-input-10-2047746053.py:24: UserWarning: Glyph 23566 (\\N{CJK UNIFIED IDEOGRAPH-5C0E}) missing from font(s) DejaVu Sans.\n",
            "  plt.tight_layout()\n",
            "/usr/local/lib/python3.11/dist-packages/IPython/core/pylabtools.py:151: UserWarning: Glyph 36890 (\\N{CJK UNIFIED IDEOGRAPH-901A}) missing from font(s) DejaVu Sans.\n",
            "  fig.canvas.print_figure(bytes_io, **kw)\n",
            "/usr/local/lib/python3.11/dist-packages/IPython/core/pylabtools.py:151: UserWarning: Glyph 20449 (\\N{CJK UNIFIED IDEOGRAPH-4FE1}) missing from font(s) DejaVu Sans.\n",
            "  fig.canvas.print_figure(bytes_io, **kw)\n",
            "/usr/local/lib/python3.11/dist-packages/IPython/core/pylabtools.py:151: UserWarning: Glyph 12473 (\\N{KATAKANA LETTER SU}) missing from font(s) DejaVu Sans.\n",
            "  fig.canvas.print_figure(bytes_io, **kw)\n",
            "/usr/local/lib/python3.11/dist-packages/IPython/core/pylabtools.py:151: UserWarning: Glyph 12510 (\\N{KATAKANA LETTER MA}) missing from font(s) DejaVu Sans.\n",
            "  fig.canvas.print_figure(bytes_io, **kw)\n",
            "/usr/local/lib/python3.11/dist-packages/IPython/core/pylabtools.py:151: UserWarning: Glyph 12540 (\\N{KATAKANA-HIRAGANA PROLONGED SOUND MARK}) missing from font(s) DejaVu Sans.\n",
            "  fig.canvas.print_figure(bytes_io, **kw)\n",
            "/usr/local/lib/python3.11/dist-packages/IPython/core/pylabtools.py:151: UserWarning: Glyph 12488 (\\N{KATAKANA LETTER TO}) missing from font(s) DejaVu Sans.\n",
            "  fig.canvas.print_figure(bytes_io, **kw)\n",
            "/usr/local/lib/python3.11/dist-packages/IPython/core/pylabtools.py:151: UserWarning: Glyph 12501 (\\N{KATAKANA LETTER HU}) missing from font(s) DejaVu Sans.\n",
            "  fig.canvas.print_figure(bytes_io, **kw)\n",
            "/usr/local/lib/python3.11/dist-packages/IPython/core/pylabtools.py:151: UserWarning: Glyph 12457 (\\N{KATAKANA LETTER SMALL O}) missing from font(s) DejaVu Sans.\n",
            "  fig.canvas.print_figure(bytes_io, **kw)\n",
            "/usr/local/lib/python3.11/dist-packages/IPython/core/pylabtools.py:151: UserWarning: Glyph 12531 (\\N{KATAKANA LETTER N}) missing from font(s) DejaVu Sans.\n",
            "  fig.canvas.print_figure(bytes_io, **kw)\n",
            "/usr/local/lib/python3.11/dist-packages/IPython/core/pylabtools.py:151: UserWarning: Glyph 12469 (\\N{KATAKANA LETTER SA}) missing from font(s) DejaVu Sans.\n",
            "  fig.canvas.print_figure(bytes_io, **kw)\n",
            "/usr/local/lib/python3.11/dist-packages/IPython/core/pylabtools.py:151: UserWarning: Glyph 12452 (\\N{KATAKANA LETTER I}) missing from font(s) DejaVu Sans.\n",
            "  fig.canvas.print_figure(bytes_io, **kw)\n",
            "/usr/local/lib/python3.11/dist-packages/IPython/core/pylabtools.py:151: UserWarning: Glyph 35480 (\\N{CJK UNIFIED IDEOGRAPH-8A98}) missing from font(s) DejaVu Sans.\n",
            "  fig.canvas.print_figure(bytes_io, **kw)\n",
            "/usr/local/lib/python3.11/dist-packages/IPython/core/pylabtools.py:151: UserWarning: Glyph 23566 (\\N{CJK UNIFIED IDEOGRAPH-5C0E}) missing from font(s) DejaVu Sans.\n",
            "  fig.canvas.print_figure(bytes_io, **kw)\n"
          ]
        },
        {
          "output_type": "display_data",
          "data": {
            "text/plain": [
              "<Figure size 1200x600 with 1 Axes>"
            ],
            "image/png": "[encoded data removed]"
          },
          "metadata": {}
        }
      ],
      "source": [
        "# Get feature importances from the trained DecisionTreeRegressor model\n",
        "importances = model.feature_importances_\n",
        "\n",
        "# Get the feature names after preprocessing\n",
        "# The get_feature_names_out() method is available on the fitted preprocessor\n",
        "feature_names = preprocessor.get_feature_names_out()\n",
        "\n",
        "# Create a DataFrame for better visualization\n",
        "importance_df = pd.DataFrame({'Feature': feature_names, 'Importance': importances})\n",
        "\n",
        "# Sort features by importance in descending order\n",
        "importance_df = importance_df.sort_values(by='Importance', ascending=False)\n",
        "\n",
        "# Display the top 10 most important features\n",
        "print(\"Top 10 Feature Importances:\")\n",
        "display(importance_df.head(10))\n",
        "\n",
        "# Visualize the top 10 feature importances\n",
        "plt.figure(figsize=(12, 6))\n",
        "sns.barplot(x='Importance', y='Feature', data=importance_df.head(10))\n",
        "plt.title('Top 10 Feature Importances (Decision Tree Regressor)')\n",
        "plt.xlabel('Importance')\n",
        "plt.ylabel('Feature')\n",
        "plt.tight_layout()\n",
        "plt.show()"
      ]
    },
    {
      "cell_type": "markdown",
      "metadata": {
        "id": "R0IvZ3YI6XBP"
      },
      "source": [
        "# 新しいセクション"
      ]
    },
    {
      "cell_type": "code",
      "execution_count": null,
      "metadata": {
        "id": "LgHP3DlpJzbe"
      },
      "outputs": [],
      "source": [
        "# Function to get major category (first digit)\n",
        "def get_major_category(value):\n",
        "    if pd.isna(value):  # Handle NaN values\n",
        "        return None\n",
        "    # Convert to integer and divide by 1000 to get first digit\n",
        "    return int(value) // 1000\n",
        "\n",
        "\n",
        "def decode_annotation_init(annotation_str):\n",
        "    try:\n",
        "        # Initialize empty dictionary for decoded features\n",
        "        decoded = {}\n",
        "\n",
        "        # Parse JSON string\n",
        "        json_obj = json.loads(annotation_str)\n",
        "\n",
        "        # Process each key-value pair in the JSON\n",
        "        for key, value in json_obj.items():\n",
        "            # Handle integer values\n",
        "            if isinstance(value, int):\n",
        "                decoded[f'{key}_{value}'] = 1\n",
        "            # Handle list values\n",
        "            elif isinstance(value, list):\n",
        "                for item in value:\n",
        "                    if isinstance(item, dict) and 'id' in item:\n",
        "                        # If area exists, create area feature\n",
        "                        if 'area' in item:\n",
        "                            decoded[f'{key}_{item[\"id\"]}_area'] = float(item['area'])\n",
        "                            decoded[f'{key}_{item[\"id\"]}'] = 1\n",
        "                        else:\n",
        "                            # Create binary indicator for this ID\n",
        "                            # decoded[f'{key}_{item[\"id\"]}'] = 1\n",
        "                            if get_major_category(item['id']) == 0:\n",
        "                                decoded[f'{key}_1'] = item['id'] - 1000\n",
        "                                decoded[f'{key}_{item[\"id\"]}'] = 1\n",
        "                            # elif (get_major_category(item['id']) == 2) and (key == 'banner_tagging_background'):\n",
        "                            #     decoded[f'{key}_2'] = item['id']\n",
        "                            # elif get_major_category(item['id']) == 3:\n",
        "                            #     decoded[f'{key}_3'] = item['id'] - 3000\n",
        "                            #     decoded[f'{key}_{item[\"id\"]}'] = 1\n",
        "                            # elif get_major_category(item['id']) == 5:\n",
        "                            #     decoded[f'{key}_5'] = item['id'] - 5000\n",
        "                            #     decoded[f'{key}_{item[\"id\"]}'] = 1\n",
        "                            else:\n",
        "                                if decoded.get(f'{key}_{item[\"id\"]}') is None:\n",
        "                                    decoded[f'{key}_{item[\"id\"]}'] = 1\n",
        "                                else:\n",
        "                                    decoded[f'{key}_{item[\"id\"]}'] += 1\n",
        "            # Handle string values (like some background tags)\n",
        "            elif isinstance(value, str):\n",
        "                decoded[f'{key}'] = value\n",
        "\n",
        "        return pd.Series(decoded)\n",
        "    except:\n",
        "        return pd.Series({})\n",
        "\n",
        "\n",
        "def decode_annotation(annotation_str):\n",
        "    try:\n",
        "        # Initialize empty dictionary for decoded features\n",
        "        decoded = {}\n",
        "\n",
        "        # Parse JSON string\n",
        "        json_obj = json.loads(annotation_str)\n",
        "\n",
        "        # Process each key-value pair in the JSON\n",
        "        for key, value in json_obj.items():\n",
        "            # Handle integer values\n",
        "            if isinstance(value, int):\n",
        "                decoded[f'{key}_{value}'] = 1\n",
        "            # Handle list values\n",
        "            elif isinstance(value, list):\n",
        "                for item in value:\n",
        "                    if isinstance(item, dict) and 'id' in item:\n",
        "                        # If area exists, create area feature\n",
        "                        if 'area' in item:\n",
        "                            decoded[f'{key}_{item[\"id\"]}_area'] = float(item['area'])\n",
        "                            decoded[f'{key}_{item[\"id\"]}'] = 1\n",
        "                        else:\n",
        "                            # Create binary indicator for this ID\n",
        "                            # decoded[f'{key}_{item[\"id\"]}'] = 1\n",
        "                            if get_major_category(item['id']) == 1:\n",
        "                                decoded[f'{key}_1'] = item['id'] - 1000\n",
        "                                decoded[f'{key}_{item[\"id\"]}'] = 1\n",
        "                            # elif (get_major_category(item['id']) == 2) and (key == 'banner_tagging_background'):\n",
        "                            #     decoded[f'{key}_2'] = item['id']\n",
        "                            elif get_major_category(item['id']) == 3:\n",
        "                                decoded[f'{key}_3'] = item['id'] - 3000\n",
        "                                decoded[f'{key}_{item[\"id\"]}'] = 1\n",
        "                            elif get_major_category(item['id']) == 5:\n",
        "                                decoded[f'{key}_5'] = item['id'] - 5000\n",
        "                                decoded[f'{key}_{item[\"id\"]}'] = 1\n",
        "                            else:\n",
        "                                if decoded.get(f'{key}_{item[\"id\"]}') is None:\n",
        "                                    decoded[f'{key}_{item[\"id\"]}'] = 1\n",
        "                                else:\n",
        "                                    decoded[f'{key}_{item[\"id\"]}'] += 1\n",
        "            # Handle string values (like some background tags)\n",
        "            elif isinstance(value, str):\n",
        "                decoded[f'{key}'] = value\n",
        "\n",
        "        return pd.Series(decoded)\n",
        "    except:\n",
        "        return pd.Series({})"
      ]
    },
    {
      "cell_type": "code",
      "execution_count": null,
      "metadata": {
        "id": "ajsgXF9pJ3oG"
      },
      "outputs": [],
      "source": [
        "annotation_features_init = train_df['annotation'].apply(decode_annotation_init)\n",
        "annotation_features_init.fillna(0, inplace=True)\n",
        "annotation_features_init_1 = annotation_features_init.filter(regex='1.{3}$')\n",
        "annotation_features_init_1[annotation_features_init_1 > 1].sum()"
      ]
    },
    {
      "cell_type": "code",
      "execution_count": null,
      "metadata": {
        "id": "AcrRq_-zPqmr"
      },
      "outputs": [],
      "source": [
        "annotation_features_init_1[annotation_features_init_1.sum(axis=1) > 1]"
      ]
    },
    {
      "cell_type": "code",
      "execution_count": null,
      "metadata": {
        "id": "5BZjHmVKLPmV"
      },
      "outputs": [],
      "source": [
        "annotation_features_init_2 = annotation_features_init.filter(regex='2.{3}$')\n",
        "annotation_features_init_2[annotation_features_init_2 > 1].sum()"
      ]
    },
    {
      "cell_type": "code",
      "execution_count": null,
      "metadata": {
        "id": "qbVTQ9R-N1mt"
      },
      "outputs": [],
      "source": [
        "annotation_features_init_3 = annotation_features_init.filter(regex='3.{3}$')\n",
        "annotation_features_init_3[annotation_features_init_3 > 1].sum()"
      ]
    },
    {
      "cell_type": "code",
      "execution_count": null,
      "metadata": {
        "id": "YcgszIXAQIh_"
      },
      "outputs": [],
      "source": [
        "annotation_features_init_2[annotation_features_init_2.sum(axis=1) > 1]"
      ]
    },
    {
      "cell_type": "code",
      "execution_count": null,
      "metadata": {
        "id": "XfovP_KLQOm9"
      },
      "outputs": [],
      "source": [
        "annotation_features_init_3[annotation_features_init_3.sum(axis=1) > 1]"
      ]
    },
    {
      "cell_type": "code",
      "execution_count": null,
      "metadata": {
        "id": "MOYff0SJN1a0"
      },
      "outputs": [],
      "source": [
        "annotation_features_init_4 = annotation_features_init.filter(regex='4.{3}$')\n",
        "annotation_features_init_4[annotation_features_init_4 > 1].sum()"
      ]
    },
    {
      "cell_type": "code",
      "execution_count": null,
      "metadata": {
        "id": "u2nKomQCQRkd"
      },
      "outputs": [],
      "source": [
        "annotation_features_init_4[annotation_features_init_4.sum(axis=1) > 1]"
      ]
    },
    {
      "cell_type": "code",
      "execution_count": null,
      "metadata": {
        "id": "aD2Fs1DEOA-d"
      },
      "outputs": [],
      "source": [
        "test_annotation_features_init = test_df_expanded['annotation'].apply(decode_annotation_init)\n",
        "test_annotation_features_init.fillna(0, inplace=True)"
      ]
    },
    {
      "cell_type": "code",
      "execution_count": null,
      "metadata": {
        "id": "l_EzDLWMOGwo"
      },
      "outputs": [],
      "source": [
        "train_df['creative_call_to_action_type'].value_counts()"
      ]
    },
    {
      "cell_type": "code",
      "execution_count": null,
      "metadata": {
        "id": "GnYdUehZOgOm"
      },
      "outputs": [],
      "source": [
        "annotation_features_init = annotation_features_init.astype(object).copy()\n",
        "test_annotation_features_init = test_annotation_features_init.astype(object).copy()\n",
        "\n",
        "annotation_features_init.info()"
      ]
    },
    {
      "cell_type": "code",
      "execution_count": null,
      "metadata": {
        "id": "towmuIRWO1lM"
      },
      "outputs": [],
      "source": [
        "df1_columns = set(annotation_features_init.columns)\n",
        "df2_columns = set(test_annotation_features_init.columns)"
      ]
    },
    {
      "cell_type": "code",
      "execution_count": null,
      "metadata": {
        "id": "GX8HaY5aO4xU"
      },
      "outputs": [],
      "source": [
        "common_cols = list(annotation_features_init.columns.intersection(test_annotation_features_init.columns))\n",
        "df1_common = annotation_features_init[common_cols]\n",
        "df2_common = test_annotation_features_init[common_cols]\n",
        "df1_common.shape, df2_common.shape"
      ]
    },
    {
      "cell_type": "code",
      "execution_count": null,
      "metadata": {
        "id": "HhDHj23un1Vw"
      },
      "outputs": [],
      "source": [
        "train_df = pd.concat([train_df, df1_common], axis=1)\n",
        "# Drop the original annotation column\n",
        "train_df = train_df.drop(columns=['annotation'])\n",
        "\n",
        "# Save the updated dataframe to a new CSV file\n",
        "train_df.to_csv('/content/drive/MyDrive/Colab Notebooks/training_data_lap_processed.csv', index=False)\n",
        "# 保存 - pickle会完整保留数据类型\n",
        "train_df.to_pickle('/content/drive/MyDrive/Colab Notebooks/training_data_lap_processed.pkl')\n",
        "train_df.info()"
      ]
    },
    {
      "cell_type": "code",
      "execution_count": null,
      "metadata": {
        "id": "LEJpLN_HpMYX"
      },
      "outputs": [],
      "source": [
        "from google.colab import drive\n",
        "drive.mount('/content/drive')"
      ]
    },
    {
      "cell_type": "markdown",
      "metadata": {
        "id": "vDXC1H4DKIiw"
      },
      "source": [
        "a"
      ]
    },
    {
      "cell_type": "code",
      "execution_count": null,
      "metadata": {
        "id": "8mvXd0T9agS4"
      },
      "outputs": [],
      "source": [
        "from sklearn.pipeline import Pipeline\n",
        "from sklearn.preprocessing import StandardScaler, OneHotEncoder\n",
        "from sklearn.compose import ColumnTransformer\n",
        "from sklearn.impute import SimpleImputer\n",
        "\n",
        "# Preprocessing pipeline for numerical features\n",
        "num_pipeline = Pipeline(steps=[\n",
        "    # ('imputer', SimpleImputer(strategy='median')),\n",
        "    ('scaler', StandardScaler())                       # Scale numerical features\n",
        "])\n",
        "\n",
        "# Preprocessing pipeline for categorical features\n",
        "cat_pipeline = Pipeline(steps=[\n",
        "    # ('imputer', SimpleImputer(strategy='constant', fill_value='Unknown')),  # Handle missing values\n",
        "    ('onehot', OneHotEncoder(handle_unknown='ignore')) # Encode categorical features\n",
        "])\n",
        "\n",
        "# Define the features to be used, excluding the target and related columns, and delivery_days\n",
        "features = [col for col in X.columns if col not in ['cumu_ctr', 'cumu_clicks', 'cumu_cost', 'cumu_impressions', 'delivery_days']]\n",
        "\n",
        "# Define numerical and categorical features based on the selected features\n",
        "numerical_features = X[features].select_dtypes(exclude=['object']).columns\n",
        "categorical_features = X[features].select_dtypes(include=['object']).columns\n",
        "\n",
        "\n",
        "# Combine pipelines into a ColumnTransformer\n",
        "preprocessor = ColumnTransformer(\n",
        "    transformers=[\n",
        "        ('num', num_pipeline, numerical_features),\n",
        "        ('cat', cat_pipeline, categorical_features)\n",
        "    ]\n",
        ")\n",
        "\n",
        "# Preprocess train and test data\n",
        "X_processed = preprocessor.fit_transform(X[features])\n",
        "X_test_processed = preprocessor.transform(X_test[features])"
      ]
    },
    {
      "cell_type": "code",
      "execution_count": null,
      "metadata": {
        "id": "hVNq0I3mpAX5"
      },
      "outputs": [],
      "source": [
        "X.shape\n"
      ]
    },
    {
      "cell_type": "code",
      "execution_count": null,
      "metadata": {
        "id": "7Xiig-3upXKc"
      },
      "outputs": [],
      "source": [
        "X_processed.shape, X_test_processed.shape"
      ]
    },
    {
      "cell_type": "code",
      "execution_count": null,
      "metadata": {
        "id": "GNR6OHE1p5AI"
      },
      "outputs": [],
      "source": [
        "X_train = X_processed\n",
        "y_train = y"
      ]
    },
    {
      "cell_type": "code",
      "execution_count": null,
      "metadata": {
        "id": "vin86P1Wp8_E"
      },
      "outputs": [],
      "source": [
        "X_test_processed.shape"
      ]
    },
    {
      "cell_type": "code",
      "execution_count": null,
      "metadata": {
        "id": "jw_q2xYNLZ3F"
      },
      "outputs": [],
      "source": [
        "from sklearn.model_selection import train_test_split\n",
        "X_train, X_test, y_train, y_test = train_test_split(X_processed, )"
      ]
    },
    {
      "cell_type": "code",
      "execution_count": null,
      "metadata": {
        "id": "QgXyRxIgxe4S"
      },
      "outputs": [],
      "source": [
        "from sklearn.linear_model import LinearRegression\n",
        "from sklearn.metrics import mean_squared_error\n",
        "from sklearn.metrics import root_mean_squared_error # Import root_mean_squared_error\n",
        "\n",
        "from sklearn.linear_model import LinearRegression, Ridge, Lasso\n",
        "for Model in [LinearRegression, Ridge, Lasso]:\n",
        "  model = Model()\n",
        "  model.fit(X_train, y_train)\n",
        "  # Predict on the training data to calculate RMSE on the training set\n",
        "  y_train_pred = model.predict(X_train)\n",
        "  rmse = root_mean_squared_error(y_train, y_train_pred)\n",
        "  print(f\"criterion={Model.__name__:18s}: RMSE={rmse:.6f}\")\n",
        "\n",
        "  y_pred_test = model.predict(X_test_processed)\n",
        "\n",
        "  # Calculate the mean of the training target variable\n",
        "  mean_y_train = y_train.mean()\n",
        "\n",
        "  # Calculate RMSE between predicted test values and the mean of the training target\n",
        "  rmse_test_vs_mean_train = root_mean_squared_error(y_pred_test, [mean_y_train] * len(y_pred_test))\n",
        "\n",
        "  print(f\"予測テストデータと訓練データターゲット平均値とのRMSE (参考値): {rmse_test_vs_mean_train:.6f}\")"
      ]
    },
    {
      "cell_type": "code",
      "execution_count": null,
      "metadata": {
        "id": "2sEWPHjyo9GI"
      },
      "outputs": [],
      "source": [
        "y_pred_test = model.predict(X_test_processed)"
      ]
    },
    {
      "cell_type": "code",
      "execution_count": null,
      "metadata": {
        "id": "YM6TNrB5rgBM"
      },
      "outputs": [],
      "source": [
        "y_train_pred = cmodel.predict(X_train)\n",
        "\n",
        "# Calculate RMSE on the training data\n",
        "rmse_train = root_mean_squared_error(y_train, y_train_pred)\n",
        "\n",
        "print(f\"訓練データでのRMSE: {rmse_train}\")"
      ]
    },
    {
      "cell_type": "markdown",
      "metadata": {
        "id": "2IMQVvxv9to9"
      },
      "source": [
        "# 全部一気に"
      ]
    },
    {
      "cell_type": "code",
      "execution_count": null,
      "metadata": {
        "id": "a5d647c4"
      },
      "outputs": [],
      "source": [
        "import matplotlib.pyplot as plt\n",
        "import seaborn as sns\n",
        "from sklearn.linear_model import LinearRegression, Ridge, Lasso\n",
        "from sklearn.metrics import root_mean_squared_error\n",
        "\n",
        "# Define the models to evaluate\n",
        "models = {\n",
        "    \"Linear Regression\": LinearRegression(),\n",
        "    \"Ridge\": Ridge(alpha=5, max_iter=100000),\n",
        "    \"Lasso\": Lasso(alpha=5, max_iter=100000)\n",
        "}\n",
        "\n",
        "# Assuming X_train and y_train are already defined and preprocessed\n",
        "\n",
        "for model_name, model in models.items():\n",
        "    # Train the model\n",
        "    model.fit(X_train, y_train)\n",
        "\n",
        "    # Predict on the training data\n",
        "    y_train_pred = model.predict(X_train)\n",
        "\n",
        "    # Calculate RMSE on the training data\n",
        "    rmse_train = root_mean_squared_error(y_train, y_train_pred)\n",
        "    print(f\"Model: {model_name}, RMSE on Training Data: {rmse_train:.4f}\")\n",
        "     # Calculate the mean of the training target variable\n",
        "    mean_y_train = y_train.mean()\n",
        "\n",
        "# Calculate RMSE between predicted test values and the mean of the training target\n",
        "    rmse_test_vs_mean_train = root_mean_squared_error(y_pred_test, [mean_y_train] * len(y_pred_test))\n",
        "    print(f\"予測テストデータと訓練データターゲット平均値とのRMSE (参考値): {rmse_test_vs_mean_train:.6f}\")\n",
        "\n",
        "    # Create scatter plot\n",
        "    plt.figure(figsize=(10, 6))\n",
        "    sns.scatterplot(x=y_train, y=y_train_pred, alpha=0.5)\n",
        "\n",
        "    # Add the y=x line (perfect prediction line)\n",
        "    plt.plot([y_train.min(), y_train.max()], [y_train.min(), y_train.max()], 'r--', lw=2)\n",
        "\n",
        "    plt.title(f'Actual vs Predicted Values (Training Data) - {model_name}')\n",
        "    plt.xlabel('Actual cumu_ctr (Training Data)')\n",
        "    plt.ylabel('Predicted cumu_ctr (Training Data)')\n",
        "    plt.grid(True)\n",
        "    plt.show()\n",
        "\n",
        "    # Describe the trend\n",
        "    print(f\"--- {model_name} の動向 ---\")\n",
        "    print(f\"- 訓練データでのRMSEは {rmse_train:.6f} です。\")\n",
        "\n",
        "    print(\"-\" * (len(f\"--- {model_name} の動向 ---\")))\n",
        "    print(\"\\n\")"
      ]
    },
    {
      "cell_type": "code",
      "execution_count": null,
      "metadata": {
        "id": "c40dbcb0"
      },
      "outputs": [],
      "source": [
        "# Calculate the mean of the training target variable\n",
        "mean_y_train = y_train.mean()\n",
        "\n",
        "# Calculate RMSE between predicted test values and the mean of the training target\n",
        "rmse_test_vs_mean_train = root_mean_squared_error(y_pred_test, [mean_y_train] * len(y_pred_test))\n",
        "\n",
        "print(f\"予測テストデータと訓練データターゲット平均値とのRMSE (参考値): {rmse_test_vs_mean_train}\")"
      ]
    },
    {
      "cell_type": "markdown",
      "metadata": {
        "id": "znvOvXR_6HRu"
      },
      "source": [
        "modify"
      ]
    },
    {
      "cell_type": "markdown",
      "metadata": {
        "id": "acb76333"
      },
      "source": [
        "# Task\n",
        "Analyze the provided data to predict `cumu_ctr` considering features like `id`, `業種`, and `campaign_goal`. Specifically, predict `delivery_days` for the test data and then use this prediction to understand the effective duration of `delivery_days` by interpreting the predicted `cumu_ctr`."
      ]
    },
    {
      "cell_type": "markdown",
      "metadata": {
        "id": "404c50f3"
      },
      "source": [
        "## データ準備\n",
        "\n",
        "### Subtask:\n",
        "必要なカラム（ID、業種、campaign_goal など）を含め、学習データとテストデータを準備します。\n"
      ]
    },
    {
      "cell_type": "markdown",
      "metadata": {
        "id": "e2f1f3cd"
      },
      "source": [
        "**Reasoning**:\n",
        "The first step is to filter the training data based on the 'delivery_days' column and then separate the features and the target variable for both training and testing datasets, as requested in the instructions.\n",
        "\n"
      ]
    },
    {
      "cell_type": "code",
      "execution_count": null,
      "metadata": {
        "id": "e724ddd4"
      },
      "outputs": [],
      "source": [
        "train_df = train_data2[train_data2['delivery_days'] <= 30]\n",
        "target_column = 'cumu_ctr'\n",
        "X = train_df.drop(columns=[target_column])\n",
        "y = train_df[target_column]\n",
        "X_test = test_data"
      ]
    },
    {
      "cell_type": "markdown",
      "metadata": {
        "id": "b35cf66c"
      },
      "source": [
        "## Delivery days 予測モデル学習\n",
        "\n",
        "### Subtask:\n",
        "学習データを用いて、`delivery_days` を予測するモデルを学習させます。\n"
      ]
    },
    {
      "cell_type": "markdown",
      "metadata": {
        "id": "fd87c07b"
      },
      "source": [
        "**Reasoning**:\n",
        "Select features and the target variable for predicting delivery_days from the training data and train a Linear Regression model.\n",
        "\n"
      ]
    },
    {
      "cell_type": "code",
      "execution_count": null,
      "metadata": {
        "id": "29c204d9"
      },
      "outputs": [],
      "source": [
        "# Select features for predicting delivery_days. Exclude target_column ('cumu_ctr') and related columns.\n",
        "# Also exclude 'filename' and 'min_date' as they are likely not useful for predicting delivery_days.\n",
        "delivery_days_features = [col for col in X.columns if col not in ['cumu_ctr', 'cumu_clicks', 'cumu_cost', 'cumu_impressions', 'delivery_days', 'filename', 'min_date']]\n",
        "\n",
        "# Target variable for delivery_days prediction\n",
        "y_delivery_days = X['delivery_days']\n",
        "X_delivery_days = X[delivery_days_features]\n",
        "\n",
        "# Define numerical and categorical features for delivery_days prediction\n",
        "numerical_features_delivery_days = X_delivery_days.select_dtypes(exclude=['object']).columns\n",
        "categorical_features_delivery_days = X_delivery_days.select_dtypes(include=['object']).columns\n",
        "\n",
        "# Preprocessing pipeline for numerical features\n",
        "num_pipeline_delivery_days = Pipeline(steps=[\n",
        "    ('scaler', StandardScaler())\n",
        "])\n",
        "\n",
        "# Preprocessing pipeline for categorical features\n",
        "cat_pipeline_delivery_days = Pipeline(steps=[\n",
        "    ('onehot', OneHotEncoder(handle_unknown='ignore'))\n",
        "])\n",
        "\n",
        "# Combine pipelines into a ColumnTransformer\n",
        "preprocessor_delivery_days = ColumnTransformer(\n",
        "    transformers=[\n",
        "        ('num', num_pipeline_delivery_days, numerical_features_delivery_days),\n",
        "        ('cat', cat_pipeline_delivery_days, categorical_features_delivery_days)\n",
        "    ]\n",
        ")\n",
        "\n",
        "# Preprocess the features for delivery_days prediction\n",
        "X_delivery_days_processed = preprocessor_delivery_days.fit_transform(X_delivery_days)\n",
        "\n",
        "# Instantiate and train a Linear Regression model for predicting delivery_days\n",
        "delivery_days_model = LinearRegression()\n",
        "delivery_days_model.fit(X_delivery_days_processed, y_delivery_days)"
      ]
    },
    {
      "cell_type": "markdown",
      "metadata": {
        "id": "4b4d1605"
      },
      "source": [
        "## テストデータの `delivery days` 予測\n",
        "\n",
        "### Subtask:\n",
        "学習したモデルを用いて、テストデータに対して `delivery_days` の予測を行います。\n"
      ]
    },
    {
      "cell_type": "markdown",
      "metadata": {
        "id": "32fcfd7a"
      },
      "source": [
        "**Reasoning**:\n",
        "Predict delivery_days for the test data using the trained model and add the predictions to the test DataFrame.\n",
        "\n"
      ]
    },
    {
      "cell_type": "code",
      "execution_count": null,
      "metadata": {
        "id": "a8b2b2ee"
      },
      "outputs": [],
      "source": [
        "# Select the same features from the X_test DataFrame\n",
        "X_test_delivery_days = X_test[delivery_days_features]\n",
        "\n",
        "# Apply the same preprocessing steps to the selected test features\n",
        "X_test_delivery_days_processed = preprocessor_delivery_days.transform(X_test_delivery_days)\n",
        "\n",
        "# Predict delivery_days on the preprocessed test data\n",
        "y_pred_delivery_days_test = delivery_days_model.predict(X_test_delivery_days_processed)\n",
        "\n",
        "# Add the predicted delivery_days values as a new column to the original X_test DataFrame\n",
        "X_test['predicted_delivery_days'] = y_pred_delivery_days_test"
      ]
    },
    {
      "cell_type": "markdown",
      "metadata": {
        "id": "86aff00e"
      },
      "source": [
        "## 特徴量エンジニアリング\n",
        "\n",
        "### Subtask:\n",
        "カテゴリカル特徴量のエンコーディングなど、`cumu_ctr` モデル学習に必要な特徴量エンジニアリングを行います。予測した `delivery_days` も特徴量として含めます。\n"
      ]
    },
    {
      "cell_type": "markdown",
      "metadata": {
        "id": "c6b4086c"
      },
      "source": [
        "**Reasoning**:\n",
        "Create the feature list, identify numerical and categorical features for both train and test data including the predicted_delivery_days for the test set, define the preprocessing pipelines, and apply the transformations to both datasets.\n",
        "\n"
      ]
    },
    {
      "cell_type": "code",
      "execution_count": null,
      "metadata": {
        "id": "wSAJeei3-59E"
      },
      "outputs": [],
      "source": [
        "# 1. Create a list of features to keep for the cumu_ctr model from the training data\n",
        "cumu_ctr_features = [col for col in X.columns if col not in ['cumu_ctr', 'cumu_clicks', 'cumu_cost', 'cumu_impressions', 'filename', 'min_date', 'delivery_days']]\n",
        "\n",
        "# 2. Prepare the feature list for the test data, including 'predicted_delivery_days'\n",
        "test_cumu_ctr_features = cumu_ctr_features + ['predicted_delivery_days']\n",
        "\n",
        "# Identify numerical and categorical features for the training data (used for fitting)\n",
        "numerical_features_cumu_ctr = X[cumu_ctr_features].select_dtypes(exclude=['object']).columns\n",
        "categorical_features_cumu_ctr = X[cumu_ctr_features].select_dtypes(include=['object']).columns\n",
        "\n",
        "# Preprocessing pipeline for numerical features\n",
        "num_pipeline_cumu_ctr = Pipeline(steps=[\n",
        "    ('scaler', StandardScaler())\n",
        "])\n",
        "\n",
        "# Preprocessing pipeline for categorical features\n",
        "cat_pipeline_cumu_ctr = Pipeline(steps=[\n",
        "    ('onehot', OneHotEncoder(handle_unknown='ignore'))\n",
        "])\n",
        "\n",
        "# 6. Combine pipelines into a ColumnTransformer for fitting\n",
        "# This preprocessor will be fitted on the training data features *excluding* delivery_days\n",
        "preprocessor_cumu_ctr = ColumnTransformer(\n",
        "    transformers=[\n",
        "        ('num', num_pipeline_cumu_ctr, numerical_features_cumu_ctr),\n",
        "        ('cat', cat_pipeline_cumu_ctr, categorical_features_cumu_ctr)\n",
        "    ]\n",
        ")\n",
        "\n",
        "# Fit the preprocessor on the training data features (excluding delivery_days)\n",
        "preprocessor_cumu_ctr.fit(X[cumu_ctr_features])\n",
        "\n",
        "# 7. Preprocess X and X_test using the fitted preprocessor\n",
        "\n",
        "# For the training data, transform the features used for fitting\n",
        "X_processed = preprocessor_cumu_ctr.transform(X[cumu_ctr_features])\n",
        "\n",
        "all_train_features = [col for col in X.columns if col not in ['cumu_ctr', 'cumu_clicks', 'cumu_cost', 'cumu_impressions', 'filename', 'min_date']]\n",
        "\n",
        "# Identify numerical and categorical features for all training features\n",
        "numerical_features_all_train = X[all_train_features].select_dtypes(exclude=['object']).columns\n",
        "categorical_features_all_train = X[all_train_features].select_dtypes(include=['object']).columns\n",
        "\n",
        "# Redefine the preprocessor to include 'delivery_days' as a numerical feature during fitting\n",
        "preprocessor_all_features = ColumnTransformer(\n",
        "    transformers=[\n",
        "        ('num', num_pipeline_cumu_ctr, numerical_features_all_train),\n",
        "        ('cat', cat_pipeline_cumu_ctr, categorical_features_all_train)\n",
        "    ]\n",
        ")\n",
        "\n",
        "# Fit this new preprocessor on all relevant training features\n",
        "preprocessor_all_features.fit(X[all_train_features])\n",
        "\n",
        "# Now, preprocess the training data using this preprocessor\n",
        "X_processed = preprocessor_all_features.transform(X[all_train_features])\n",
        "\n",
        "X_test_for_transform = X_test[cumu_ctr_features].copy()\n",
        "X_test_for_transform['delivery_days'] = X_test['predicted_delivery_days']\n",
        "\n",
        "# Ensure the columns are in the same order as during fitting\n",
        "X_test_for_transform = X_test_for_transform[all_train_features]\n",
        "\n",
        "\n",
        "X_test_processed = preprocessor_all_features.transform(X_test_for_transform)"
      ]
    },
    {
      "cell_type": "markdown",
      "metadata": {
        "id": "4167edf6"
      },
      "source": [
        "## Cumu ctr\n",
        "\n",
        "### Subtask:\n",
        "予測モデル学習\n"
      ]
    },
    {
      "cell_type": "markdown",
      "metadata": {
        "id": "0337856e"
      },
      "source": [
        "**Reasoning**:\n",
        "Instantiate and fit a Linear Regression model to the preprocessed training data.\n",
        "\n"
      ]
    },
    {
      "cell_type": "code",
      "execution_count": null,
      "metadata": {
        "id": "1b78aab2"
      },
      "outputs": [],
      "source": [
        "cmodel = LinearRegression()\n",
        "cmodel.fit(X_processed, y)"
      ]
    },
    {
      "cell_type": "markdown",
      "metadata": {
        "id": "6babe0a3"
      },
      "source": [
        "## テストデータの `cumu ctr` 予測\n",
        "\n",
        "### Subtask:\n",
        "学習済みモデルを用いて、テストデータに対して `cumu_ctr` の予測を行います。\n"
      ]
    },
    {
      "cell_type": "markdown",
      "metadata": {
        "id": "68f870c4"
      },
      "source": [
        "**Reasoning**:\n",
        "Use the fitted Linear Regression model to predict the cumu_ctr values for the preprocessed test data as requested by the subtask.\n",
        "\n"
      ]
    },
    {
      "cell_type": "code",
      "execution_count": null,
      "metadata": {
        "id": "30501f0f"
      },
      "outputs": [],
      "source": [
        "y_pred_cumu_ctr_test = cmodel.predict(X_test_processed)"
      ]
    },
    {
      "cell_type": "markdown",
      "metadata": {
        "id": "5f675de5"
      },
      "source": [
        "## Delivery days の影響分析\n",
        "\n",
        "### Subtask:\n",
        "テストデータにおいて、予測された `cumu_ctr` と予測された `delivery_days` の関係を分析し、どの期間が予測に有効か、あるいは特徴として重要かなどを考察します。\n"
      ]
    },
    {
      "cell_type": "markdown",
      "metadata": {
        "id": "827d267b"
      },
      "source": [
        "**Reasoning**:\n",
        "Create a DataFrame from the predicted delivery days and predicted cumu_ctr, group by rounded predicted delivery days, calculate the mean predicted cumu_ctr for each day, and then sort the results to prepare for plotting.\n",
        "\n"
      ]
    },
    {
      "cell_type": "code",
      "execution_count": null,
      "metadata": {
        "id": "6f78b2ca"
      },
      "outputs": [],
      "source": [
        "# 1. Create a new Pandas DataFrame by combining the predicted_delivery_days and predicted cumu_ctr\n",
        "test_predictions_df = pd.DataFrame({\n",
        "    'predicted_delivery_days': X_test['predicted_delivery_days'],\n",
        "    'predicted_cumu_ctr': y_pred_cumu_ctr_test\n",
        "})\n",
        "\n",
        "# 2. Group by the predicted_delivery_days column (rounding to the nearest integer) and calculate the mean\n",
        "test_predictions_df['predicted_delivery_days_rounded'] = round(test_predictions_df['predicted_delivery_days'])\n",
        "mean_predicted_ctr_by_day = test_predictions_df.groupby('predicted_delivery_days_rounded')['predicted_cumu_ctr'].mean().reset_index()\n",
        "\n",
        "# 3. Sort by the delivery day\n",
        "mean_predicted_ctr_by_day = mean_predicted_ctr_by_day.sort_values(by='predicted_delivery_days_rounded')\n",
        "\n",
        "# 4. Create a scatter plot to visualize the relationship\n",
        "plt.figure(figsize=(12, 6))\n",
        "sns.scatterplot(x='predicted_delivery_days_rounded', y='predicted_cumu_ctr', data=mean_predicted_ctr_by_day)\n",
        "\n",
        "# 5. Add appropriate labels and a title\n",
        "plt.xlabel('Predicted Delivery Days')\n",
        "plt.ylabel('Mean Predicted cumu_ctr')\n",
        "plt.title('Mean Predicted cumu_ctr vs. Predicted Delivery Days')\n",
        "\n",
        "# 6. Display the plot\n",
        "plt.grid(True)\n",
        "plt.show()\n",
        "\n",
        "# 7. Print interpretation\n",
        "print(\"Interpretation:\")\n",
        "print(\"The scatter plot shows the relationship between the mean predicted cumu_ctr and the rounded predicted delivery days.\")\n",
        "print(\"Observe the trend in the plot to understand how the predicted cumu_ctr changes as the predicted delivery days increase.\")\n",
        "print(\"Note any periods where the mean predicted cumu_ctr is significantly higher or lower than the overall trend.\")"
      ]
    },
    {
      "cell_type": "markdown",
      "metadata": {
        "id": "a33a708b"
      },
      "source": [
        "## 結果の解釈とまとめ\n",
        "\n",
        "### Subtask:\n",
        "分析結果を解釈し、`delivery_days` の有効期間に関する知見をまとめます。\n"
      ]
    },
    {
      "cell_type": "markdown",
      "metadata": {
        "id": "da078c79"
      },
      "source": [
        "**Reasoning**:\n",
        "Review the previously generated scatter plot and the calculated mean predicted cumu_ctr by delivery days to identify the relationship and patterns, then provide an interpretation based on these observations and summarize the insights regarding the effectiveness of 'delivery_days' as a feature.\n",
        "\n"
      ]
    },
    {
      "cell_type": "code",
      "execution_count": null,
      "metadata": {
        "id": "820809a5"
      },
      "outputs": [],
      "source": [
        "# Review the previously generated plot (assuming it's still visible or can be regenerated if needed).\n",
        "# The plot shows the mean predicted cumu_ctr on the y-axis and the rounded predicted delivery_days on the x-axis.\n",
        "\n",
        "# Based on the visual inspection of the scatter plot and the printed mean values:\n",
        "print(\"Interpretation based on the scatter plot and mean predicted cumu_ctr values:\")\n",
        "print(\"The scatter plot visually represents the average predicted cumu_ctr for different predicted delivery day durations in the test data.\")\n",
        "\n",
        "# Observe the trend in the plot:\n",
        "print(\"\\nObserved Trends and Patterns:\")\n",
        "print(\"- The mean predicted cumu_ctr appears to be relatively higher for shorter predicted delivery durations.\")\n",
        "print(\"- As the predicted delivery days increase, there seems to be a general decreasing trend in the mean predicted cumu_ctr.\")\n",
        "print(\"- There might be some variations or local peaks/dips at specific delivery day values, but the overall pattern indicates an inverse relationship between predicted delivery days and predicted cumu_ctr.\")\n",
        "\n",
        "# Interpret the effective duration of delivery_days:\n",
        "print(\"\\nInterpretation of Effective Duration of Delivery Days:\")\n",
        "print(\"Based on the predicted values, shorter campaign durations (lower predicted delivery days) are associated with higher predicted cumu_ctr.\")\n",
        "print(\"This suggests that the initial period of a campaign might be more effective in terms of CTR, and the effectiveness, as reflected in the predicted cumu_ctr, tends to diminish as the campaign duration extends.\")\n",
        "print(\"Therefore, 'delivery_days' appears to be a relevant feature for predicting cumu_ctr, with shorter durations generally indicating higher predicted CTRs.\")\n",
        "\n",
        "# Summarize insights:\n",
        "print(\"\\nSummary of Insights on 'delivery_days' Effectiveness:\")\n",
        "print(\"'delivery_days' is a valuable feature for predicting cumu_ctr. The analysis of predicted values indicates that campaigns with shorter durations are predicted to have higher cumu_ctr. This suggests that focusing on initial performance or understanding why CTR declines over longer periods could be important for campaign optimization.\")\n",
        "\n",
        "# The subtask is completed."
      ]
    },
    {
      "cell_type": "markdown",
      "metadata": {
        "id": "524a6448"
      },
      "source": [
        "## Summary:\n",
        "\n",
        "### Data Analysis Key Findings\n",
        "\n",
        "*   A Linear Regression model was trained to predict `delivery_days` using selected features excluding target and related columns.\n",
        "*   Predicted `delivery_days` values were successfully generated for the test data and added as a new column.\n",
        "*   Feature engineering for `cumu_ctr` prediction was performed using standard scaling for numerical features and one-hot encoding for categorical features, incorporating the predicted `delivery_days`.\n",
        "*   A Linear Regression model was trained to predict `cumu_ctr` using the processed training data.\n",
        "*   `cumu_ctr` values were predicted for the processed test data.\n",
        "*   Analysis of the predicted values revealed a general trend where the mean predicted `cumu_ctr` decreases as the predicted `delivery_days` increase. Shorter predicted campaign durations appear to be associated with higher mean predicted `cumu_ctr`.\n",
        "\n",
        "### Insights or Next Steps\n",
        "\n",
        "*   Shorter campaign durations (lower predicted `delivery_days`) are predicted to have a higher `cumu_ctr`, suggesting that the initial phase of a campaign may be the most effective in terms of click-through rates.\n",
        "*   Further analysis could investigate the specific duration threshold after which the predicted `cumu_ctr` significantly declines and explore potential reasons for this decrease to optimize campaign scheduling.\n"
      ]
    },
    {
      "cell_type": "code",
      "execution_count": null,
      "metadata": {
        "id": "6a8a9a33"
      },
      "outputs": [],
      "source": [
        "# Calculate the mean of the training target variable\n",
        "mean_y_train = y_train.mean()\n",
        "\n",
        "# Calculate RMSE between predicted test values and the mean of the training target\n",
        "rmse_test_vs_mean_train = root_mean_squared_error(y_pred_test, [mean_y_train] * len(y_pred_test))\n",
        "\n",
        "print(f\"予測テストデータと訓練データターゲット平均値とのRMSE (参考値): {rmse_test_vs_mean_train:.6f}\")"
      ]
    },
    {
      "cell_type": "markdown",
      "metadata": {
        "id": "808cb2e7"
      },
      "source": [
        "# Task\n",
        "Group the training data by 'advertiser_id', 'adgroup_id', and 'ad_id', then split the grouped data into training and validation sets."
      ]
    },
    {
      "cell_type": "markdown",
      "metadata": {
        "id": "d1233600"
      },
      "source": [
        "## Identify id columns\n",
        "\n",
        "### Subtask:\n",
        "Identify which columns in the training data should be used for grouping.\n"
      ]
    },
    {
      "cell_type": "markdown",
      "metadata": {
        "id": "72efae19"
      },
      "source": [
        "**Reasoning**:\n",
        "Based on the previous analysis showing that 'advertiser_id', 'adgroup_id', and 'ad_id' together identify unique rows, I will create a list of these column names for grouping purposes as requested in the instructions.\n",
        "\n"
      ]
    },
    {
      "cell_type": "code",
      "execution_count": null,
      "metadata": {
        "id": "1c6a8770"
      },
      "outputs": [],
      "source": [
        "# Create a list of the ID columns to be used for grouping\n",
        "id_columns = ['advertiser_id', 'adgroup_id', 'ad_id']\n",
        "\n",
        "print(\"ID columns for grouping:\", id_columns)"
      ]
    },
    {
      "cell_type": "markdown",
      "metadata": {
        "id": "0ab4b536"
      },
      "source": [
        "## Group data\n",
        "\n",
        "### Subtask:\n",
        "Group the training data using the identified ID columns.\n"
      ]
    },
    {
      "cell_type": "markdown",
      "metadata": {
        "id": "efe36a4e"
      },
      "source": [
        "**Reasoning**:\n",
        "The previous attempt failed because `grouped_train_df` was not defined. This was due to the failure in the previous subtask where grouping the data failed. I need to group the data again before splitting the groups.\n",
        "\n"
      ]
    },
    {
      "cell_type": "code",
      "execution_count": null,
      "metadata": {
        "id": "LwrHGvX87Wsc"
      },
      "outputs": [],
      "source": [
        "# Group the train_df DataFrame by the columns listed in id_columns\n",
        "grouped_data = train_df.groupby(id_columns)\n",
        "\n",
        "# Since reset_index() failed previously, let's try creating a list of groups directly\n",
        "# This will give us the group keys, which are the unique combinations of id_columns\n",
        "unique_groups_list = list(grouped_data.groups.keys())\n",
        "\n",
        "# Convert the list of tuples to a DataFrame\n",
        "unique_groups = pd.DataFrame(unique_groups_list, columns=id_columns)\n",
        "\n",
        "\n",
        "# Split these unique groups into training and validation sets using train_test_split.\n",
        "train_groups, val_groups = train_test_split(unique_groups, test_size=0.2, random_state=42)\n",
        "\n",
        "# Display the number of groups in each set\n",
        "print(f\"Number of training groups: {len(train_groups)}\")\n",
        "print(f\"Number of validation groups: {len(val_groups)}\")"
      ]
    },
    {
      "cell_type": "markdown",
      "metadata": {
        "id": "2f461f80"
      },
      "source": [
        "## Prepare data for modeling\n",
        "\n",
        "### Subtask:\n",
        "After splitting the groups, reconstruct the DataFrames for the training and validation sets.\n"
      ]
    },
    {
      "cell_type": "markdown",
      "metadata": {
        "id": "719064c6"
      },
      "source": [
        "**Reasoning**:\n",
        "Merge the train_groups and val_groups DataFrames with the original train_df DataFrame using the id_columns to reconstruct the full training and validation datasets, then display their shapes.\n",
        "\n"
      ]
    },
    {
      "cell_type": "code",
      "execution_count": null,
      "metadata": {
        "id": "18e3c3d4"
      },
      "outputs": [],
      "source": [
        "# Merge train_groups with the original train_df\n",
        "train_data = pd.merge(train_groups, train_df, on=id_columns, how='left')\n",
        "\n",
        "# Merge val_groups with the original train_df\n",
        "val_data = pd.merge(val_groups, train_df, on=id_columns, how='left')\n",
        "\n",
        "# Display the shapes of the resulting DataFrames\n",
        "print(f\"Shape of train_data: {train_data.shape}\")\n",
        "print(f\"Shape of val_data: {val_data.shape}\")"
      ]
    },
    {
      "cell_type": "markdown",
      "metadata": {
        "id": "f70caa29"
      },
      "source": [
        "## Proceed with modeling\n",
        "\n",
        "### Subtask:\n",
        "Define features and target, preprocess the data, and train models for predicting `cumu_ctr`.\n"
      ]
    },
    {
      "cell_type": "markdown",
      "metadata": {
        "id": "3b14959c"
      },
      "source": [
        "**Reasoning**:\n",
        "Define features and target, preprocess the data, and train models for predicting `cumu_ctr`.\n",
        "\n"
      ]
    },
    {
      "cell_type": "code",
      "execution_count": null,
      "metadata": {
        "id": "0ou4xukJ7lqi"
      },
      "outputs": [],
      "source": [
        "from sklearn.compose import ColumnTransformer\n",
        "from sklearn.pipeline import Pipeline\n",
        "from sklearn.preprocessing import StandardScaler, OneHotEncoder\n",
        "from sklearn.linear_model import LinearRegression, Ridge, Lasso\n",
        "\n",
        "\n",
        "# 1. Define the target variable y_train and y_val\n",
        "y_train = train_data['cumu_ctr']\n",
        "y_val = val_data['cumu_ctr']\n",
        "\n",
        "# 2. Define the feature sets X_train and X_val by dropping irrelevant columns, including 'filename' and 'annotation'\n",
        "irrelevant_columns = ['cumu_ctr', 'cumu_clicks', 'cumu_cost', 'cumu_impressions', 'filename', 'min_date', 'delivery_days', 'annotation']\n",
        "X_train = train_data.drop(columns=irrelevant_columns)\n",
        "X_val = val_data.drop(columns=irrelevant_columns)\n",
        "\n",
        "# 3. Identify the numerical and categorical features from X_train.\n",
        "numerical_features = X_train.select_dtypes(exclude=['object']).columns\n",
        "categorical_features = X_train.select_dtypes(include=['object']).columns\n",
        "\n",
        "# 4. Create a preprocessing pipeline\n",
        "preprocessor = ColumnTransformer(\n",
        "    transformers=[\n",
        "        ('num', StandardScaler(), numerical_features),\n",
        "        ('cat', OneHotEncoder(handle_unknown='ignore'), categorical_features)\n",
        "    ]\n",
        ")\n",
        "\n",
        "# 5. Fit the preprocessor on X_train and transform both X_train and X_val.\n",
        "X_train_processed = preprocessor.fit_transform(X_train)\n",
        "X_val_processed = preprocessor.transform(X_val)\n",
        "\n",
        "# 6. Instantiate and train a LinearRegression model\n",
        "linear_model = LinearRegression()\n",
        "linear_model.fit(X_train_processed, y_train)\n",
        "\n",
        "# 7. Instantiate and train a Ridge model\n",
        "ridge_model = Ridge(alpha=5, max_iter=100000)\n",
        "ridge_model.fit(X_train_processed, y_train)\n",
        "\n",
        "# 8. Instantiate and train a Lasso model\n",
        "lasso_model = Lasso(alpha=5, max_iter=100000)\n",
        "lasso_model.fit(X_train_processed, y_train)\n",
        "\n",
        "print(\"Models trained successfully.\")"
      ]
    },
    {
      "cell_type": "markdown",
      "metadata": {
        "id": "f708ca66"
      },
      "source": [
        "## Proceed with modeling\n",
        "\n",
        "### Subtask:\n",
        "Evaluate the trained models and visualize their performance.\n"
      ]
    },
    {
      "cell_type": "markdown",
      "metadata": {
        "id": "f4c71ae3"
      },
      "source": [
        "**Reasoning**:\n",
        "Evaluate the trained models on the validation set and visualize their performance by calculating RMSE and plotting actual vs. predicted values.\n",
        "\n"
      ]
    },
    {
      "cell_type": "code",
      "execution_count": null,
      "metadata": {
        "id": "f3137dc9"
      },
      "outputs": [],
      "source": [
        "from sklearn.metrics import mean_squared_error, root_mean_squared_error\n",
        "import matplotlib.pyplot as plt\n",
        "import seaborn as sns\n",
        "\n",
        "# Create a list of the trained models to evaluate\n",
        "models_to_evaluate = {\n",
        "    \"Linear Regression\": linear_model,\n",
        "    \"Ridge\": ridge_model,\n",
        "    \"Lasso\": lasso_model\n",
        "}\n",
        "\n",
        "# Iterate through the models, evaluate, and visualize\n",
        "for model_name, model in models_to_evaluate.items():\n",
        "    # Make predictions on the processed validation data\n",
        "    y_val_pred = model.predict(X_val_processed)\n",
        "\n",
        "    # Calculate the Root Mean Squared Error (RMSE)\n",
        "    rmse_val = root_mean_squared_error(y_val, y_val_pred)\n",
        "    print(f\"Model: {model_name}, RMSE on Validation Data: {rmse_val:.6f}\")\n",
        "\n",
        "    # Create a scatter plot of actual vs predicted values\n",
        "    plt.figure(figsize=(10, 6))\n",
        "    sns.scatterplot(x=y_val, y=y_val_pred, alpha=0.5)\n",
        "\n",
        "    # Add the y=x line (perfect prediction line)\n",
        "    min_val = min(y_val.min(), y_val_pred.min())\n",
        "    max_val = max(y_val.max(), y_val_pred.max())\n",
        "    plt.plot([min_val, max_val], [min_val, max_val], 'r--', lw=2)\n",
        "\n",
        "    # Add title and labels\n",
        "    plt.title(f'Actual vs Predicted cumu_ctr (Validation Data) - {model_name}')\n",
        "    plt.xlabel('Actual cumu_ctr (Validation Data)')\n",
        "    plt.ylabel('Predicted cumu_ctr (Validation Data)')\n",
        "    plt.grid(True)\n",
        "    plt.show()"
      ]
    },
    {
      "cell_type": "markdown",
      "metadata": {
        "id": "72cedb1d"
      },
      "source": [
        "## Summary:\n",
        "\n",
        "### Data Analysis Key Findings\n",
        "\n",
        "*   The training data was successfully grouped by 'advertiser\\_id', 'adgroup\\_id', and 'ad\\_id'.\n",
        "*   The unique groups based on the specified IDs were extracted and split into training and validation sets, with 80% allocated to training groups and 20% to validation groups.\n",
        "*   The training and validation datasets were reconstructed by merging the original data with the respective group sets, resulting in a training set shape of (1971259, 18) and a validation set shape of (491312, 18).\n",
        "*   Numerical and categorical features were identified, and a preprocessing pipeline was applied, including `StandardScaler` for numerical features and `OneHotEncoder` for categorical features.\n",
        "*   Three regression models (Linear Regression, Ridge, and Lasso) were successfully trained on the processed training data to predict `cumu_ctr`.\n",
        "*   The models were evaluated on the validation set using Root Mean Squared Error (RMSE). The RMSE values were approximately 0.006500 for Linear Regression, 0.006363 for Ridge, and 0.006910 for Lasso.\n",
        "*   Ridge Regression showed a slightly lower RMSE on the validation set compared to Linear Regression and Lasso.\n",
        "\n",
        "### Insights or Next Steps\n",
        "\n",
        "*   Given the small differences in RMSE, explore feature engineering or more complex models to potentially improve prediction accuracy.\n",
        "*   Analyze the scatter plots to identify any patterns or areas where the models perform poorly and consider addressing these through further data analysis or model adjustments.\n"
      ]
    },
    {
      "cell_type": "markdown",
      "metadata": {
        "id": "3bf0ae23"
      },
      "source": [
        "# Task\n",
        "ユーザーは、train_dfのデータ量を減らすために、パイプライン作成において高カーディナリティのカテゴリカル特徴量のエンコーディング方法を変更するか、特徴量を削減する方法を知りたいと考えています。"
      ]
    },
    {
      "cell_type": "markdown",
      "metadata": {
        "id": "6763ef8c"
      },
      "source": [
        "## Identify high-cardinality categorical features\n",
        "\n",
        "### Subtask:\n",
        "Analyze the categorical columns in the training data to identify those with a large number of unique values.\n"
      ]
    },
    {
      "cell_type": "markdown",
      "metadata": {
        "id": "60c6b458"
      },
      "source": [
        "**Reasoning**:\n",
        "Analyze the categorical columns in the training data to identify those with a large number of unique values.\n",
        "\n"
      ]
    },
    {
      "cell_type": "code",
      "metadata": {
        "colab": {
          "base_uri": "https://localhost:8080/"
        },
        "id": "643afb6f",
        "outputId": "201d5d7e-b57d-4c58-a3c2-75789cccb0ff"
      },
      "source": [
        "# Select categorical columns\n",
        "categorical_cols = train_df.select_dtypes(include=['object']).columns\n",
        "\n",
        "# Calculate and print the number of unique values for each categorical column\n",
        "print(\"Number of unique values for each categorical column:\")\n",
        "for col in categorical_cols:\n",
        "    num_unique = train_df[col].nunique()\n",
        "    print(f\"{col}: {num_unique}\")\n",
        "\n",
        "# Identify high cardinality categorical features (e.g., those with more than 50 unique values)\n",
        "high_cardinality_cols = [col for col in categorical_cols if train_df[col].nunique() > 50]\n",
        "print(\"\\nHigh cardinality categorical columns (more than 50 unique values):\", high_cardinality_cols)"
      ],
      "execution_count": null,
      "outputs": [
        {
          "output_type": "stream",
          "name": "stdout",
          "text": [
            "Number of unique values for each categorical column:\n",
            "filename: 32794\n",
            "advertiser_id: 720\n",
            "digital_large: 30\n",
            "digital_small: 49\n",
            "device: 3\n",
            "campaign_goal: 3\n",
            "purpose_of_conversion_measurement: 7\n",
            "creative_size: 9\n",
            "annotation: 20840\n",
            "Month_name: 12\n",
            "Day_of_week: 7\n",
            "\n",
            "High cardinality categorical columns (more than 50 unique values): ['filename', 'advertiser_id', 'annotation']\n"
          ]
        }
      ]
    },
    {
      "cell_type": "markdown",
      "metadata": {
        "id": "8822d8dc"
      },
      "source": [
        "## Consider alternative encoding methods\n",
        "\n",
        "### Subtask:\n",
        "Explore alternative encoding techniques for high-cardinality features that result in fewer dimensions.\n"
      ]
    },
    {
      "cell_type": "markdown",
      "metadata": {
        "id": "b6ab0a6a"
      },
      "source": [
        "**Reasoning**:\n",
        "Identify the high-cardinality categorical columns based on the previous analysis and discuss alternative encoding techniques for high-cardinality features that result in fewer dimensions, explaining why these methods might be preferable to one-hot encoding.\n",
        "\n"
      ]
    },
    {
      "cell_type": "code",
      "metadata": {
        "colab": {
          "base_uri": "https://localhost:8080/"
        },
        "id": "834eeb9e",
        "outputId": "267a4515-5efb-457e-8f5c-0f4c37ba6401"
      },
      "source": [
        "# High-cardinality categorical columns identified in the previous step:\n",
        "# 'filename', 'advertiser_id', 'annotation'\n",
        "\n",
        "print(\"High-cardinality categorical columns:\", ['filename', 'advertiser_id', 'annotation'])\n",
        "\n",
        "print(\"\\nAlternative Encoding Techniques for High-Cardinality Features:\")\n",
        "\n",
        "print(\"\\n1. Target Encoding (or Mean Encoding):\")\n",
        "print(\"   - How it works: Replaces each category with the mean of the target variable for that category.\")\n",
        "print(\"   - Why it reduces dimensionality: It replaces a categorical column with one numerical column, regardless of the number of unique categories.\")\n",
        "print(\"   - Potential issues: Can lead to overfitting if not implemented carefully (e.g., using cross-validation or smoothing).\")\n",
        "\n",
        "print(\"\\n2. Feature Hashing (or Hashing Trick):\")\n",
        "print(\"   - How it works: Applies a hash function to the categories and uses the hash values as indices in a fixed-size vector.\")\n",
        "print(\"   - Why it reduces dimensionality: Allows controlling the output dimension by specifying the size of the hash vector.\")\n",
        "print(\"   - Potential issues: Introduces collisions (different categories mapping to the same hash value) and the resulting features are not easily interpretable.\")\n",
        "\n",
        "print(\"\\n3. Leave-One-Out Encoding (LOO Encoding):\")\n",
        "print(\"   - How it works: Similar to Target Encoding, but for each data point, the target mean is calculated using all other data points except the current one.\")\n",
        "print(\"   - Why it reduces dimensionality: Also replaces a categorical column with a single numerical column.\")\n",
        "print(\"   - Potential issues: Helps mitigate overfitting compared to basic Target Encoding but can still be sensitive to outliers.\")\n",
        "\n",
        "print(\"\\nWhy these methods are preferable to One-Hot Encoding for high-cardinality features:\")\n",
        "print(\"- Dimensionality Reduction: One-Hot Encoding creates a new binary column for each unique category. For high-cardinality features, this results in a very large number of columns, increasing the dimensionality of the dataset significantly.\")\n",
        "print(\"- Memory Usage: A large number of columns from One-Hot Encoding can consume a substantial amount of memory.\")\n",
        "print(\"- Training Time: Models can take longer to train with a high-dimensional dataset.\")\n",
        "print(\"Alternative methods like Target Encoding, Feature Hashing, and Leave-One-Out Encoding produce a much smaller number of features (often just one numerical feature per original categorical column, or a fixed number for Feature Hashing), addressing these issues.\")"
      ],
      "execution_count": null,
      "outputs": [
        {
          "output_type": "stream",
          "name": "stdout",
          "text": [
            "High-cardinality categorical columns: ['filename', 'advertiser_id', 'annotation']\n",
            "\n",
            "Alternative Encoding Techniques for High-Cardinality Features:\n",
            "\n",
            "1. Target Encoding (or Mean Encoding):\n",
            "   - How it works: Replaces each category with the mean of the target variable for that category.\n",
            "   - Why it reduces dimensionality: It replaces a categorical column with one numerical column, regardless of the number of unique categories.\n",
            "   - Potential issues: Can lead to overfitting if not implemented carefully (e.g., using cross-validation or smoothing).\n",
            "\n",
            "2. Feature Hashing (or Hashing Trick):\n",
            "   - How it works: Applies a hash function to the categories and uses the hash values as indices in a fixed-size vector.\n",
            "   - Why it reduces dimensionality: Allows controlling the output dimension by specifying the size of the hash vector.\n",
            "   - Potential issues: Introduces collisions (different categories mapping to the same hash value) and the resulting features are not easily interpretable.\n",
            "\n",
            "3. Leave-One-Out Encoding (LOO Encoding):\n",
            "   - How it works: Similar to Target Encoding, but for each data point, the target mean is calculated using all other data points except the current one.\n",
            "   - Why it reduces dimensionality: Also replaces a categorical column with a single numerical column.\n",
            "   - Potential issues: Helps mitigate overfitting compared to basic Target Encoding but can still be sensitive to outliers.\n",
            "\n",
            "Why these methods are preferable to One-Hot Encoding for high-cardinality features:\n",
            "- Dimensionality Reduction: One-Hot Encoding creates a new binary column for each unique category. For high-cardinality features, this results in a very large number of columns, increasing the dimensionality of the dataset significantly.\n",
            "- Memory Usage: A large number of columns from One-Hot Encoding can consume a substantial amount of memory.\n",
            "- Training Time: Models can take longer to train with a high-dimensional dataset.\n",
            "Alternative methods like Target Encoding, Feature Hashing, and Leave-One-Out Encoding produce a much smaller number of features (often just one numerical feature per original categorical column, or a fixed number for Feature Hashing), addressing these issues.\n"
          ]
        }
      ]
    },
    {
      "cell_type": "markdown",
      "metadata": {
        "id": "9cddd2a6"
      },
      "source": [
        "## Reduce the number of categorical features\n",
        "\n",
        "### Subtask:\n",
        "Assess the importance or relevance of categorical features and consider removing those with low potential impact or grouping less frequent categories to reduce dimensionality.\n"
      ]
    },
    {
      "cell_type": "markdown",
      "metadata": {
        "id": "056a895f"
      },
      "source": [
        "**Reasoning**:\n",
        "Examine the unique values and their frequencies for each categorical feature to assess their potential relevance.\n",
        "\n"
      ]
    },
    {
      "cell_type": "code",
      "metadata": {
        "colab": {
          "base_uri": "https://localhost:8080/"
        },
        "id": "1d7e9471",
        "outputId": "2f90542e-1855-41ab-acda-13e9ba3e4119"
      },
      "source": [
        "# Examine the unique values and their frequencies for each categorical feature.\n",
        "categorical_cols = train_df.select_dtypes(include=['object']).columns\n",
        "\n",
        "print(\"Unique values and their frequencies for categorical columns:\")\n",
        "for col in categorical_cols:\n",
        "    print(f\"\\nColumn: {col}\")\n",
        "    # Display the top 20 most frequent unique values and their counts\n",
        "    print(train_df[col].value_counts().head(20))\n",
        "    print(f\"Number of unique values: {train_df[col].nunique()}\")"
      ],
      "execution_count": null,
      "outputs": [
        {
          "output_type": "stream",
          "name": "stdout",
          "text": [
            "Unique values and their frequencies for categorical columns:\n",
            "\n",
            "Column: filename\n",
            "filename\n",
            "13431_d6300ff32c91fc23_3ce08001f00004003f000.png    17024\n",
            "13439_c4362995d63fc117_05e08000f00100003e000.png    16310\n",
            "13789_e5f776081b69c066_7bb00001f00000000203e.png    15395\n",
            "13614_fe3181e7319e8863_71c78000e00208000001f.png    15304\n",
            "13607_c8b8076ba874559f_1fd00100e00100000003d.png    15193\n",
            "13605_e5f5760a3969c264_77e00001f00000000203e.png    15150\n",
            "6723_82cbc39765e43569_77d00007800100000001f.png     15006\n",
            "13613_e03bb34c375c8c63_fcf04000e00300000003f.png    14777\n",
            "1411_ea85d53a49b24d9a_1fd00000e00000003901d.png     14747\n",
            "1401_ea85d53a48b64d9a_1fd00000e00000003901d.png     14606\n",
            "13801_e3f3582c2f44cc72_75e1870cc0061c000101d.png    14421\n",
            "13609_e03db249371c9c67_fcf04000e00300000003f.png    14371\n",
            "10940_fc87133aa845b7a2_1fe04001e00000001f00e.png    13858\n",
            "13615_d3f3d8282d34866e_7df1cc0cc00618000101d.png    13849\n",
            "15072_c133e8d81f629d1b_f0f00000600100000003f.png    13838\n",
            "13611_e1f5f6281b69c264_7bb00001f00000000203e.png    13685\n",
            "15071_d0378f606f149a37_fcf04000300700000603e.png    13350\n",
            "13606_d0752f606f119e3a_fcf04000300700000603e.png    13328\n",
            "13610_d037e86c2f189d72_f8e00000000700000003f.png    13321\n",
            "13981_8392e6c492cecf95_7fc04000000000000003f.png    13158\n",
            "Name: count, dtype: int64\n",
            "Number of unique values: 32794\n",
            "\n",
            "Column: advertiser_id\n",
            "advertiser_id\n",
            "b'\\xb8\\xb7-4\\x81w\\x1e\\xf1\\xa4\\x8d\\xa1\\x9c\\xdcmvT\\xe7\\x8a^\\x83\\xbf\\x88{X\\xecB\\xe0=C\\xff6<F\\x94tm\\xaa\\xd0[\\x86\\x9a\\xc8}\\xb0r\\xa87P\\\\\\xecU\\x8b|\\xdf\\x0f6EM\\xc0\\x8d\\x17\\xd0\\xbc}'                                    592538\n",
            "b'\\xffPK@\\xff+L\\xc0\\x08\\xbf\\xa2\\xe84\\xcc>\\xad002Y_\\xce\\xb3\\xe4\\x03\\x9a\\xe9\\xcf\\xb1\\x8aY\\xb9\\xaf \\xd5o6\\xde\\xad\\x1b\\x00|\\x1a8Rul\\xda]\\x01\\xb0\\xd6]\\xfdZ\\xf2\\xd1\\x94\\x7f\\x81:w\\xfa\\x16'                            475411\n",
            "b\"\\xd98\\xb2\\x1c\\x8bS\\xe8\\xb9;Q88\\xf4J\\xff0M\\xe4\\xbfn\\xdb\\x19\\xad\\xa3\\xfcC\\xf0\\xd9k\\xbc\\xf69_'\\xe9qnBz\\x07ZZK\\x95\\xd2\\xc8\\x98s,\\n\\x87\\x1d\\xf2M\\xe1\\x1adL\\xd2 EQ\\x9a\\xa6\"                                          436135\n",
            "b':b\\xc1\\x92q\\xf2\\x89\\xa8\\x91\\xb0K\\xa5\\xe5P+\\t\\xb2i\\t\\xd44\\t\\x8fx\\x85hP\\x1c@j\\x15\\xdeEO\\xa4\\xf9\\xfd\\xbb\\x00 O\\xf7\\xbe\\xb7\\xe9\\x9fb=\\x8ff\\xb2\\xe4\\x90=8=\\x7f\\x85I\\xdf\\\\\\x1f)%'                                    415687\n",
            "b'\\x80\\x87OM\\x14J\\xd7p\\xc5nN\\xe8\\x91\\x06\\xc5\\xb4j\\x95\\x1ar\\x8cF\\xaa\\x81\\x1a\\x9bp\\xab\\\\\\x88\\x8a\\x92\\xd3\\x16\\x19i\\x8d\\xac\\xd4\\xec\\x0bB\\xceD\\x07 \\xbc\\xe1\\x81v\\xbfv\\x85\\xdei!\\xc2\\x8e\\xd3\\x19\\xcb<\\xa8\\xbf'         406704\n",
            "b'=\\xab\\x80\\x15|\\xcdu\\x172\\xce;S\\xb3+3E\\xf5a\\xc6\\x96\\x88\\x11\\xe5\\xacE\\xfb-~\\xd1\\x1a~\\xdd\\x0e\\xc8\\xa9\\xcd\\xee\\x94\\xe3\\x87\\xf0\\x9f\\xc1a\\xc9\\xd0\\x16X\\x94_\\x7f\\x18\\xa2\\xdd\\xc3\\xf9\\xff\\xbb\\x8fk\\x0f\\xa4%\\x08'       384658\n",
            "b'\\x98\\x8c\\xf3\\x1d\\x1c_\\xa2C9L\\x04\\xe0k\\x02K\\x19\\xe9BcuY\\xf4)\\xf8i\\xe6\\xc4\\xa3\\xb7\\xd5\\xdanR\\xf0\\xab\\xa1\\xe5\\x89\\x16\\xeb\\xa3\\xbf\\x07\\xb5\\xc0\\xe9\\xcc\\xa5\\x0f\\xce\\x8b\\x0b\\xd3X\\x9ca\\x12w\\xd3\\xc1q\\xb8\\xed\\xf0'    204435\n",
            "b'\\x1a\\xeb\\xe7\\x1b \\x97?}=|\\xdf\\xe35k\\xc3\\xce3-\\x93W>j\\xcc\\xa3\\x06\\x03-=\\xc0\\x8b|\\xb5Z\\x00`?\\xbf_\\xe6)\\xf9\\xde\\xc2P\\xcc\\x0e\\x01\\x1fH\\x85\\xf9\\x1d=\\xf6R\\xbd\\xc1\\x8f\\xa7:\\x89s\\xe3?'                               202141\n",
            "b'\\xd9\\xf2\\xb7\\xd4c|f\\xed\\x02c\\x99I\\x11gyn\\xd7\\x1c\\x88\\x81s\\xfa\\x82\\x16>\\x1a\\'A\\x8e\\xf6\\xcc7\\xec\\xa4\\x1a\\x86\\xf8\\xa97o\\xef\\x93\\tj\\x9e\"\\x1b\\xa8!\\x96\\xd6D\\xab3\\x0e\\xa9G\\xf9\\xca\\x07\\xe1c\\xfb\\xfe'                 185801\n",
            "b\"\\x9bH\\xe2\\xaerX\\xea\\xf2\\xea\\xa1x*}\\xc0a\\x86\\x0em\\xc8\\xaf\\x98\\xea\\x04o\\xe470\\x1f\\x03\\xd8b\\x94\\x94MS\\rq\\xaf\\xeb\\xfd\\xe1\\xcb\\xf1r\\xb2\\xdb\\xd0\\xd0)\\xd6\\xfb\\x06F\\xbc=\\t'\\xcaO\\xd9\\xf6 \\xcf\\xca\"                    176925\n",
            "b'\\xee\\x0b\\xfb\\x89r\\xd5\\x92B\\xcb\\xdaRx\\xdcn#K\\xc7Q\\n\\xe0\\x84\\x80\\x04v\\x80@\\xdb\\x96\\xb1\\x92\\xe5\\x9b\\xb6\\x9dZ\\x81&\\xa7\"*L\\x0f\\x1ap\\xe2l\\x96E{x\\xd9\\xc2\\xa6\\x97\\xfa\\x03\\xcej\\xc9\\xfc\\xa0c\\x16\\xa1'                  172104\n",
            "b'o\\xeb\\x8bH\\xd1\\x98\\xcf\\x91\\xf1\\xb0v\\xd0\\xc8\\xd5Fo\\xb28\\xea\\x14\\xa1A\\x18&\\x87&\\xfe\\xff\\xd9:\\x84\\xf3\\xf8\\xdb\\xc3\\xc5Ug\\xa3\\xa0\\xd5\\xda\\xe9F\\x1e\\xd2\\x80\\xa5|\\xf2\\xf3\\x888m\\xb2\\x84Lk\\xc7o\\xdbQ_\\xa8'             166777\n",
            "b'C\\x04nOtoN\\xb8\\x8c\\x82\\xc9\\xd3\\xf4\\xe3Z\\xeb\\x82\\x97\\x1b\\x94fPP\\xf0\\x1a\\x82\\xca\\xc2\\x9c\\xcb\\xf9~w0o0\\xf0j\\x8c\\xf0\\x12~\\x06\\xd6\\xe7\\xeb\\x1a\\xd1~\\x98NkBl\\xc8\\x9e\\xb4\\r1\\x8f!\\xf8\\xdaN'                           165463\n",
            "b'\\x15=a\\xfc\\xcb\\xb5\\x10;\\xa2 [\\x8c\\xe1N\\x81\\xc6\\xd8\\xb9\\xe9\\xf0\\n\\xf5\\x03e\\xa2R\\xe8,\\x98\\xb5\\xcc\\x07(1\\xe3\\x92<8\\xfck\\xa7-\\xfb\\x03Bi\\xbd\\xd85z\\xffZ\\xdaUN\\xf7\\xef1\\xe8\\x99\\x9a\\xed\\n\\xb0'                       156389\n",
            "b'\\xa8\\xa0x\\xf6j\\xdcK\\\\-\\x1bw\\x9a\\xd8\\x01~82\\x124F8\\xb0\\x91g\\xfc\\x8eqQ\\x82\\x82r%\\r\\x92Z\\x1c&\\x8b\\xd7\\xbb\\x1b\\xed\\xf3.n%\\x1c\\xa9\\x0e3\\xf5\\xfb\\xd8K\\x8f\\xfd\\xbf|\\xe90\\xaa\\xc1\\xbb!'                                150679\n",
            "b'\\xa1n<\\xc87\\xdf.\\xad\\xe3\\xbd\\xf3^\\xa2dU\\xcb4\\xe8G\\xb4\\xf8\\xa9\"J\\x19Kq\\x0bQ\\x10O\\x7f\\xdb\\xfc\\xa0Wt\\xba\\x15}*\\xbc\"\\x7f+@DS\\x05\\x801P\\x0f8w\\xfe>\\xe8\\xc1F\\xe6\\xa3\\xa3\\x95'                                        137956\n",
            "b\"\\x88VT\\x9bP%\\xf4\\xfc\\x05\\xb9\\xe7\\xba\\xf1q\\xb2\\xee\\x17\\xf8\\xb5\\xe8\\x9fuW\\xa4\\xb64\\xe8\\xb3q\\xe5\\xddK\\x0cT [\\x93'D\\x9f]\\xf4\\x8cG\\x89\\x02\\x1f7jc\\xe4\\xc2\\xd7\\xedw\\x90\\x83\\x94b\\x03\\xa0}h=\"                         127227\n",
            "b'\\x91\\x08\\xd1\"\\x81B\\x0b\\x12\\xe9[U\\xf5\\x81<\\x1e\\xe9\\x1f@\\x8a\\xd4\\xe7\\x92\\x88h~?)t\\x0f_U\\xc4\\xbc\\x87\\x8d\\x86V\\xcf\\xc3\\x90\\xc0qc\\x11\\t\\xaa\\xf4\\x13\\xe6\\x1a.\\xd6\\x03f\\x9a]U\\xb9\\xcb\\xd9\\x13\\xdao\\xd9'               124876\n",
            "b'`\\x02\\xf8\\xcb\\xf0z\\xf5\\x9c\\xd0\\x08V\\xc2\\xbe(/\\xe8\\x93\\xd5\\xdc\\x8d\\xb1\\x9dr\\xf0A\\x98\\x1c{\\xa9\\xa5`\\xd6\\xf9\\x02s\\x8d(\\xce\\xd8\\xae\\xd6xzwj`\\xbc\\xf3\\xd4rd\\xab\\x12\\xfa\\xcc\\xef7\\xcb$\\xd5T\\xaf \\x9e'                124463\n",
            "b'\\xc1$H*\\xb8!\\xe9\\x0f\\x9a{)F\\xe6[\\xf3O\\x1b\\x1c\\xa3\\xbcIM<\\x9e75!\\x03\\r\\x96yL\\xa3\\t\\x1e\\xea\\xdd\\x14\\xe2\\xd5\\xf6\\xf4GE\\xbd\\xa6;\\xa4\\xeb\\x85\\xe0LC\\xd2\\x80\\x00\\r\\x94\\xf4X\"z\\x04A'                                  114768\n",
            "Name: count, dtype: int64\n",
            "Number of unique values: 720\n",
            "\n",
            "Column: digital_large\n",
            "digital_large\n",
            "業種不明                    6152282\n",
            "自動車・輸送用機器・用品            3362289\n",
            "金融・保険・証券                 436506\n",
            "製薬・医薬品                   414732\n",
            "通信                       252699\n",
            "住宅・不動産・建設                110637\n",
            "官公庁・各種団体                  70872\n",
            "食品                        40949\n",
            "インターネットサービス（主にToC商材）      38501\n",
            "ファッション・アクセサリー             36153\n",
            "化粧品・医薬部外品                 31672\n",
            "エネルギー・原材料・建材              24614\n",
            "家電・AV機器                   23427\n",
            "交通・運輸                     22990\n",
            "スポーツ用品                    16310\n",
            "飲料・嗜好品                    12123\n",
            "その他各種サービス                  8790\n",
            "学校・通信教育                    8244\n",
            "レジャー・娯楽・映画                 8169\n",
            "家庭用品・家具                    5900\n",
            "Name: count, dtype: int64\n",
            "Number of unique values: 30\n",
            "\n",
            "Column: digital_small\n",
            "digital_small\n",
            "業種不明               6152282\n",
            "自動車メーカー            3330201\n",
            "製薬                  350454\n",
            "生命保険・損害保険           262504\n",
            "通信                  252699\n",
            "銀行                  102361\n",
            "住宅建設・販売              92151\n",
            "官公庁・各種団体             64373\n",
            "金融(その他)              49334\n",
            "未設定                  45401\n",
            "食品(その他)              40540\n",
            "インターネットサービス          38501\n",
            "医薬品                  35968\n",
            "カジュアルウェア             32454\n",
            "自動車部品                32088\n",
            "化粧品                  31672\n",
            "家電・AV機器              23427\n",
            "証券                   22253\n",
            "運送・倉庫                21122\n",
            "エネルギー（石油・電力・ガス）      20490\n",
            "Name: count, dtype: int64\n",
            "Number of unique values: 49\n",
            "\n",
            "Column: device\n",
            "device\n",
            "PC         4634794\n",
            "スマートフォン    4604167\n",
            "タブレット端末    1861985\n",
            "Name: count, dtype: int64\n",
            "Number of unique values: 3\n",
            "\n",
            "Column: campaign_goal\n",
            "campaign_goal\n",
            "コンバージョン    3018521\n",
            "サイト誘導       339023\n",
            "ブランド認知        7258\n",
            "Name: count, dtype: int64\n",
            "Number of unique values: 3\n",
            "\n",
            "Column: purpose_of_conversion_measurement\n",
            "purpose_of_conversion_measurement\n",
            "主要なページの閲覧     3495529\n",
            "その他           2146819\n",
            "お申し込み         2002516\n",
            "購入/販売         1505801\n",
            "未設定           1414778\n",
            "販売促進           520788\n",
            "アプリをインストール      14715\n",
            "Name: count, dtype: int64\n",
            "Number of unique values: 7\n",
            "\n",
            "Column: creative_size\n",
            "creative_size\n",
            "300x250    7427173\n",
            "600x600    1149487\n",
            "728x90      575422\n",
            "320x50      454002\n",
            "320x100     447120\n",
            "300x600     446051\n",
            "640x360     304070\n",
            "468x60      178063\n",
            "160x600     119558\n",
            "Name: count, dtype: int64\n",
            "Number of unique values: 9\n",
            "\n",
            "Column: annotation\n",
            "annotation\n",
            "{\"banner_tagging_background\": \"背景パターン有り\"}                                                                                                                                                                                                                                                                                                                                                                                                                                                                                                                                                                                                                                                                                                                                                                                                                                                                                                                                                                                                     902231\n",
            "{\"banner_tagging_background\": \"背景(フォト)\"}                                                                                                                                                                                                                                                                                                                                                                                                                                                                                                                                                                                                                                                                                                                                                                                                                                                                                                                                                                                                      864479\n",
            "{\"banner_tagging_background\": \"ベタ一色/色 白\"}                                                                                                                                                                                                                                                                                                                                                                                                                                                                                                                                                                                                                                                                                                                                                                                                                                                                                                                                                                                                     380786\n",
            "{\"banner_tagging_background\": \"ベタ一色/色 青\"}                                                                                                                                                                                                                                                                                                                                                                                                                                                                                                                                                                                                                                                                                                                                                                                                                                                                                                                                                                                                      89496\n",
            "{\"banner_tagging_background\": \"ベタ一色/色 黒\"}                                                                                                                                                                                                                                                                                                                                                                                                                                                                                                                                                                                                                                                                                                                                                                                                                                                                                                                                                                                                      71139\n",
            "{\"banner_tagging_background\": \"ベタ一色/色 黄色\"}                                                                                                                                                                                                                                                                                                                                                                                                                                                                                                                                                                                                                                                                                                                                                                                                                                                                                                                                                                                                     39219\n",
            "{\"banner_tagging_background\": \"ベタ一色/色 オレンジ\"}                                                                                                                                                                                                                                                                                                                                                                                                                                                                                                                                                                                                                                                                                                                                                                                                                                                                                                                                                                                                   36961\n",
            "{\"banner_tagging_background\": \"ベタ一色/色 グレー\"}                                                                                                                                                                                                                                                                                                                                                                                                                                                                                                                                                                                                                                                                                                                                                                                                                                                                                                                                                                                                    31632\n",
            "{\"banner_tagging_background\": \"ベタ一色/色 緑\"}                                                                                                                                                                                                                                                                                                                                                                                                                                                                                                                                                                                                                                                                                                                                                                                                                                                                                                                                                                                                      20726\n",
            "{\"banner_tagging_background\": \"ベタ一色/色 その他\"}                                                                                                                                                                                                                                                                                                                                                                                                                                                                                                                                                                                                                                                                                                                                                                                                                                                                                                                                                                                                    19386\n",
            "{\"creative_text_tagging_detect\": [{\"id\": 7015, \"name\": \"詳細\"}], \"banner_tagging_button_band\": [{\"id\": 6002, \"name\": \"ボタン有 色（青\"}, {\"id\": 6103, \"name\": \"ボタン有 位置（右下）\"}], \"banner_tagging_background\": [{\"id\": 2001, \"name\": \"背景(フォト)\"}], \"banner_tagging_dominant\": [{\"id\": 3001, \"name\": \"最頻色 青\"}], \"banner_tagging_area\": [{\"id\": 8000, \"name\": \"人物（写真）\", \"area\": 0.03556}, {\"id\": 8001, \"name\": \"人物（イラスト調）\", \"area\": 0.0}, {\"id\": 8002, \"name\": \"動物（写真）\", \"area\": 0.0}, {\"id\": 8003, \"name\": \"動物（イラスト調）\", \"area\": 0.0}, {\"id\": 8004, \"name\": \"商品（写真）\", \"area\": 0.0}, {\"id\": 8005, \"name\": \"商品（イラスト調）\", \"area\": 0.0}, {\"id\": 8006, \"name\": \"ロゴ\", \"area\": 0.036653}, {\"id\": 8007, \"name\": \"テキスト\", \"area\": 0.12908}, {\"id\": 8008, \"name\": \"その他（写真）\", \"area\": 0.767227}, {\"id\": 8009, \"name\": \"その他（イラスト調）\", \"area\": 0.03148}], \"banner_tagging_object\": [{\"id\": 5002, \"name\": \"商品無し\"}], \"banner_tagging_person\": [{\"id\": 4101, \"name\": \"キャラクター無し\"}], \"face_genderage\": []}                                                                         17024\n",
            "{\"banner_tagging_background\": \"ベタ一色/色 赤\"}                                                                                                                                                                                                                                                                                                                                                                                                                                                                                                                                                                                                                                                                                                                                                                                                                                                                                                                                                                                                      16768\n",
            "{\"creative_text_tagging_detect\": [{\"id\": 7015, \"name\": \"詳細\"}], \"banner_tagging_button_band\": [{\"id\": 6002, \"name\": \"ボタン有 色（青\"}, {\"id\": 6103, \"name\": \"ボタン有 位置（右下）\"}], \"banner_tagging_background\": [{\"id\": 2001, \"name\": \"背景(フォト)\"}], \"banner_tagging_dominant\": [{\"id\": 3001, \"name\": \"最頻色 青\"}], \"banner_tagging_area\": [{\"id\": 8000, \"name\": \"人物（写真）\", \"area\": 0.0}, {\"id\": 8001, \"name\": \"人物（イラスト調）\", \"area\": 0.0}, {\"id\": 8002, \"name\": \"動物（写真）\", \"area\": 0.0}, {\"id\": 8003, \"name\": \"動物（イラスト調）\", \"area\": 0.0}, {\"id\": 8004, \"name\": \"商品（写真）\", \"area\": 0.0}, {\"id\": 8005, \"name\": \"商品（イラスト調）\", \"area\": 0.0}, {\"id\": 8006, \"name\": \"ロゴ\", \"area\": 0.036827}, {\"id\": 8007, \"name\": \"テキスト\", \"area\": 0.13396}, {\"id\": 8008, \"name\": \"その他（写真）\", \"area\": 0.809}, {\"id\": 8009, \"name\": \"その他（イラスト調）\", \"area\": 0.020213}], \"banner_tagging_object\": [{\"id\": 5002, \"name\": \"商品無し\"}], \"banner_tagging_person\": [{\"id\": 4010, \"name\": \"人物無し\"}, {\"id\": 4101, \"name\": \"キャラクター無し\"}], \"face_genderage\": []}                                                 16310\n",
            "{\"creative_text_tagging_detect\": [{\"id\": 7015, \"name\": \"詳細\"}], \"banner_tagging_button_band\": [{\"id\": 2002, \"name\": \"帯あり\"}, {\"id\": 6001, \"name\": \"ボタン有 色（赤\"}, {\"id\": 6104, \"name\": \"ボタン有 位置（中央下）\"}], \"banner_tagging_background\": [{\"id\": 2001, \"name\": \"背景(フォト)\"}], \"banner_tagging_dominant\": [{\"id\": 3009, \"name\": \"最頻色 グレー\"}], \"banner_tagging_area\": [{\"id\": 8000, \"name\": \"人物（写真）\", \"area\": 0.0}, {\"id\": 8001, \"name\": \"人物（イラスト調）\", \"area\": 0.0}, {\"id\": 8002, \"name\": \"動物（写真）\", \"area\": 0.0}, {\"id\": 8003, \"name\": \"動物（イラスト調）\", \"area\": 0.0}, {\"id\": 8004, \"name\": \"商品（写真）\", \"area\": 0.554133}, {\"id\": 8005, \"name\": \"商品（イラスト調）\", \"area\": 0.0}, {\"id\": 8006, \"name\": \"ロゴ\", \"area\": 0.063053}, {\"id\": 8007, \"name\": \"テキスト\", \"area\": 0.103973}, {\"id\": 8008, \"name\": \"その他（写真）\", \"area\": 0.181733}, {\"id\": 8009, \"name\": \"その他（イラスト調）\", \"area\": 0.097107}], \"banner_tagging_object\": [{\"id\": 5000, \"name\": \"商品あり 写真\"}], \"banner_tagging_person\": [{\"id\": 4010, \"name\": \"人物無し\"}, {\"id\": 4101, \"name\": \"キャラクター無し\"}], \"face_genderage\": []}     15395\n",
            "{\"creative_text_tagging_detect\": [{\"id\": 7015, \"name\": \"詳細\"}], \"banner_tagging_button_band\": [{\"id\": 2002, \"name\": \"帯あり\"}, {\"id\": 6001, \"name\": \"ボタン有 色（赤\"}, {\"id\": 6104, \"name\": \"ボタン有 位置（中央下）\"}], \"banner_tagging_background\": [{\"id\": 2001, \"name\": \"背景(フォト)\"}], \"banner_tagging_dominant\": [{\"id\": 3004, \"name\": \"最頻色 黒\"}], \"banner_tagging_area\": [{\"id\": 8000, \"name\": \"人物（写真）\", \"area\": 0.0}, {\"id\": 8001, \"name\": \"人物（イラスト調）\", \"area\": 0.0}, {\"id\": 8002, \"name\": \"動物（写真）\", \"area\": 0.0}, {\"id\": 8003, \"name\": \"動物（イラスト調）\", \"area\": 0.0}, {\"id\": 8004, \"name\": \"商品（写真）\", \"area\": 0.17936}, {\"id\": 8005, \"name\": \"商品（イラスト調）\", \"area\": 0.0}, {\"id\": 8006, \"name\": \"ロゴ\", \"area\": 0.045293}, {\"id\": 8007, \"name\": \"テキスト\", \"area\": 0.17044}, {\"id\": 8008, \"name\": \"その他（写真）\", \"area\": 0.517387}, {\"id\": 8009, \"name\": \"その他（イラスト調）\", \"area\": 0.08752}], \"banner_tagging_object\": [{\"id\": 5000, \"name\": \"商品あり 写真\"}], \"banner_tagging_person\": [{\"id\": 4010, \"name\": \"人物無し\"}, {\"id\": 4101, \"name\": \"キャラクター無し\"}], \"face_genderage\": []}          15304\n",
            "{\"creative_text_tagging_detect\": [{\"id\": 7015, \"name\": \"詳細\"}], \"banner_tagging_button_band\": [{\"id\": 2002, \"name\": \"帯あり\"}, {\"id\": 6001, \"name\": \"ボタン有 色（赤\"}, {\"id\": 6104, \"name\": \"ボタン有 位置（中央下）\"}], \"banner_tagging_background\": [{\"id\": 2001, \"name\": \"背景(フォト)\"}], \"banner_tagging_dominant\": [{\"id\": 3009, \"name\": \"最頻色 グレー\"}], \"banner_tagging_area\": [{\"id\": 8000, \"name\": \"人物（写真）\", \"area\": 0.0}, {\"id\": 8001, \"name\": \"人物（イラスト調）\", \"area\": 0.0}, {\"id\": 8002, \"name\": \"動物（写真）\", \"area\": 0.0}, {\"id\": 8003, \"name\": \"動物（イラスト調）\", \"area\": 0.0}, {\"id\": 8004, \"name\": \"商品（写真）\", \"area\": 0.192}, {\"id\": 8005, \"name\": \"商品（イラスト調）\", \"area\": 0.0}, {\"id\": 8006, \"name\": \"ロゴ\", \"area\": 0.12996}, {\"id\": 8007, \"name\": \"テキスト\", \"area\": 0.081867}, {\"id\": 8008, \"name\": \"その他（写真）\", \"area\": 0.326507}, {\"id\": 8009, \"name\": \"その他（イラスト調）\", \"area\": 0.269667}], \"banner_tagging_object\": [{\"id\": 5000, \"name\": \"商品あり 写真\"}], \"banner_tagging_person\": [{\"id\": 4010, \"name\": \"人物無し\"}, {\"id\": 4101, \"name\": \"キャラクター無し\"}], \"face_genderage\": []}         15193\n",
            "{\"creative_text_tagging_detect\": [{\"id\": 7015, \"name\": \"詳細\"}], \"banner_tagging_button_band\": [{\"id\": 2002, \"name\": \"帯あり\"}, {\"id\": 6001, \"name\": \"ボタン有 色（赤\"}, {\"id\": 6104, \"name\": \"ボタン有 位置（中央下）\"}], \"banner_tagging_background\": [{\"id\": 2001, \"name\": \"背景(フォト)\"}], \"banner_tagging_dominant\": [{\"id\": 3009, \"name\": \"最頻色 グレー\"}], \"banner_tagging_area\": [{\"id\": 8000, \"name\": \"人物（写真）\", \"area\": 0.0}, {\"id\": 8001, \"name\": \"人物（イラスト調）\", \"area\": 0.0}, {\"id\": 8002, \"name\": \"動物（写真）\", \"area\": 0.0}, {\"id\": 8003, \"name\": \"動物（イラスト調）\", \"area\": 0.0}, {\"id\": 8004, \"name\": \"商品（写真）\", \"area\": 0.62916}, {\"id\": 8005, \"name\": \"商品（イラスト調）\", \"area\": 0.0}, {\"id\": 8006, \"name\": \"ロゴ\", \"area\": 0.06052}, {\"id\": 8007, \"name\": \"テキスト\", \"area\": 0.133867}, {\"id\": 8008, \"name\": \"その他（写真）\", \"area\": 0.075427}, {\"id\": 8009, \"name\": \"その他（イラスト調）\", \"area\": 0.101027}], \"banner_tagging_object\": [{\"id\": 5000, \"name\": \"商品あり 写真\"}], \"banner_tagging_person\": [{\"id\": 4010, \"name\": \"人物無し\"}, {\"id\": 4101, \"name\": \"キャラクター無し\"}], \"face_genderage\": []}       15150\n",
            "{\"creative_text_tagging_detect\": [{\"id\": 7015, \"name\": \"詳細\"}], \"banner_tagging_button_band\": [{\"id\": 6001, \"name\": \"ボタン有 色（赤\"}, {\"id\": 6103, \"name\": \"ボタン有 位置（右下）\"}], \"banner_tagging_background\": [{\"id\": 2001, \"name\": \"背景(フォト)\"}], \"banner_tagging_dominant\": [{\"id\": 3001, \"name\": \"最頻色 青\"}], \"banner_tagging_area\": [{\"id\": 8000, \"name\": \"人物（写真）\", \"area\": 0.0}, {\"id\": 8001, \"name\": \"人物（イラスト調）\", \"area\": 0.0}, {\"id\": 8002, \"name\": \"動物（写真）\", \"area\": 0.0}, {\"id\": 8003, \"name\": \"動物（イラスト調）\", \"area\": 0.0}, {\"id\": 8004, \"name\": \"商品（写真）\", \"area\": 0.595267}, {\"id\": 8005, \"name\": \"商品（イラスト調）\", \"area\": 0.0}, {\"id\": 8006, \"name\": \"ロゴ\", \"area\": 0.05964}, {\"id\": 8007, \"name\": \"テキスト\", \"area\": 0.14948}, {\"id\": 8008, \"name\": \"その他（写真）\", \"area\": 0.162773}, {\"id\": 8009, \"name\": \"その他（イラスト調）\", \"area\": 0.03284}], \"banner_tagging_object\": [{\"id\": 5000, \"name\": \"商品あり 写真\"}], \"banner_tagging_person\": [{\"id\": 4010, \"name\": \"人物無し\"}, {\"id\": 4101, \"name\": \"キャラクター無し\"}], \"face_genderage\": []}                                        15006\n",
            "{\"creative_text_tagging_detect\": [{\"id\": 7015, \"name\": \"詳細\"}], \"banner_tagging_button_band\": [{\"id\": 6001, \"name\": \"ボタン有 色（赤\"}, {\"id\": 6103, \"name\": \"ボタン有 位置（右下）\"}], \"banner_tagging_background\": [{\"id\": 2001, \"name\": \"背景(フォト)\"}], \"banner_tagging_dominant\": [{\"id\": 3004, \"name\": \"最頻色 黒\"}], \"banner_tagging_area\": [{\"id\": 8000, \"name\": \"人物（写真）\", \"area\": 0.0}, {\"id\": 8001, \"name\": \"人物（イラスト調）\", \"area\": 0.0}, {\"id\": 8002, \"name\": \"動物（写真）\", \"area\": 0.0}, {\"id\": 8003, \"name\": \"動物（イラスト調）\", \"area\": 0.0}, {\"id\": 8004, \"name\": \"商品（写真）\", \"area\": 0.652307}, {\"id\": 8005, \"name\": \"商品（イラスト調）\", \"area\": 0.0}, {\"id\": 8006, \"name\": \"ロゴ\", \"area\": 0.05332}, {\"id\": 8007, \"name\": \"テキスト\", \"area\": 0.134387}, {\"id\": 8008, \"name\": \"その他（写真）\", \"area\": 0.0792}, {\"id\": 8009, \"name\": \"その他（イラスト調）\", \"area\": 0.080787}], \"banner_tagging_object\": [{\"id\": 5000, \"name\": \"商品あり 写真\"}], \"banner_tagging_person\": [{\"id\": 4010, \"name\": \"人物無し\"}, {\"id\": 4101, \"name\": \"キャラクター無し\"}], \"face_genderage\": []}                                        14777\n",
            "{\"creative_text_tagging_detect\": [{\"id\": 7015, \"name\": \"詳細\"}], \"banner_tagging_button_band\": [{\"id\": 2002, \"name\": \"帯あり\"}, {\"id\": 6001, \"name\": \"ボタン有 色（赤\"}, {\"id\": 6104, \"name\": \"ボタン有 位置（中央下）\"}], \"banner_tagging_background\": [{\"id\": 2001, \"name\": \"背景(フォト)\"}], \"banner_tagging_dominant\": [{\"id\": 3004, \"name\": \"最頻色 黒\"}], \"banner_tagging_area\": [{\"id\": 8000, \"name\": \"人物（写真）\", \"area\": 0.0}, {\"id\": 8001, \"name\": \"人物（イラスト調）\", \"area\": 0.0}, {\"id\": 8002, \"name\": \"動物（写真）\", \"area\": 0.0}, {\"id\": 8003, \"name\": \"動物（イラスト調）\", \"area\": 0.0}, {\"id\": 8004, \"name\": \"商品（写真）\", \"area\": 0.202733}, {\"id\": 8005, \"name\": \"商品（イラスト調）\", \"area\": 0.0}, {\"id\": 8006, \"name\": \"ロゴ\", \"area\": 0.070387}, {\"id\": 8007, \"name\": \"テキスト\", \"area\": 0.144893}, {\"id\": 8008, \"name\": \"その他（写真）\", \"area\": 0.489253}, {\"id\": 8009, \"name\": \"その他（イラスト調）\", \"area\": 0.092733}], \"banner_tagging_object\": [{\"id\": 5000, \"name\": \"商品あり 写真\"}], \"banner_tagging_person\": [{\"id\": 4010, \"name\": \"人物無し\"}, {\"id\": 4101, \"name\": \"キャラクター無し\"}], \"face_genderage\": []}       14421\n",
            "Name: count, dtype: int64\n",
            "Number of unique values: 20840\n",
            "\n",
            "Column: Month_name\n",
            "Month_name\n",
            "April        1649055\n",
            "March        1104484\n",
            "February     1083352\n",
            "August       1065145\n",
            "December     1024620\n",
            "October       928430\n",
            "January       884933\n",
            "September     858138\n",
            "November      709432\n",
            "July          643708\n",
            "June          617495\n",
            "May           532154\n",
            "Name: count, dtype: int64\n",
            "Number of unique values: 12\n",
            "\n",
            "Column: Day_of_week\n",
            "Day_of_week\n",
            "Friday       1789927\n",
            "Thursday     1710530\n",
            "Wednesday    1671575\n",
            "Tuesday      1670744\n",
            "Monday       1563267\n",
            "Saturday     1408809\n",
            "Sunday       1286094\n",
            "Name: count, dtype: int64\n",
            "Number of unique values: 7\n"
          ]
        }
      ]
    },
    {
      "cell_type": "markdown",
      "metadata": {
        "id": "68531e38"
      },
      "source": [
        "**Reasoning**:\n",
        "Based on the value counts, 'filename' and 'annotation' have a very large number of unique values with low frequencies, making them challenging for standard categorical encoding and potentially less relevant features individually. 'advertiser_id' also has high cardinality but might be more relevant as a grouping key. Other categorical features have manageable cardinality. Therefore, I will drop 'filename' and 'annotation' from the features used in the model.\n",
        "\n"
      ]
    },
    {
      "cell_type": "code",
      "metadata": {
        "colab": {
          "base_uri": "https://localhost:8080/"
        },
        "id": "0124f918",
        "outputId": "98d217be-fde1-4686-c4ee-dccc30315873"
      },
      "source": [
        "# Identify features to drop based on the analysis of unique values and cardinality.\n",
        "# 'filename' and 'annotation' have very high cardinality with many unique values appearing only once or a few times,\n",
        "# suggesting they might not be effective as individual features for a regression model with standard encoding.\n",
        "# 'advertiser_id' also has high cardinality but was used for grouping, which is handled separately.\n",
        "features_to_drop_from_model = ['filename', 'annotation']\n",
        "\n",
        "print(f\"Categorical features identified for dropping due to high cardinality/low relevance: {features_to_drop_from_model}\")\n",
        "\n",
        "# The subtask is completed by identifying the features to consider for removal."
      ],
      "execution_count": null,
      "outputs": [
        {
          "output_type": "stream",
          "name": "stdout",
          "text": [
            "Categorical features identified for dropping due to high cardinality/low relevance: ['filename', 'annotation']\n"
          ]
        }
      ]
    },
    {
      "cell_type": "markdown",
      "metadata": {
        "id": "8391f7d7"
      },
      "source": [
        "## Implement the chosen optimization within the pipeline\n",
        "\n",
        "### Subtask:\n",
        "Modify the preprocessing pipeline to incorporate the selected feature reduction by dropping the identified high-cardinality, low-relevance categorical features.\n"
      ]
    },
    {
      "cell_type": "markdown",
      "metadata": {
        "id": "d71660ed"
      },
      "source": [
        "**Reasoning**:\n",
        "The previous code failed because `train_data` and `val_data` were not defined in the current session. I need to re-execute the cells that load and prepare the data up to the point where `train_data` and `val_data` are created.\n",
        "\n"
      ]
    },
    {
      "cell_type": "code",
      "metadata": {
        "colab": {
          "base_uri": "https://localhost:8080/",
          "height": 221
        },
        "id": "qwfLzSk4nWep",
        "outputId": "1494f4cc-7314-4efb-bad1-c468a973ad50"
      },
      "source": [
        "# Re-execute the steps to load and prepare data\n",
        "\n",
        "# Load the training data\n",
        "# train_data2 = pd.read_csv('/content/drive/MyDrive/Colab Notebooks/2_1. training_data_yda.csv のコピー')\n",
        "# test_data = pd.read_csv('/content/drive/MyDrive/Colab Notebooks/dataset/3_1. prediction_data_yda.csv')\n",
        "\n",
        "# Apply the date function (assuming 'min_date' is present after loading)\n",
        "# train_df = date(train_data2)\n",
        "# test_df = date(test_data)\n",
        "\n",
        "# Downcast dtypes\n",
        "# train_df = downcast_dataframe_dtypes(train_df)\n",
        "# test_df = downcast_dataframe_dtypes(test_df)\n",
        "\n",
        "\n",
        "# Identify ID columns (already done in previous steps)\n",
        "# id_columns = ['advertiser_id', 'adgroup_id', 'ad_id']\n",
        "\n",
        "# Group and split data (re-executing from cell LwrHGvX87Wsc)\n",
        "grouped_data = train_df.groupby(id_columns)\n",
        "unique_groups_list = list(grouped_data.groups.keys())\n",
        "unique_groups = pd.DataFrame(unique_groups_list, columns=id_columns)\n",
        "train_groups, val_groups = train_test_split(unique_groups, test_size=0.2, random_state=42)\n",
        "\n",
        "# Reconstruct train_data and val_data (re-executing from cell 18e3c3d4)\n",
        "train_data = pd.merge(train_groups, train_df, on=id_columns, how='left')\n",
        "val_data = pd.merge(val_groups, train_df, on=id_columns, how='left')\n",
        "\n",
        "print(f\"Shape of train_data: {train_data.shape}\")\n",
        "print(f\"Shape of val_data: {val_data.shape}\")\n",
        "\n",
        "# Now, proceed with the feature definition and preprocessing from the original failed cell\n",
        "irrelevant_columns = ['cumu_ctr', 'cumu_clicks', 'cumu_cost', 'cumu_impressions', 'filename', 'min_date', 'delivery_days', 'annotation']\n",
        "X_train = train_data.drop(columns=irrelevant_columns)\n",
        "X_val = val_data.drop(columns=irrelevant_columns)\n",
        "\n",
        "numerical_features = X_train.select_dtypes(exclude=['object']).columns\n",
        "categorical_features = X_train.select_dtypes(include=['object']).columns\n",
        "\n",
        "preprocessor = ColumnTransformer(\n",
        "    transformers=[\n",
        "        ('num', StandardScaler(), numerical_features),\n",
        "        ('cat', OneHotEncoder(handle_unknown='ignore'), categorical_features)\n",
        "    ]\n",
        ")\n",
        "\n",
        "X_train_processed = preprocessor.fit_transform(X_train)\n",
        "X_val_processed = preprocessor.transform(X_val)\n",
        "\n",
        "print(\"Features defined, preprocessor created and fitted, and data transformed.\")\n",
        "print(f\"Shape of processed X_train: {X_train_processed.shape}\")\n",
        "print(f\"Shape of processed X_val: {X_val_processed.shape}\")"
      ],
      "execution_count": null,
      "outputs": [
        {
          "output_type": "error",
          "ename": "NameError",
          "evalue": "name 'train_test_split' is not defined",
          "traceback": [
            "\u001b[0;31m---------------------------------------------------------------------------\u001b[0m",
            "\u001b[0;31mNameError\u001b[0m                                 Traceback (most recent call last)",
            "\u001b[0;32m/tmp/ipython-input-31-3598925770.py\u001b[0m in \u001b[0;36m<cell line: 0>\u001b[0;34m()\u001b[0m\n\u001b[1;32m     21\u001b[0m \u001b[0munique_groups_list\u001b[0m \u001b[0;34m=\u001b[0m \u001b[0mlist\u001b[0m\u001b[0;34m(\u001b[0m\u001b[0mgrouped_data\u001b[0m\u001b[0;34m.\u001b[0m\u001b[0mgroups\u001b[0m\u001b[0;34m.\u001b[0m\u001b[0mkeys\u001b[0m\u001b[0;34m(\u001b[0m\u001b[0;34m)\u001b[0m\u001b[0;34m)\u001b[0m\u001b[0;34m\u001b[0m\u001b[0;34m\u001b[0m\u001b[0m\n\u001b[1;32m     22\u001b[0m \u001b[0munique_groups\u001b[0m \u001b[0;34m=\u001b[0m \u001b[0mpd\u001b[0m\u001b[0;34m.\u001b[0m\u001b[0mDataFrame\u001b[0m\u001b[0;34m(\u001b[0m\u001b[0munique_groups_list\u001b[0m\u001b[0;34m,\u001b[0m \u001b[0mcolumns\u001b[0m\u001b[0;34m=\u001b[0m\u001b[0mid_columns\u001b[0m\u001b[0;34m)\u001b[0m\u001b[0;34m\u001b[0m\u001b[0;34m\u001b[0m\u001b[0m\n\u001b[0;32m---> 23\u001b[0;31m \u001b[0mtrain_groups\u001b[0m\u001b[0;34m,\u001b[0m \u001b[0mval_groups\u001b[0m \u001b[0;34m=\u001b[0m \u001b[0mtrain_test_split\u001b[0m\u001b[0;34m(\u001b[0m\u001b[0munique_groups\u001b[0m\u001b[0;34m,\u001b[0m \u001b[0mtest_size\u001b[0m\u001b[0;34m=\u001b[0m\u001b[0;36m0.2\u001b[0m\u001b[0;34m,\u001b[0m \u001b[0mrandom_state\u001b[0m\u001b[0;34m=\u001b[0m\u001b[0;36m42\u001b[0m\u001b[0;34m)\u001b[0m\u001b[0;34m\u001b[0m\u001b[0;34m\u001b[0m\u001b[0m\n\u001b[0m\u001b[1;32m     24\u001b[0m \u001b[0;34m\u001b[0m\u001b[0m\n\u001b[1;32m     25\u001b[0m \u001b[0;31m# Reconstruct train_data and val_data (re-executing from cell 18e3c3d4)\u001b[0m\u001b[0;34m\u001b[0m\u001b[0;34m\u001b[0m\u001b[0m\n",
            "\u001b[0;31mNameError\u001b[0m: name 'train_test_split' is not defined"
          ]
        }
      ]
    },
    {
      "cell_type": "markdown",
      "metadata": {
        "id": "42f47fde"
      },
      "source": [
        "**Reasoning**:\n",
        "The previous code failed because `train_test_split` was not imported. I need to import `train_test_split` from `sklearn.model_selection` and then re-execute the code block that groups the data, splits it into training and validation sets, reconstructs the dataframes, defines the features, and performs preprocessing.\n",
        "\n"
      ]
    },
    {
      "cell_type": "code",
      "metadata": {
        "id": "tFCy7o_NnhRg"
      },
      "source": [
        "from sklearn.model_selection import train_test_split\n",
        "\n",
        "# Re-execute the steps to load and prepare data\n",
        "\n",
        "# Load the training data\n",
        "# train_data2 = pd.read_csv('/content/drive/MyDrive/Colab Notebooks/2_1. training_data_yda.csv のコピー')\n",
        "# test_data = pd.read_csv('/content/drive/MyDrive/Colab Notebooks/dataset/3_1. prediction_data_yda.csv')\n",
        "\n",
        "# Apply the date function (assuming 'min_date' is present after loading)\n",
        "# train_df = date(train_data2)\n",
        "# test_df = date(test_data)\n",
        "\n",
        "# Downcast dtypes\n",
        "# train_df = downcast_dataframe_dtypes(train_df)\n",
        "# test_df = downcast_dataframe_dtypes(test_df)\n",
        "\n",
        "\n",
        "# Identify ID columns (already done in previous steps)\n",
        "# id_columns = ['advertiser_id', 'adgroup_id', 'ad_id']\n",
        "\n",
        "# Group and split data (re-executing from cell LwrHGvX87Wsc)\n",
        "grouped_data = train_df.groupby(id_columns)\n",
        "unique_groups_list = list(grouped_data.groups.keys())\n",
        "unique_groups = pd.DataFrame(unique_groups_list, columns=id_columns)\n",
        "train_groups, val_groups = train_test_split(unique_groups, test_size=0.2, random_state=42)\n",
        "\n",
        "# Reconstruct train_data and val_data (re-executing from cell 18e3c3d4)\n",
        "train_data = pd.merge(train_groups, train_df, on=id_columns, how='left')\n",
        "val_data = pd.merge(val_groups, train_df, on=id_columns, how='left')\n",
        "\n",
        "print(f\"Shape of train_data: {train_data.shape}\")\n",
        "print(f\"Shape of val_data: {val_data.shape}\")\n",
        "\n",
        "# Now, proceed with the feature definition and preprocessing from the original failed cell\n",
        "irrelevant_columns = ['cumu_ctr', 'cumu_clicks', 'cumu_cost', 'cumu_impressions', 'filename', 'min_date', 'delivery_days', 'annotation']\n",
        "X_train = train_data.drop(columns=irrelevant_columns)\n",
        "X_val = val_data.drop(columns=irrelevant_columns)\n",
        "\n",
        "numerical_features = X_train.select_dtypes(exclude=['object']).columns\n",
        "categorical_features = X_train.select_dtypes(include=['object']).columns\n",
        "\n",
        "preprocessor = ColumnTransformer(\n",
        "    transformers=[\n",
        "        ('num', StandardScaler(), numerical_features),\n",
        "        ('cat', OneHotEncoder(handle_unknown='ignore'), categorical_features)\n",
        "    ]\n",
        ")\n",
        "\n",
        "X_train_processed = preprocessor.fit_transform(X_train)\n",
        "X_val_processed = preprocessor.transform(X_val)\n",
        "\n",
        "print(\"Features defined, preprocessor created and fitted, and data transformed.\")\n",
        "print(f\"Shape of processed X_train: {X_train_processed.shape}\")\n",
        "print(f\"Shape of processed X_val: {X_val_processed.shape}\")"
      ],
      "execution_count": null,
      "outputs": []
    },
    {
      "cell_type": "markdown",
      "metadata": {
        "id": "a0e3fb66"
      },
      "source": [
        "## Evaluate memory usage after pipeline application\n",
        "\n",
        "### Subtask:\n",
        "Check the memory usage of the processed training and validation data to assess the effectiveness of the feature reduction.\n"
      ]
    },
    {
      "cell_type": "markdown",
      "metadata": {
        "id": "923bca32"
      },
      "source": [
        "**Reasoning**:\n",
        "Print the memory usage of the processed training and validation data to assess the effectiveness of the feature reduction as requested by the instructions.\n",
        "\n"
      ]
    }
  ],
  "metadata": {
    "colab": {
      "provenance": [],
      "machine_shape": "hm",
      "gpuType": "L4",
      "include_colab_link": true
    },
    "kernelspec": {
      "display_name": "Python 3",
      "name": "python3"
    },
    "language_info": {
      "name": "python"
    },
    "accelerator": "GPU"
  },
  "nbformat": 4,
  "nbformat_minor": 0
}