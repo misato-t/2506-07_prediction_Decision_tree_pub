{
  "cells": [
    {
      "cell_type": "markdown",
      "metadata": {
        "id": "view-in-github",
        "colab_type": "text"
      },
      "source": [
        "<a href=\"https://colab.research.google.com/github/misato-t/2506-07_prediction_Decision_tree_pub/blob/main/lap_train_re_Decision_Tree.ipynb\" target=\"_parent\"><img src=\"https://colab.research.google.com/assets/colab-badge.svg\" alt=\"Open In Colab\"/></a>"
      ]
    },
    {
      "cell_type": "code",
      "execution_count": null,
      "metadata": {
        "id": "f1u9zTKZevvs",
        "colab": {
          "base_uri": "https://localhost:8080/"
        },
        "outputId": "c4579105-f179-40e6-ffa4-fb7c84225103"
      },
      "outputs": [
        {
          "output_type": "stream",
          "name": "stdout",
          "text": [
            "Drive already mounted at /content/drive; to attempt to forcibly remount, call drive.mount(\"/content/drive\", force_remount=True).\n"
          ]
        }
      ],
      "source": [
        "import numpy as np\n",
        "import pandas as pd\n",
        "import matplotlib.pyplot as plt\n",
        "import seaborn as sns\n",
        "import json\n",
        "\n",
        "from google.colab import drive\n",
        "drive.mount('/content/drive')\n",
        "\n",
        "train_data2 = pd.read_csv('/content/drive/MyDrive/lap_Processed_train.csv')\n",
        "test_data = pd.read_csv('/content/drive/MyDrive/lap_Processed_test.csv')\n",
        "\n",
        "# Drop the 'Unnamed: 0' column which is an artifact of saving/loading CSVs\n",
        "if 'Unnamed: 0' in train_data2.columns:\n",
        "    train_data2 = train_data2.drop(columns=['Unnamed: 0'])\n",
        "if 'Unnamed: 0' in test_data.columns:\n",
        "    test_data = test_data.drop(columns=['Unnamed: 0'])\n",
        "\n",
        "\n",
        "# train_data2 = pd.concat(train_data2, ignore_index=True)"
      ]
    },
    {
      "cell_type": "code",
      "execution_count": null,
      "metadata": {
        "collapsed": true,
        "id": "8QgazrTElT3s",
        "colab": {
          "base_uri": "https://localhost:8080/",
          "height": 365
        },
        "outputId": "593ffd42-a034-422f-cc1d-d0a62ac7040d"
      },
      "outputs": [
        {
          "output_type": "execute_result",
          "data": {
            "text/plain": [
              "                                          filename    min_date  delivery_days  \\\n",
              "0   531_d103cf5528763d2e_04d0c000001c04000003e.png  2021-02-01              7   \n",
              "1    53_94696b96956d5a13_f82fc00000003c0000000.png  2021-02-01             12   \n",
              "2  4516_ef0c711b5bd0630e_03e38000200301f18e000.png  2021-02-01             52   \n",
              "3  1542_b3cc44c9cd73330e_03dfc0000000180000000.png  2021-02-01             12   \n",
              "4    54_dbfd267960020fcc_ecefc00060000c0000000.png  2021-02-01             12   \n",
              "\n",
              "                                       advertiser_id    campaign_id  \\\n",
              "0  b'\\xd2\\xa7\\x04\\xc8J\\x1a\\x8e\\xa0.\\xe0\\xfb\\x96\\x...  5480222076730   \n",
              "1  b'Q\\xbb\\xc6T\\xd3<n\\xdf\\xb5Ax\\x0e\\xacx\\xc5aq\\xd...  6598822035762   \n",
              "2  b'\\x15\\x15\\x84\\xef\\x19D\\xc2\\xa9\\xfd\\xfd\\x96\\xb...   652881977716   \n",
              "3  b'Q\\xbb\\xc6T\\xd3<n\\xdf\\xb5Ax\\x0e\\xacx\\xc5aq\\xd...  6598822035762   \n",
              "4  b'Q\\xbb\\xc6T\\xd3<n\\xdf\\xb5Ax\\x0e\\xacx\\xc5aq\\xd...  6598822035762   \n",
              "\n",
              "      adgroup_id          ad_id  cumu_cost  cumu_impressions  cumu_clicks  \\\n",
              "0  8722222076838  1813222076134    15799.0             85922          498   \n",
              "1  6660822036066  3700822036866    16449.0             73687          116   \n",
              "2  1201881978731  3170422091082    23012.0            197875          119   \n",
              "3  6660822036066  8296822036784   833087.0            880403         5135   \n",
              "4  6660822036066  1026822037034     9083.0             55254           69   \n",
              "\n",
              "   cumu_ctr  digital_large digital_small campaign_goal creative_format  \\\n",
              "0  0.005796           業種不明          業種不明   APP_INSTALL           IMAGE   \n",
              "1  0.001574  ファッション・アクセサリー        ハイブランド  GAIN_FRIENDS           IMAGE   \n",
              "2  0.000601           業種不明          業種不明  GAIN_FRIENDS           IMAGE   \n",
              "3  0.005833  ファッション・アクセサリー        ハイブランド  GAIN_FRIENDS           IMAGE   \n",
              "4  0.001249  ファッション・アクセサリー        ハイブランド  GAIN_FRIENDS           IMAGE   \n",
              "\n",
              "  creative_call_to_action_type creative_size  \\\n",
              "0                   LEARN_MORE     1080x1080   \n",
              "1                   ADD_FRIEND     1080x1080   \n",
              "2                   ADD_FRIEND      1200x628   \n",
              "3                   ADD_FRIEND      1200x628   \n",
              "4                   ADD_FRIEND     1080x1080   \n",
              "\n",
              "                                          annotation  \n",
              "0          {\"banner_tagging_background\": \"背景パターン有り\"}  \n",
              "1          {\"banner_tagging_background\": \"ベタ一色/色 黒\"}  \n",
              "2           {\"banner_tagging_background\": \"背景(フォト)\"}  \n",
              "3  {\"creative_text_tagging_detect\": [], \"banner_t...  \n",
              "4  {\"creative_text_tagging_detect\": [], \"banner_t...  "
            ],
            "text/html": [
              "\n",
              "  <div id=\"df-e5e5b832-c326-4e07-8626-f9a45f11d283\" class=\"colab-df-container\">\n",
              "    <div>\n",
              "<style scoped>\n",
              "    .dataframe tbody tr th:only-of-type {\n",
              "        vertical-align: middle;\n",
              "    }\n",
              "\n",
              "    .dataframe tbody tr th {\n",
              "        vertical-align: top;\n",
              "    }\n",
              "\n",
              "    .dataframe thead th {\n",
              "        text-align: right;\n",
              "    }\n",
              "</style>\n",
              "<table border=\"1\" class=\"dataframe\">\n",
              "  <thead>\n",
              "    <tr style=\"text-align: right;\">\n",
              "      <th></th>\n",
              "      <th>filename</th>\n",
              "      <th>min_date</th>\n",
              "      <th>delivery_days</th>\n",
              "      <th>advertiser_id</th>\n",
              "      <th>campaign_id</th>\n",
              "      <th>adgroup_id</th>\n",
              "      <th>ad_id</th>\n",
              "      <th>cumu_cost</th>\n",
              "      <th>cumu_impressions</th>\n",
              "      <th>cumu_clicks</th>\n",
              "      <th>cumu_ctr</th>\n",
              "      <th>digital_large</th>\n",
              "      <th>digital_small</th>\n",
              "      <th>campaign_goal</th>\n",
              "      <th>creative_format</th>\n",
              "      <th>creative_call_to_action_type</th>\n",
              "      <th>creative_size</th>\n",
              "      <th>annotation</th>\n",
              "    </tr>\n",
              "  </thead>\n",
              "  <tbody>\n",
              "    <tr>\n",
              "      <th>0</th>\n",
              "      <td>531_d103cf5528763d2e_04d0c000001c04000003e.png</td>\n",
              "      <td>2021-02-01</td>\n",
              "      <td>7</td>\n",
              "      <td>b'\\xd2\\xa7\\x04\\xc8J\\x1a\\x8e\\xa0.\\xe0\\xfb\\x96\\x...</td>\n",
              "      <td>5480222076730</td>\n",
              "      <td>8722222076838</td>\n",
              "      <td>1813222076134</td>\n",
              "      <td>15799.0</td>\n",
              "      <td>85922</td>\n",
              "      <td>498</td>\n",
              "      <td>0.005796</td>\n",
              "      <td>業種不明</td>\n",
              "      <td>業種不明</td>\n",
              "      <td>APP_INSTALL</td>\n",
              "      <td>IMAGE</td>\n",
              "      <td>LEARN_MORE</td>\n",
              "      <td>1080x1080</td>\n",
              "      <td>{\"banner_tagging_background\": \"背景パターン有り\"}</td>\n",
              "    </tr>\n",
              "    <tr>\n",
              "      <th>1</th>\n",
              "      <td>53_94696b96956d5a13_f82fc00000003c0000000.png</td>\n",
              "      <td>2021-02-01</td>\n",
              "      <td>12</td>\n",
              "      <td>b'Q\\xbb\\xc6T\\xd3&lt;n\\xdf\\xb5Ax\\x0e\\xacx\\xc5aq\\xd...</td>\n",
              "      <td>6598822035762</td>\n",
              "      <td>6660822036066</td>\n",
              "      <td>3700822036866</td>\n",
              "      <td>16449.0</td>\n",
              "      <td>73687</td>\n",
              "      <td>116</td>\n",
              "      <td>0.001574</td>\n",
              "      <td>ファッション・アクセサリー</td>\n",
              "      <td>ハイブランド</td>\n",
              "      <td>GAIN_FRIENDS</td>\n",
              "      <td>IMAGE</td>\n",
              "      <td>ADD_FRIEND</td>\n",
              "      <td>1080x1080</td>\n",
              "      <td>{\"banner_tagging_background\": \"ベタ一色/色 黒\"}</td>\n",
              "    </tr>\n",
              "    <tr>\n",
              "      <th>2</th>\n",
              "      <td>4516_ef0c711b5bd0630e_03e38000200301f18e000.png</td>\n",
              "      <td>2021-02-01</td>\n",
              "      <td>52</td>\n",
              "      <td>b'\\x15\\x15\\x84\\xef\\x19D\\xc2\\xa9\\xfd\\xfd\\x96\\xb...</td>\n",
              "      <td>652881977716</td>\n",
              "      <td>1201881978731</td>\n",
              "      <td>3170422091082</td>\n",
              "      <td>23012.0</td>\n",
              "      <td>197875</td>\n",
              "      <td>119</td>\n",
              "      <td>0.000601</td>\n",
              "      <td>業種不明</td>\n",
              "      <td>業種不明</td>\n",
              "      <td>GAIN_FRIENDS</td>\n",
              "      <td>IMAGE</td>\n",
              "      <td>ADD_FRIEND</td>\n",
              "      <td>1200x628</td>\n",
              "      <td>{\"banner_tagging_background\": \"背景(フォト)\"}</td>\n",
              "    </tr>\n",
              "    <tr>\n",
              "      <th>3</th>\n",
              "      <td>1542_b3cc44c9cd73330e_03dfc0000000180000000.png</td>\n",
              "      <td>2021-02-01</td>\n",
              "      <td>12</td>\n",
              "      <td>b'Q\\xbb\\xc6T\\xd3&lt;n\\xdf\\xb5Ax\\x0e\\xacx\\xc5aq\\xd...</td>\n",
              "      <td>6598822035762</td>\n",
              "      <td>6660822036066</td>\n",
              "      <td>8296822036784</td>\n",
              "      <td>833087.0</td>\n",
              "      <td>880403</td>\n",
              "      <td>5135</td>\n",
              "      <td>0.005833</td>\n",
              "      <td>ファッション・アクセサリー</td>\n",
              "      <td>ハイブランド</td>\n",
              "      <td>GAIN_FRIENDS</td>\n",
              "      <td>IMAGE</td>\n",
              "      <td>ADD_FRIEND</td>\n",
              "      <td>1200x628</td>\n",
              "      <td>{\"creative_text_tagging_detect\": [], \"banner_t...</td>\n",
              "    </tr>\n",
              "    <tr>\n",
              "      <th>4</th>\n",
              "      <td>54_dbfd267960020fcc_ecefc00060000c0000000.png</td>\n",
              "      <td>2021-02-01</td>\n",
              "      <td>12</td>\n",
              "      <td>b'Q\\xbb\\xc6T\\xd3&lt;n\\xdf\\xb5Ax\\x0e\\xacx\\xc5aq\\xd...</td>\n",
              "      <td>6598822035762</td>\n",
              "      <td>6660822036066</td>\n",
              "      <td>1026822037034</td>\n",
              "      <td>9083.0</td>\n",
              "      <td>55254</td>\n",
              "      <td>69</td>\n",
              "      <td>0.001249</td>\n",
              "      <td>ファッション・アクセサリー</td>\n",
              "      <td>ハイブランド</td>\n",
              "      <td>GAIN_FRIENDS</td>\n",
              "      <td>IMAGE</td>\n",
              "      <td>ADD_FRIEND</td>\n",
              "      <td>1080x1080</td>\n",
              "      <td>{\"creative_text_tagging_detect\": [], \"banner_t...</td>\n",
              "    </tr>\n",
              "  </tbody>\n",
              "</table>\n",
              "</div>\n",
              "    <div class=\"colab-df-buttons\">\n",
              "\n",
              "  <div class=\"colab-df-container\">\n",
              "    <button class=\"colab-df-convert\" onclick=\"convertToInteractive('df-e5e5b832-c326-4e07-8626-f9a45f11d283')\"\n",
              "            title=\"Convert this dataframe to an interactive table.\"\n",
              "            style=\"display:none;\">\n",
              "\n",
              "  <svg xmlns=\"http://www.w3.org/2000/svg\" height=\"24px\" viewBox=\"0 -960 960 960\">\n",
              "    <path d=\"M120-120v-720h720v720H120Zm60-500h600v-160H180v160Zm220 220h160v-160H400v160Zm0 220h160v-160H400v160ZM180-400h160v-160H180v160Zm440 0h160v-160H620v160ZM180-180h160v-160H180v160Zm440 0h160v-160H620v160Z\"/>\n",
              "  </svg>\n",
              "    </button>\n",
              "\n",
              "  <style>\n",
              "    .colab-df-container {\n",
              "      display:flex;\n",
              "      gap: 12px;\n",
              "    }\n",
              "\n",
              "    .colab-df-convert {\n",
              "      background-color: #E8F0FE;\n",
              "      border: none;\n",
              "      border-radius: 50%;\n",
              "      cursor: pointer;\n",
              "      display: none;\n",
              "      fill: #1967D2;\n",
              "      height: 32px;\n",
              "      padding: 0 0 0 0;\n",
              "      width: 32px;\n",
              "    }\n",
              "\n",
              "    .colab-df-convert:hover {\n",
              "      background-color: #E2EBFA;\n",
              "      box-shadow: 0px 1px 2px rgba(60, 64, 67, 0.3), 0px 1px 3px 1px rgba(60, 64, 67, 0.15);\n",
              "      fill: #174EA6;\n",
              "    }\n",
              "\n",
              "    .colab-df-buttons div {\n",
              "      margin-bottom: 4px;\n",
              "    }\n",
              "\n",
              "    [theme=dark] .colab-df-convert {\n",
              "      background-color: #3B4455;\n",
              "      fill: #D2E3FC;\n",
              "    }\n",
              "\n",
              "    [theme=dark] .colab-df-convert:hover {\n",
              "      background-color: #434B5C;\n",
              "      box-shadow: 0px 1px 3px 1px rgba(0, 0, 0, 0.15);\n",
              "      filter: drop-shadow(0px 1px 2px rgba(0, 0, 0, 0.3));\n",
              "      fill: #FFFFFF;\n",
              "    }\n",
              "  </style>\n",
              "\n",
              "    <script>\n",
              "      const buttonEl =\n",
              "        document.querySelector('#df-e5e5b832-c326-4e07-8626-f9a45f11d283 button.colab-df-convert');\n",
              "      buttonEl.style.display =\n",
              "        google.colab.kernel.accessAllowed ? 'block' : 'none';\n",
              "\n",
              "      async function convertToInteractive(key) {\n",
              "        const element = document.querySelector('#df-e5e5b832-c326-4e07-8626-f9a45f11d283');\n",
              "        const dataTable =\n",
              "          await google.colab.kernel.invokeFunction('convertToInteractive',\n",
              "                                                    [key], {});\n",
              "        if (!dataTable) return;\n",
              "\n",
              "        const docLinkHtml = 'Like what you see? Visit the ' +\n",
              "          '<a target=\"_blank\" href=https://colab.research.google.com/notebooks/data_table.ipynb>data table notebook</a>'\n",
              "          + ' to learn more about interactive tables.';\n",
              "        element.innerHTML = '';\n",
              "        dataTable['output_type'] = 'display_data';\n",
              "        await google.colab.output.renderOutput(dataTable, element);\n",
              "        const docLink = document.createElement('div');\n",
              "        docLink.innerHTML = docLinkHtml;\n",
              "        element.appendChild(docLink);\n",
              "      }\n",
              "    </script>\n",
              "  </div>\n",
              "\n",
              "\n",
              "    <div id=\"df-3346d2b4-33d2-44ac-98b0-5efac7fac31a\">\n",
              "      <button class=\"colab-df-quickchart\" onclick=\"quickchart('df-3346d2b4-33d2-44ac-98b0-5efac7fac31a')\"\n",
              "                title=\"Suggest charts\"\n",
              "                style=\"display:none;\">\n",
              "\n",
              "<svg xmlns=\"http://www.w3.org/2000/svg\" height=\"24px\"viewBox=\"0 0 24 24\"\n",
              "     width=\"24px\">\n",
              "    <g>\n",
              "        <path d=\"M19 3H5c-1.1 0-2 .9-2 2v14c0 1.1.9 2 2 2h14c1.1 0 2-.9 2-2V5c0-1.1-.9-2-2-2zM9 17H7v-7h2v7zm4 0h-2V7h2v10zm4 0h-2v-4h2v4z\"/>\n",
              "    </g>\n",
              "</svg>\n",
              "      </button>\n",
              "\n",
              "<style>\n",
              "  .colab-df-quickchart {\n",
              "      --bg-color: #E8F0FE;\n",
              "      --fill-color: #1967D2;\n",
              "      --hover-bg-color: #E2EBFA;\n",
              "      --hover-fill-color: #174EA6;\n",
              "      --disabled-fill-color: #AAA;\n",
              "      --disabled-bg-color: #DDD;\n",
              "  }\n",
              "\n",
              "  [theme=dark] .colab-df-quickchart {\n",
              "      --bg-color: #3B4455;\n",
              "      --fill-color: #D2E3FC;\n",
              "      --hover-bg-color: #434B5C;\n",
              "      --hover-fill-color: #FFFFFF;\n",
              "      --disabled-bg-color: #3B4455;\n",
              "      --disabled-fill-color: #666;\n",
              "  }\n",
              "\n",
              "  .colab-df-quickchart {\n",
              "    background-color: var(--bg-color);\n",
              "    border: none;\n",
              "    border-radius: 50%;\n",
              "    cursor: pointer;\n",
              "    display: none;\n",
              "    fill: var(--fill-color);\n",
              "    height: 32px;\n",
              "    padding: 0;\n",
              "    width: 32px;\n",
              "  }\n",
              "\n",
              "  .colab-df-quickchart:hover {\n",
              "    background-color: var(--hover-bg-color);\n",
              "    box-shadow: 0 1px 2px rgba(60, 64, 67, 0.3), 0 1px 3px 1px rgba(60, 64, 67, 0.15);\n",
              "    fill: var(--button-hover-fill-color);\n",
              "  }\n",
              "\n",
              "  .colab-df-quickchart-complete:disabled,\n",
              "  .colab-df-quickchart-complete:disabled:hover {\n",
              "    background-color: var(--disabled-bg-color);\n",
              "    fill: var(--disabled-fill-color);\n",
              "    box-shadow: none;\n",
              "  }\n",
              "\n",
              "  .colab-df-spinner {\n",
              "    border: 2px solid var(--fill-color);\n",
              "    border-color: transparent;\n",
              "    border-bottom-color: var(--fill-color);\n",
              "    animation:\n",
              "      spin 1s steps(1) infinite;\n",
              "  }\n",
              "\n",
              "  @keyframes spin {\n",
              "    0% {\n",
              "      border-color: transparent;\n",
              "      border-bottom-color: var(--fill-color);\n",
              "      border-left-color: var(--fill-color);\n",
              "    }\n",
              "    20% {\n",
              "      border-color: transparent;\n",
              "      border-left-color: var(--fill-color);\n",
              "      border-top-color: var(--fill-color);\n",
              "    }\n",
              "    30% {\n",
              "      border-color: transparent;\n",
              "      border-left-color: var(--fill-color);\n",
              "      border-top-color: var(--fill-color);\n",
              "      border-right-color: var(--fill-color);\n",
              "    }\n",
              "    40% {\n",
              "      border-color: transparent;\n",
              "      border-right-color: var(--fill-color);\n",
              "      border-top-color: var(--fill-color);\n",
              "    }\n",
              "    60% {\n",
              "      border-color: transparent;\n",
              "      border-right-color: var(--fill-color);\n",
              "    }\n",
              "    80% {\n",
              "      border-color: transparent;\n",
              "      border-right-color: var(--fill-color);\n",
              "      border-bottom-color: var(--fill-color);\n",
              "    }\n",
              "    90% {\n",
              "      border-color: transparent;\n",
              "      border-bottom-color: var(--fill-color);\n",
              "    }\n",
              "  }\n",
              "</style>\n",
              "\n",
              "      <script>\n",
              "        async function quickchart(key) {\n",
              "          const quickchartButtonEl =\n",
              "            document.querySelector('#' + key + ' button');\n",
              "          quickchartButtonEl.disabled = true;  // To prevent multiple clicks.\n",
              "          quickchartButtonEl.classList.add('colab-df-spinner');\n",
              "          try {\n",
              "            const charts = await google.colab.kernel.invokeFunction(\n",
              "                'suggestCharts', [key], {});\n",
              "          } catch (error) {\n",
              "            console.error('Error during call to suggestCharts:', error);\n",
              "          }\n",
              "          quickchartButtonEl.classList.remove('colab-df-spinner');\n",
              "          quickchartButtonEl.classList.add('colab-df-quickchart-complete');\n",
              "        }\n",
              "        (() => {\n",
              "          let quickchartButtonEl =\n",
              "            document.querySelector('#df-3346d2b4-33d2-44ac-98b0-5efac7fac31a button');\n",
              "          quickchartButtonEl.style.display =\n",
              "            google.colab.kernel.accessAllowed ? 'block' : 'none';\n",
              "        })();\n",
              "      </script>\n",
              "    </div>\n",
              "\n",
              "    </div>\n",
              "  </div>\n"
            ],
            "application/vnd.google.colaboratory.intrinsic+json": {
              "type": "dataframe",
              "variable_name": "train_data2"
            }
          },
          "metadata": {},
          "execution_count": 2
        }
      ],
      "source": [
        "train_data2.head()"
      ]
    },
    {
      "cell_type": "code",
      "execution_count": null,
      "metadata": {
        "collapsed": true,
        "id": "xjI4ngjh8Bbg",
        "colab": {
          "base_uri": "https://localhost:8080/",
          "height": 313
        },
        "outputId": "43c5ec8d-7e02-498f-d282-f5f2dbdf4bda"
      },
      "outputs": [
        {
          "output_type": "execute_result",
          "data": {
            "text/plain": [
              "                                           filename    min_date  \\\n",
              "0  17365_e507f35617c46a32_19f700000000e81006007.png  2023-05-01   \n",
              "1  18447_b7409db768c949b4_1defc0001000000000000.png  2023-05-01   \n",
              "2  15391_a0db4d371ae0b595_00e00000200118603c001.png  2023-05-01   \n",
              "3  15879_bcf871874786c48e_04f180000000f40000000.png  2023-05-01   \n",
              "4  16108_b60cc3ce8c99736c_07df40000080000001000.png  2023-05-01   \n",
              "\n",
              "                                       advertiser_id    campaign_id  \\\n",
              "0  b\"\\xb6\\xb6\\xf2\\xbc\\xed'\\x06\\xe3\\x04\\xff2U\\xb5\\...  4640902691478   \n",
              "1  b'\\xcd\\x9c\\xe1W\\x0f\\xeawhy.u\\xf3\\xc0\\xcc\\tt\\xe...  1132622798123   \n",
              "2  b'\\xda\\xdd}\\x8b\\xf7\\x93\\xb7\\x12\\xcb\\x85\\xcf\\xe...  5565432716963   \n",
              "3  b'\\x7f\\x05\\x10w\\xd0\\x1f\\xf4;\\xd0r4\\xeb\\xaa&H\\x...  7854922777353   \n",
              "4  b\"/D\\x85\\xbbMM\\xa3Y=\\\\\\x98\\xc1\\xe0\\x8a^\\xaeD\\x...  6885312734153   \n",
              "\n",
              "      adgroup_id          ad_id digital_large digital_small  \\\n",
              "0   290902691988  7384152609450          業種不明          業種不明   \n",
              "1  3929622798427  9307722790853          業種不明          業種不明   \n",
              "2  6565432716963  7565432716963          業種不明          業種不明   \n",
              "3   148922777264   188922777768          業種不明          業種不明   \n",
              "4  5135122785063  7135122785064          業種不明          業種不明   \n",
              "\n",
              "        campaign_goal  creative_format creative_call_to_action_type  \\\n",
              "0  WEBSITE_CONVERSION            IMAGE                   LEARN_MORE   \n",
              "1    VISIT_MY_WEBSITE            IMAGE                   LEARN_MORE   \n",
              "2        GAIN_FRIENDS  SMALL_IMAGE_CPF                   ADD_FRIEND   \n",
              "3    VISIT_MY_WEBSITE            IMAGE                   LEARN_MORE   \n",
              "4        GAIN_FRIENDS            IMAGE                   ADD_FRIEND   \n",
              "\n",
              "  creative_size                                         annotation  \n",
              "0     1080x1080  {\"creative_text_tagging_detect\": [{\"id\": 7402,...  \n",
              "1     1080x1080  {\"creative_text_tagging_detect\": [], \"banner_t...  \n",
              "2       600x400  {\"creative_text_tagging_detect\": [], \"banner_t...  \n",
              "3     1080x1080  {\"creative_text_tagging_detect\": [], \"banner_t...  \n",
              "4     1080x1080  {\"creative_text_tagging_detect\": [{\"id\": 7006,...  "
            ],
            "text/html": [
              "\n",
              "  <div id=\"df-fe8c10cc-ae63-4a46-97ac-d4b1bcd824cf\" class=\"colab-df-container\">\n",
              "    <div>\n",
              "<style scoped>\n",
              "    .dataframe tbody tr th:only-of-type {\n",
              "        vertical-align: middle;\n",
              "    }\n",
              "\n",
              "    .dataframe tbody tr th {\n",
              "        vertical-align: top;\n",
              "    }\n",
              "\n",
              "    .dataframe thead th {\n",
              "        text-align: right;\n",
              "    }\n",
              "</style>\n",
              "<table border=\"1\" class=\"dataframe\">\n",
              "  <thead>\n",
              "    <tr style=\"text-align: right;\">\n",
              "      <th></th>\n",
              "      <th>filename</th>\n",
              "      <th>min_date</th>\n",
              "      <th>advertiser_id</th>\n",
              "      <th>campaign_id</th>\n",
              "      <th>adgroup_id</th>\n",
              "      <th>ad_id</th>\n",
              "      <th>digital_large</th>\n",
              "      <th>digital_small</th>\n",
              "      <th>campaign_goal</th>\n",
              "      <th>creative_format</th>\n",
              "      <th>creative_call_to_action_type</th>\n",
              "      <th>creative_size</th>\n",
              "      <th>annotation</th>\n",
              "    </tr>\n",
              "  </thead>\n",
              "  <tbody>\n",
              "    <tr>\n",
              "      <th>0</th>\n",
              "      <td>17365_e507f35617c46a32_19f700000000e81006007.png</td>\n",
              "      <td>2023-05-01</td>\n",
              "      <td>b\"\\xb6\\xb6\\xf2\\xbc\\xed'\\x06\\xe3\\x04\\xff2U\\xb5\\...</td>\n",
              "      <td>4640902691478</td>\n",
              "      <td>290902691988</td>\n",
              "      <td>7384152609450</td>\n",
              "      <td>業種不明</td>\n",
              "      <td>業種不明</td>\n",
              "      <td>WEBSITE_CONVERSION</td>\n",
              "      <td>IMAGE</td>\n",
              "      <td>LEARN_MORE</td>\n",
              "      <td>1080x1080</td>\n",
              "      <td>{\"creative_text_tagging_detect\": [{\"id\": 7402,...</td>\n",
              "    </tr>\n",
              "    <tr>\n",
              "      <th>1</th>\n",
              "      <td>18447_b7409db768c949b4_1defc0001000000000000.png</td>\n",
              "      <td>2023-05-01</td>\n",
              "      <td>b'\\xcd\\x9c\\xe1W\\x0f\\xeawhy.u\\xf3\\xc0\\xcc\\tt\\xe...</td>\n",
              "      <td>1132622798123</td>\n",
              "      <td>3929622798427</td>\n",
              "      <td>9307722790853</td>\n",
              "      <td>業種不明</td>\n",
              "      <td>業種不明</td>\n",
              "      <td>VISIT_MY_WEBSITE</td>\n",
              "      <td>IMAGE</td>\n",
              "      <td>LEARN_MORE</td>\n",
              "      <td>1080x1080</td>\n",
              "      <td>{\"creative_text_tagging_detect\": [], \"banner_t...</td>\n",
              "    </tr>\n",
              "    <tr>\n",
              "      <th>2</th>\n",
              "      <td>15391_a0db4d371ae0b595_00e00000200118603c001.png</td>\n",
              "      <td>2023-05-01</td>\n",
              "      <td>b'\\xda\\xdd}\\x8b\\xf7\\x93\\xb7\\x12\\xcb\\x85\\xcf\\xe...</td>\n",
              "      <td>5565432716963</td>\n",
              "      <td>6565432716963</td>\n",
              "      <td>7565432716963</td>\n",
              "      <td>業種不明</td>\n",
              "      <td>業種不明</td>\n",
              "      <td>GAIN_FRIENDS</td>\n",
              "      <td>SMALL_IMAGE_CPF</td>\n",
              "      <td>ADD_FRIEND</td>\n",
              "      <td>600x400</td>\n",
              "      <td>{\"creative_text_tagging_detect\": [], \"banner_t...</td>\n",
              "    </tr>\n",
              "    <tr>\n",
              "      <th>3</th>\n",
              "      <td>15879_bcf871874786c48e_04f180000000f40000000.png</td>\n",
              "      <td>2023-05-01</td>\n",
              "      <td>b'\\x7f\\x05\\x10w\\xd0\\x1f\\xf4;\\xd0r4\\xeb\\xaa&amp;H\\x...</td>\n",
              "      <td>7854922777353</td>\n",
              "      <td>148922777264</td>\n",
              "      <td>188922777768</td>\n",
              "      <td>業種不明</td>\n",
              "      <td>業種不明</td>\n",
              "      <td>VISIT_MY_WEBSITE</td>\n",
              "      <td>IMAGE</td>\n",
              "      <td>LEARN_MORE</td>\n",
              "      <td>1080x1080</td>\n",
              "      <td>{\"creative_text_tagging_detect\": [], \"banner_t...</td>\n",
              "    </tr>\n",
              "    <tr>\n",
              "      <th>4</th>\n",
              "      <td>16108_b60cc3ce8c99736c_07df40000080000001000.png</td>\n",
              "      <td>2023-05-01</td>\n",
              "      <td>b\"/D\\x85\\xbbMM\\xa3Y=\\\\\\x98\\xc1\\xe0\\x8a^\\xaeD\\x...</td>\n",
              "      <td>6885312734153</td>\n",
              "      <td>5135122785063</td>\n",
              "      <td>7135122785064</td>\n",
              "      <td>業種不明</td>\n",
              "      <td>業種不明</td>\n",
              "      <td>GAIN_FRIENDS</td>\n",
              "      <td>IMAGE</td>\n",
              "      <td>ADD_FRIEND</td>\n",
              "      <td>1080x1080</td>\n",
              "      <td>{\"creative_text_tagging_detect\": [{\"id\": 7006,...</td>\n",
              "    </tr>\n",
              "  </tbody>\n",
              "</table>\n",
              "</div>\n",
              "    <div class=\"colab-df-buttons\">\n",
              "\n",
              "  <div class=\"colab-df-container\">\n",
              "    <button class=\"colab-df-convert\" onclick=\"convertToInteractive('df-fe8c10cc-ae63-4a46-97ac-d4b1bcd824cf')\"\n",
              "            title=\"Convert this dataframe to an interactive table.\"\n",
              "            style=\"display:none;\">\n",
              "\n",
              "  <svg xmlns=\"http://www.w3.org/2000/svg\" height=\"24px\" viewBox=\"0 -960 960 960\">\n",
              "    <path d=\"M120-120v-720h720v720H120Zm60-500h600v-160H180v160Zm220 220h160v-160H400v160Zm0 220h160v-160H400v160ZM180-400h160v-160H180v160Zm440 0h160v-160H620v160ZM180-180h160v-160H180v160Zm440 0h160v-160H620v160Z\"/>\n",
              "  </svg>\n",
              "    </button>\n",
              "\n",
              "  <style>\n",
              "    .colab-df-container {\n",
              "      display:flex;\n",
              "      gap: 12px;\n",
              "    }\n",
              "\n",
              "    .colab-df-convert {\n",
              "      background-color: #E8F0FE;\n",
              "      border: none;\n",
              "      border-radius: 50%;\n",
              "      cursor: pointer;\n",
              "      display: none;\n",
              "      fill: #1967D2;\n",
              "      height: 32px;\n",
              "      padding: 0 0 0 0;\n",
              "      width: 32px;\n",
              "    }\n",
              "\n",
              "    .colab-df-convert:hover {\n",
              "      background-color: #E2EBFA;\n",
              "      box-shadow: 0px 1px 2px rgba(60, 64, 67, 0.3), 0px 1px 3px 1px rgba(60, 64, 67, 0.15);\n",
              "      fill: #174EA6;\n",
              "    }\n",
              "\n",
              "    .colab-df-buttons div {\n",
              "      margin-bottom: 4px;\n",
              "    }\n",
              "\n",
              "    [theme=dark] .colab-df-convert {\n",
              "      background-color: #3B4455;\n",
              "      fill: #D2E3FC;\n",
              "    }\n",
              "\n",
              "    [theme=dark] .colab-df-convert:hover {\n",
              "      background-color: #434B5C;\n",
              "      box-shadow: 0px 1px 3px 1px rgba(0, 0, 0, 0.15);\n",
              "      filter: drop-shadow(0px 1px 2px rgba(0, 0, 0, 0.3));\n",
              "      fill: #FFFFFF;\n",
              "    }\n",
              "  </style>\n",
              "\n",
              "    <script>\n",
              "      const buttonEl =\n",
              "        document.querySelector('#df-fe8c10cc-ae63-4a46-97ac-d4b1bcd824cf button.colab-df-convert');\n",
              "      buttonEl.style.display =\n",
              "        google.colab.kernel.accessAllowed ? 'block' : 'none';\n",
              "\n",
              "      async function convertToInteractive(key) {\n",
              "        const element = document.querySelector('#df-fe8c10cc-ae63-4a46-97ac-d4b1bcd824cf');\n",
              "        const dataTable =\n",
              "          await google.colab.kernel.invokeFunction('convertToInteractive',\n",
              "                                                    [key], {});\n",
              "        if (!dataTable) return;\n",
              "\n",
              "        const docLinkHtml = 'Like what you see? Visit the ' +\n",
              "          '<a target=\"_blank\" href=https://colab.research.google.com/notebooks/data_table.ipynb>data table notebook</a>'\n",
              "          + ' to learn more about interactive tables.';\n",
              "        element.innerHTML = '';\n",
              "        dataTable['output_type'] = 'display_data';\n",
              "        await google.colab.output.renderOutput(dataTable, element);\n",
              "        const docLink = document.createElement('div');\n",
              "        docLink.innerHTML = docLinkHtml;\n",
              "        element.appendChild(docLink);\n",
              "      }\n",
              "    </script>\n",
              "  </div>\n",
              "\n",
              "\n",
              "    <div id=\"df-30198cb9-a3e4-47b6-ac1e-10c47322c0ff\">\n",
              "      <button class=\"colab-df-quickchart\" onclick=\"quickchart('df-30198cb9-a3e4-47b6-ac1e-10c47322c0ff')\"\n",
              "                title=\"Suggest charts\"\n",
              "                style=\"display:none;\">\n",
              "\n",
              "<svg xmlns=\"http://www.w3.org/2000/svg\" height=\"24px\"viewBox=\"0 0 24 24\"\n",
              "     width=\"24px\">\n",
              "    <g>\n",
              "        <path d=\"M19 3H5c-1.1 0-2 .9-2 2v14c0 1.1.9 2 2 2h14c1.1 0 2-.9 2-2V5c0-1.1-.9-2-2-2zM9 17H7v-7h2v7zm4 0h-2V7h2v10zm4 0h-2v-4h2v4z\"/>\n",
              "    </g>\n",
              "</svg>\n",
              "      </button>\n",
              "\n",
              "<style>\n",
              "  .colab-df-quickchart {\n",
              "      --bg-color: #E8F0FE;\n",
              "      --fill-color: #1967D2;\n",
              "      --hover-bg-color: #E2EBFA;\n",
              "      --hover-fill-color: #174EA6;\n",
              "      --disabled-fill-color: #AAA;\n",
              "      --disabled-bg-color: #DDD;\n",
              "  }\n",
              "\n",
              "  [theme=dark] .colab-df-quickchart {\n",
              "      --bg-color: #3B4455;\n",
              "      --fill-color: #D2E3FC;\n",
              "      --hover-bg-color: #434B5C;\n",
              "      --hover-fill-color: #FFFFFF;\n",
              "      --disabled-bg-color: #3B4455;\n",
              "      --disabled-fill-color: #666;\n",
              "  }\n",
              "\n",
              "  .colab-df-quickchart {\n",
              "    background-color: var(--bg-color);\n",
              "    border: none;\n",
              "    border-radius: 50%;\n",
              "    cursor: pointer;\n",
              "    display: none;\n",
              "    fill: var(--fill-color);\n",
              "    height: 32px;\n",
              "    padding: 0;\n",
              "    width: 32px;\n",
              "  }\n",
              "\n",
              "  .colab-df-quickchart:hover {\n",
              "    background-color: var(--hover-bg-color);\n",
              "    box-shadow: 0 1px 2px rgba(60, 64, 67, 0.3), 0 1px 3px 1px rgba(60, 64, 67, 0.15);\n",
              "    fill: var(--button-hover-fill-color);\n",
              "  }\n",
              "\n",
              "  .colab-df-quickchart-complete:disabled,\n",
              "  .colab-df-quickchart-complete:disabled:hover {\n",
              "    background-color: var(--disabled-bg-color);\n",
              "    fill: var(--disabled-fill-color);\n",
              "    box-shadow: none;\n",
              "  }\n",
              "\n",
              "  .colab-df-spinner {\n",
              "    border: 2px solid var(--fill-color);\n",
              "    border-color: transparent;\n",
              "    border-bottom-color: var(--fill-color);\n",
              "    animation:\n",
              "      spin 1s steps(1) infinite;\n",
              "  }\n",
              "\n",
              "  @keyframes spin {\n",
              "    0% {\n",
              "      border-color: transparent;\n",
              "      border-bottom-color: var(--fill-color);\n",
              "      border-left-color: var(--fill-color);\n",
              "    }\n",
              "    20% {\n",
              "      border-color: transparent;\n",
              "      border-left-color: var(--fill-color);\n",
              "      border-top-color: var(--fill-color);\n",
              "    }\n",
              "    30% {\n",
              "      border-color: transparent;\n",
              "      border-left-color: var(--fill-color);\n",
              "      border-top-color: var(--fill-color);\n",
              "      border-right-color: var(--fill-color);\n",
              "    }\n",
              "    40% {\n",
              "      border-color: transparent;\n",
              "      border-right-color: var(--fill-color);\n",
              "      border-top-color: var(--fill-color);\n",
              "    }\n",
              "    60% {\n",
              "      border-color: transparent;\n",
              "      border-right-color: var(--fill-color);\n",
              "    }\n",
              "    80% {\n",
              "      border-color: transparent;\n",
              "      border-right-color: var(--fill-color);\n",
              "      border-bottom-color: var(--fill-color);\n",
              "    }\n",
              "    90% {\n",
              "      border-color: transparent;\n",
              "      border-bottom-color: var(--fill-color);\n",
              "    }\n",
              "  }\n",
              "</style>\n",
              "\n",
              "      <script>\n",
              "        async function quickchart(key) {\n",
              "          const quickchartButtonEl =\n",
              "            document.querySelector('#' + key + ' button');\n",
              "          quickchartButtonEl.disabled = true;  // To prevent multiple clicks.\n",
              "          quickchartButtonEl.classList.add('colab-df-spinner');\n",
              "          try {\n",
              "            const charts = await google.colab.kernel.invokeFunction(\n",
              "                'suggestCharts', [key], {});\n",
              "          } catch (error) {\n",
              "            console.error('Error during call to suggestCharts:', error);\n",
              "          }\n",
              "          quickchartButtonEl.classList.remove('colab-df-spinner');\n",
              "          quickchartButtonEl.classList.add('colab-df-quickchart-complete');\n",
              "        }\n",
              "        (() => {\n",
              "          let quickchartButtonEl =\n",
              "            document.querySelector('#df-30198cb9-a3e4-47b6-ac1e-10c47322c0ff button');\n",
              "          quickchartButtonEl.style.display =\n",
              "            google.colab.kernel.accessAllowed ? 'block' : 'none';\n",
              "        })();\n",
              "      </script>\n",
              "    </div>\n",
              "\n",
              "    </div>\n",
              "  </div>\n"
            ],
            "application/vnd.google.colaboratory.intrinsic+json": {
              "type": "dataframe",
              "variable_name": "test_data",
              "summary": "{\n  \"name\": \"test_data\",\n  \"rows\": 10664,\n  \"fields\": [\n    {\n      \"column\": \"filename\",\n      \"properties\": {\n        \"dtype\": \"string\",\n        \"num_unique_values\": 5569,\n        \"samples\": [\n          \"16906_8af6c66a3d05358d_04f18f04000000003f000.png\",\n          \"17012_d45a4fe730206b37_00f000000000fc0000001.png\",\n          \"18439_97953c684ae263e3_00e00000000100000003e.png\"\n        ],\n        \"semantic_type\": \"\",\n        \"description\": \"\"\n      }\n    },\n    {\n      \"column\": \"min_date\",\n      \"properties\": {\n        \"dtype\": \"object\",\n        \"num_unique_values\": 191,\n        \"samples\": [\n          \"2023-09-30\",\n          \"2023-07-15\",\n          \"2023-10-06\"\n        ],\n        \"semantic_type\": \"\",\n        \"description\": \"\"\n      }\n    },\n    {\n      \"column\": \"advertiser_id\",\n      \"properties\": {\n        \"dtype\": \"category\",\n        \"num_unique_values\": 332,\n        \"samples\": [\n          \"b'\\\\x91\\\\x0b!g\\\\nY\\\\xfc\\\\xb6\\\\xd4v\\\\x1e\\\\x96\\\\xa6\\\\xf6\\\\x18\\\\x95\\\\xdf\\\\x00\\\\xef\\\\xcb\\\\n\\\\xfd\\\\x8a\\\\xe2N\\\\x93\\\\x1a}\\\\xd8\\\\x9dl]\\\\xa0\\\\xe6*\\\\x7fO+\\\\xd9\\\\xaen\\\\xbb`x\\\\x15\\\\xa6?\\\\x00\\\\xa0\\\\xd0__\\\\x93\\\\xb6\\\\xad\\\\xc09\\\\xecy\\\\xa2\\\\xd9]\\\\xbd\\\\xcb'\",\n          \"b\\\"\\\\xef\\\\xfc\\\\n\\\\xa7\\\\xf0t\\\\x8c\\\\xff\\\\x05\\\\x9ck\\\\xd2\\\\xbd`\\\\xe88\\\\x1c-\\\\xafF\\\\\\\\\\\\x91\\\\xee\\\\x01RJ\\\\xc2]8\\\\x7f\\\\x88R\\\\xd1N/\\\\x14\\\\xeb\\\\xf4_x\\\\xba\\\\x82\\\\x88\\\\xd2\\\\xde:\\\\x9e\\\\xb1v\\\\x8e\\\\xd0sP\\\\x8b\\\\xd7'\\\\nw\\\\xc6{4\\\\xcf[\\\\xad\\\"\",\n          \"b\\\"\\\\x8d\\\\x9fi\\\\xa7\\\\xd8o\\\\x83A\\\\x0f>\\\\xf6\\\\xac\\\\x9e\\\\xf5\\\\x91b\\\\xeb\\\\x1a\\\\x0f4\\\\x9c\\\\xfd\\\\x1d7\\\\xc8'\\\\x9b-\\\\x96\\\\xfdT\\\\xb9\\\\xfe\\\\x96%\\\\xf7X\\\\xb0j)\\\\xca\\\\xea\\\\xa1\\\\xb8\\\\xc0\\\\x0e\\\\xb1\\\\xd1\\\\xec\\\\x93\\\\x12\\\\x84\\\\x18\\\\xf5{q\\\\x0b\\\\xb8\\\\xfbz\\\\xc6\\\\x9fz\\\\xb0\\\"\"\n        ],\n        \"semantic_type\": \"\",\n        \"description\": \"\"\n      }\n    },\n    {\n      \"column\": \"campaign_id\",\n      \"properties\": {\n        \"dtype\": \"number\",\n        \"std\": 2954555234813,\n        \"min\": 6712783067,\n        \"max\": 9990392758589,\n        \"num_unique_values\": 1106,\n        \"samples\": [\n          5748622456972,\n          8321732889354,\n          9349832342600\n        ],\n        \"semantic_type\": \"\",\n        \"description\": \"\"\n      }\n    },\n    {\n      \"column\": \"adgroup_id\",\n      \"properties\": {\n        \"dtype\": \"number\",\n        \"std\": 2848768265738,\n        \"min\": 6162821487,\n        \"max\": 9993292773619,\n        \"num_unique_values\": 1796,\n        \"samples\": [\n          1979642857579,\n          4359732714915,\n          9118942367062\n        ],\n        \"semantic_type\": \"\",\n        \"description\": \"\"\n      }\n    },\n    {\n      \"column\": \"ad_id\",\n      \"properties\": {\n        \"dtype\": \"number\",\n        \"std\": 2863305962180,\n        \"min\": 12802074,\n        \"max\": 9999632820233,\n        \"num_unique_values\": 10664,\n        \"samples\": [\n          1018342866745,\n          7402352828845,\n          6974292716896\n        ],\n        \"semantic_type\": \"\",\n        \"description\": \"\"\n      }\n    },\n    {\n      \"column\": \"digital_large\",\n      \"properties\": {\n        \"dtype\": \"category\",\n        \"num_unique_values\": 1,\n        \"samples\": [\n          \"\\u696d\\u7a2e\\u4e0d\\u660e\"\n        ],\n        \"semantic_type\": \"\",\n        \"description\": \"\"\n      }\n    },\n    {\n      \"column\": \"digital_small\",\n      \"properties\": {\n        \"dtype\": \"category\",\n        \"num_unique_values\": 1,\n        \"samples\": [\n          \"\\u696d\\u7a2e\\u4e0d\\u660e\"\n        ],\n        \"semantic_type\": \"\",\n        \"description\": \"\"\n      }\n    },\n    {\n      \"column\": \"campaign_goal\",\n      \"properties\": {\n        \"dtype\": \"category\",\n        \"num_unique_values\": 6,\n        \"samples\": [\n          \"WEBSITE_CONVERSION\"\n        ],\n        \"semantic_type\": \"\",\n        \"description\": \"\"\n      }\n    },\n    {\n      \"column\": \"creative_format\",\n      \"properties\": {\n        \"dtype\": \"category\",\n        \"num_unique_values\": 3,\n        \"samples\": [\n          \"IMAGE\"\n        ],\n        \"semantic_type\": \"\",\n        \"description\": \"\"\n      }\n    },\n    {\n      \"column\": \"creative_call_to_action_type\",\n      \"properties\": {\n        \"dtype\": \"category\",\n        \"num_unique_values\": 7,\n        \"samples\": [\n          \"LEARN_MORE\"\n        ],\n        \"semantic_type\": \"\",\n        \"description\": \"\"\n      }\n    },\n    {\n      \"column\": \"creative_size\",\n      \"properties\": {\n        \"dtype\": \"category\",\n        \"num_unique_values\": 3,\n        \"samples\": [\n          \"1080x1080\"\n        ],\n        \"semantic_type\": \"\",\n        \"description\": \"\"\n      }\n    },\n    {\n      \"column\": \"annotation\",\n      \"properties\": {\n        \"dtype\": \"string\",\n        \"num_unique_values\": 5540,\n        \"samples\": [\n          \"{\\\"creative_text_tagging_detect\\\": [{\\\"id\\\": 7003, \\\"name\\\": \\\"\\u5272\\u5f15\\\"}, {\\\"id\\\": 7015, \\\"name\\\": \\\"\\u8a73\\u7d30\\\"}, {\\\"id\\\": 7402, \\\"name\\\": \\\"\\u4fa1\\u683c\\\"}], \\\"banner_tagging_button_band\\\": [{\\\"id\\\": 6009, \\\"name\\\": \\\"\\u30dc\\u30bf\\u30f3\\u6709 \\u8272\\uff08\\u30aa\\u30ec\\u30f3\\u30b8\\\"}, {\\\"id\\\": 6103, \\\"name\\\": \\\"\\u30dc\\u30bf\\u30f3\\u6709 \\u4f4d\\u7f6e\\uff08\\u53f3\\u4e0b\\uff09\\\"}], \\\"banner_tagging_background\\\": [{\\\"id\\\": 2000, \\\"name\\\": \\\"\\u80cc\\u666f\\u30d1\\u30bf\\u30fc\\u30f3\\u6709\\u308a\\\"}], \\\"banner_tagging_dominant\\\": [{\\\"id\\\": 3003, \\\"name\\\": \\\"\\u6700\\u983b\\u8272 \\u767d\\\"}], \\\"banner_tagging_area\\\": [{\\\"id\\\": 8000, \\\"name\\\": \\\"\\u4eba\\u7269\\uff08\\u5199\\u771f\\uff09\\\", \\\"area\\\": 0.0}, {\\\"id\\\": 8001, \\\"name\\\": \\\"\\u4eba\\u7269\\uff08\\u30a4\\u30e9\\u30b9\\u30c8\\u8abf\\uff09\\\", \\\"area\\\": 0.0}, {\\\"id\\\": 8002, \\\"name\\\": \\\"\\u52d5\\u7269\\uff08\\u5199\\u771f\\uff09\\\", \\\"area\\\": 0.0}, {\\\"id\\\": 8003, \\\"name\\\": \\\"\\u52d5\\u7269\\uff08\\u30a4\\u30e9\\u30b9\\u30c8\\u8abf\\uff09\\\", \\\"area\\\": 0.0}, {\\\"id\\\": 8004, \\\"name\\\": \\\"\\u5546\\u54c1\\uff08\\u5199\\u771f\\uff09\\\", \\\"area\\\": 0.295265}, {\\\"id\\\": 8005, \\\"name\\\": \\\"\\u5546\\u54c1\\uff08\\u30a4\\u30e9\\u30b9\\u30c8\\u8abf\\uff09\\\", \\\"area\\\": 0.0}, {\\\"id\\\": 8006, \\\"name\\\": \\\"\\u30ed\\u30b4\\\", \\\"area\\\": 0.015971}, {\\\"id\\\": 8007, \\\"name\\\": \\\"\\u30c6\\u30ad\\u30b9\\u30c8\\\", \\\"area\\\": 0.162971}, {\\\"id\\\": 8008, \\\"name\\\": \\\"\\u305d\\u306e\\u4ed6\\uff08\\u5199\\u771f\\uff09\\\", \\\"area\\\": 0.0}, {\\\"id\\\": 8009, \\\"name\\\": \\\"\\u305d\\u306e\\u4ed6\\uff08\\u30a4\\u30e9\\u30b9\\u30c8\\u8abf\\uff09\\\", \\\"area\\\": 0.525792}], \\\"banner_tagging_object\\\": [{\\\"id\\\": 5000, \\\"name\\\": \\\"\\u5546\\u54c1\\u3042\\u308a \\u5199\\u771f\\\"}], \\\"banner_tagging_person\\\": [{\\\"id\\\": 4010, \\\"name\\\": \\\"\\u4eba\\u7269\\u7121\\u3057\\\"}, {\\\"id\\\": 4101, \\\"name\\\": \\\"\\u30ad\\u30e3\\u30e9\\u30af\\u30bf\\u30fc\\u7121\\u3057\\\"}], \\\"face_genderage\\\": []}\"\n        ],\n        \"semantic_type\": \"\",\n        \"description\": \"\"\n      }\n    }\n  ]\n}"
            }
          },
          "metadata": {},
          "execution_count": 3
        }
      ],
      "source": [
        "test_data.head()"
      ]
    },
    {
      "cell_type": "code",
      "execution_count": null,
      "metadata": {
        "id": "UgZLjPdPlxKd",
        "colab": {
          "base_uri": "https://localhost:8080/"
        },
        "outputId": "6c872a81-2392-4f7c-86f0-3305531ad033"
      },
      "outputs": [
        {
          "output_type": "stream",
          "name": "stdout",
          "text": [
            "Target Column: cumu_ctr\n",
            "\n",
            "Categorical Columns: ['filename', 'min_date', 'advertiser_id', 'digital_large', 'digital_small', 'campaign_goal', 'creative_format', 'creative_call_to_action_type', 'creative_size', 'annotation']\n",
            "\n",
            "Numerical Columns: ['delivery_days', 'campaign_id', 'adgroup_id', 'ad_id', 'cumu_cost', 'cumu_impressions', 'cumu_clicks', 'cumu_ctr']\n"
          ]
        }
      ],
      "source": [
        "# Define the target column\n",
        "target_column = 'cumu_ctr'\n",
        "\n",
        "# Select categorical and numerical columns (initial)\n",
        "categorical_columns = train_data2.select_dtypes(include=['object']).columns\n",
        "numerical_columns = train_data2.select_dtypes(exclude=['object']).columns\n",
        "\n",
        "# Print out column information\n",
        "print(\"Target Column:\", target_column)\n",
        "print(\"\\nCategorical Columns:\", categorical_columns.tolist())\n",
        "print(\"\\nNumerical Columns:\", numerical_columns.tolist())"
      ]
    },
    {
      "cell_type": "code",
      "execution_count": null,
      "metadata": {
        "id": "8zwMDfgNpuq4"
      },
      "outputs": [],
      "source": [
        "# Create a list of delivery days from 1 to 30\n",
        "delivery_days = list(range(1, 31))\n",
        "\n",
        "# Create expanded DataFrame\n",
        "test_df_expanded = pd.DataFrame(np.repeat(test_data.values, 30, axis=0), columns=test_data.columns)\n",
        "\n",
        "def date(df):\n",
        "\n",
        "    df['min_date'] = pd.to_datetime(df['min_date'])\n",
        "    df['Year'] = df['min_date'].dt.year\n",
        "    df['Day'] = df['min_date'].dt.day\n",
        "    df['Month'] = df['min_date'].dt.month\n",
        "    df['Month_name'] = df['min_date'].dt.month_name()\n",
        "    df['Day_of_week'] = df['min_date'].dt.day_name()\n",
        "    df['Week'] = df['min_date'].dt.isocalendar().week\n",
        "    df['Year_sin'] = np.sin(2 * np.pi * df['Year'])\n",
        "    df['Year_cos'] = np.cos(2 * np.pi * df['Year'])\n",
        "    min_year = df['Year'].min()\n",
        "    max_year = df['Year'].max()\n",
        "    df['Year_sin'] = np.sin(2 * np.pi * (df['Year'] - min_year) / (max_year - min_year))\n",
        "    df['Year_cos'] = np.cos(2 * np.pi * (df['Year'] - min_year) / (max_year - min_year))\n",
        "    df['Month_sin'] = np.sin(2 * np.pi * df['Month'] / 12)\n",
        "    df['Month_cos'] = np.cos(2 * np.pi * df['Month'] / 12)\n",
        "    df['Day_sin'] = np.sin(2 * np.pi * df['Day'] / 31)\n",
        "    df['Day_cos'] = np.cos(2 * np.pi * df['Day'] / 31)\n",
        "    df['Group']=(df['Year']-2020)*48+df['Month']*4+df['Day']//7\n",
        "\n",
        "\n",
        "\n",
        "    df.drop('min_date', axis=1, inplace=True)\n",
        "    return df"
      ]
    },
    {
      "cell_type": "code",
      "execution_count": null,
      "metadata": {
        "id": "HwlbeV7cJkHt"
      },
      "outputs": [],
      "source": [
        "# Apply the date function to both datasets\n",
        "train_df = date(train_data2)\n",
        "test_df = date(test_data)\n",
        "test_df_expanded = date(test_df_expanded)"
      ]
    },
    {
      "cell_type": "code",
      "source": [
        "train_df.drop(['annotation', 'filename'], axis=1, inplace=True)\n",
        "test_df.drop(['annotation', 'filename'], axis=1, inplace=True)"
      ],
      "metadata": {
        "id": "s4TFnyng2dam"
      },
      "execution_count": null,
      "outputs": []
    },
    {
      "cell_type": "code",
      "execution_count": null,
      "metadata": {
        "id": "pE9wfAj0mEKS",
        "colab": {
          "base_uri": "https://localhost:8080/"
        },
        "outputId": "00652da3-d243-41a9-eea7-8d9900965693"
      },
      "outputs": [
        {
          "output_type": "execute_result",
          "data": {
            "text/plain": [
              "Index(['delivery_days', 'advertiser_id', 'campaign_id', 'adgroup_id', 'ad_id',\n",
              "       'cumu_cost', 'cumu_impressions', 'cumu_clicks', 'cumu_ctr',\n",
              "       'digital_large', 'digital_small', 'campaign_goal', 'creative_format',\n",
              "       'creative_call_to_action_type', 'creative_size', 'Year', 'Day', 'Month',\n",
              "       'Month_name', 'Day_of_week', 'Week', 'Year_sin', 'Year_cos',\n",
              "       'Month_sin', 'Month_cos', 'Day_sin', 'Day_cos', 'Group'],\n",
              "      dtype='object')"
            ]
          },
          "metadata": {},
          "execution_count": 9
        }
      ],
      "source": [
        "train_df.columns"
      ]
    },
    {
      "cell_type": "code",
      "execution_count": null,
      "metadata": {
        "id": "lYL1hb_4JvBq",
        "colab": {
          "base_uri": "https://localhost:8080/"
        },
        "outputId": "6f4f0d37-b627-422d-be2d-a8b344ff599f"
      },
      "outputs": [
        {
          "output_type": "execute_result",
          "data": {
            "text/plain": [
              "Index(['advertiser_id', 'campaign_id', 'adgroup_id', 'ad_id', 'digital_large',\n",
              "       'digital_small', 'campaign_goal', 'creative_format',\n",
              "       'creative_call_to_action_type', 'creative_size', 'Year', 'Day', 'Month',\n",
              "       'Month_name', 'Day_of_week', 'Week', 'Year_sin', 'Year_cos',\n",
              "       'Month_sin', 'Month_cos', 'Day_sin', 'Day_cos', 'Group'],\n",
              "      dtype='object')"
            ]
          },
          "metadata": {},
          "execution_count": 10
        }
      ],
      "source": [
        "test_df.columns"
      ]
    },
    {
      "cell_type": "code",
      "execution_count": null,
      "metadata": {
        "id": "liPBx5KWz-S2"
      },
      "outputs": [],
      "source": [
        "# print(train_df.duplicated(subset=['advertiser_id', 'adgroup_id', 'ad_id', 'campaign_id']))"
      ]
    },
    {
      "cell_type": "code",
      "execution_count": null,
      "metadata": {
        "id": "ykQUSeDAz97e",
        "colab": {
          "base_uri": "https://localhost:8080/"
        },
        "outputId": "7e648c46-0768-44ee-fd18-6feba1c2ea4a"
      },
      "outputs": [
        {
          "output_type": "stream",
          "name": "stdout",
          "text": [
            "True     2413422\n",
            "False      49149\n",
            "Name: count, dtype: int64\n"
          ]
        }
      ],
      "source": [
        "print(train_df.duplicated(subset=['advertiser_id', 'adgroup_id', 'ad_id', 'campaign_id']).value_counts())"
      ]
    },
    {
      "cell_type": "code",
      "execution_count": null,
      "metadata": {
        "id": "OBlfRfUJ-FlJ",
        "colab": {
          "base_uri": "https://localhost:8080/"
        },
        "outputId": "4d3fdaa9-bd0c-4ac8-b9f8-464f241edd00"
      },
      "outputs": [
        {
          "output_type": "stream",
          "name": "stdout",
          "text": [
            "ID columns for grouping: ['advertiser_id', 'adgroup_id', 'ad_id', 'campaign_id']\n"
          ]
        }
      ],
      "source": [
        "# Create a list of the ID columns to be used for grouping\n",
        "id_columns = ['advertiser_id', 'adgroup_id', 'ad_id', 'campaign_id']\n",
        "\n",
        "print(\"ID columns for grouping:\", id_columns)"
      ]
    },
    {
      "cell_type": "code",
      "execution_count": null,
      "metadata": {
        "id": "pigG2Wxx-ZEl"
      },
      "outputs": [],
      "source": [
        "# from sklearn.model_selection import cross_val_score, StratifiedKFold\n",
        "\n",
        "# Group the train_df DataFrame by the columns listed in id_columns\n",
        "# grouped_data = train_df.groupby(id_columns)\n",
        "\n",
        "# Since reset_index() failed previously, let's try creating a list of groups directly\n",
        "# This will give us the group keys, which are the unique combinations of id_columns\n",
        "# unique_groups_list = list(grouped_data.groups.keys())\n",
        "\n",
        "# Convert the list of tuples to a DataFrame\n",
        "# unique_groups = pd.DataFrame(unique_groups_list, columns=id_columns)\n",
        "\n",
        "\n",
        "# Split these unique groups into training and validation sets using train_test_split.\n",
        "# train_groups, val_groups = train_test_split(unique_groups, test_size=0.2, random_state=42)\n",
        "\n",
        "# Display the number of groups in each set\n",
        "# print(f\"Number of training groups: {len(train_groups)}\")\n",
        "# print(f\"Number of validation groups: {len(val_groups)}\")"
      ]
    },
    {
      "cell_type": "code",
      "execution_count": null,
      "metadata": {
        "collapsed": true,
        "id": "pQAKGtLC-kvp"
      },
      "outputs": [],
      "source": [
        "# Merge train_groups with the original train_df\n",
        "# train_data = pd.merge(train_groups, train_df, on=id_columns, how='left')\n",
        "\n",
        "# Merge val_groups with the original train_df\n",
        "# val_data = pd.merge(val_groups, train_df, on=id_columns, how='left')\n",
        "\n",
        "# Display the shapes of the resulting DataFrames\n",
        "# print(f\"Shape of train_data: {train_data.shape}\")\n",
        "# print(train_data.head())\n",
        "# print(f\"Shape of val_data: {val_data.shape}\")"
      ]
    },
    {
      "cell_type": "code",
      "source": [
        "train_df.dropna()\n",
        "test_df.dropna()"
      ],
      "metadata": {
        "colab": {
          "base_uri": "https://localhost:8080/",
          "height": 99
        },
        "id": "orskJky_wxLO",
        "outputId": "132dc268-fe8a-4d31-86d6-b64821e7fd8e"
      },
      "execution_count": null,
      "outputs": [
        {
          "output_type": "execute_result",
          "data": {
            "text/plain": [
              "Empty DataFrame\n",
              "Columns: [advertiser_id, campaign_id, adgroup_id, ad_id, digital_large, digital_small, campaign_goal, creative_format, creative_call_to_action_type, creative_size, Year, Day, Month, Month_name, Day_of_week, Week, Year_sin, Year_cos, Month_sin, Month_cos, Day_sin, Day_cos, Group]\n",
              "Index: []\n",
              "\n",
              "[0 rows x 23 columns]"
            ],
            "text/html": [
              "\n",
              "  <div id=\"df-c41c83ec-44b4-47c4-a5ce-9acad02a3170\" class=\"colab-df-container\">\n",
              "    <div>\n",
              "<style scoped>\n",
              "    .dataframe tbody tr th:only-of-type {\n",
              "        vertical-align: middle;\n",
              "    }\n",
              "\n",
              "    .dataframe tbody tr th {\n",
              "        vertical-align: top;\n",
              "    }\n",
              "\n",
              "    .dataframe thead th {\n",
              "        text-align: right;\n",
              "    }\n",
              "</style>\n",
              "<table border=\"1\" class=\"dataframe\">\n",
              "  <thead>\n",
              "    <tr style=\"text-align: right;\">\n",
              "      <th></th>\n",
              "      <th>advertiser_id</th>\n",
              "      <th>campaign_id</th>\n",
              "      <th>adgroup_id</th>\n",
              "      <th>ad_id</th>\n",
              "      <th>digital_large</th>\n",
              "      <th>digital_small</th>\n",
              "      <th>campaign_goal</th>\n",
              "      <th>creative_format</th>\n",
              "      <th>creative_call_to_action_type</th>\n",
              "      <th>creative_size</th>\n",
              "      <th>...</th>\n",
              "      <th>Month_name</th>\n",
              "      <th>Day_of_week</th>\n",
              "      <th>Week</th>\n",
              "      <th>Year_sin</th>\n",
              "      <th>Year_cos</th>\n",
              "      <th>Month_sin</th>\n",
              "      <th>Month_cos</th>\n",
              "      <th>Day_sin</th>\n",
              "      <th>Day_cos</th>\n",
              "      <th>Group</th>\n",
              "    </tr>\n",
              "  </thead>\n",
              "  <tbody>\n",
              "  </tbody>\n",
              "</table>\n",
              "<p>0 rows × 23 columns</p>\n",
              "</div>\n",
              "    <div class=\"colab-df-buttons\">\n",
              "\n",
              "  <div class=\"colab-df-container\">\n",
              "    <button class=\"colab-df-convert\" onclick=\"convertToInteractive('df-c41c83ec-44b4-47c4-a5ce-9acad02a3170')\"\n",
              "            title=\"Convert this dataframe to an interactive table.\"\n",
              "            style=\"display:none;\">\n",
              "\n",
              "  <svg xmlns=\"http://www.w3.org/2000/svg\" height=\"24px\" viewBox=\"0 -960 960 960\">\n",
              "    <path d=\"M120-120v-720h720v720H120Zm60-500h600v-160H180v160Zm220 220h160v-160H400v160Zm0 220h160v-160H400v160ZM180-400h160v-160H180v160Zm440 0h160v-160H620v160ZM180-180h160v-160H180v160Zm440 0h160v-160H620v160Z\"/>\n",
              "  </svg>\n",
              "    </button>\n",
              "\n",
              "  <style>\n",
              "    .colab-df-container {\n",
              "      display:flex;\n",
              "      gap: 12px;\n",
              "    }\n",
              "\n",
              "    .colab-df-convert {\n",
              "      background-color: #E8F0FE;\n",
              "      border: none;\n",
              "      border-radius: 50%;\n",
              "      cursor: pointer;\n",
              "      display: none;\n",
              "      fill: #1967D2;\n",
              "      height: 32px;\n",
              "      padding: 0 0 0 0;\n",
              "      width: 32px;\n",
              "    }\n",
              "\n",
              "    .colab-df-convert:hover {\n",
              "      background-color: #E2EBFA;\n",
              "      box-shadow: 0px 1px 2px rgba(60, 64, 67, 0.3), 0px 1px 3px 1px rgba(60, 64, 67, 0.15);\n",
              "      fill: #174EA6;\n",
              "    }\n",
              "\n",
              "    .colab-df-buttons div {\n",
              "      margin-bottom: 4px;\n",
              "    }\n",
              "\n",
              "    [theme=dark] .colab-df-convert {\n",
              "      background-color: #3B4455;\n",
              "      fill: #D2E3FC;\n",
              "    }\n",
              "\n",
              "    [theme=dark] .colab-df-convert:hover {\n",
              "      background-color: #434B5C;\n",
              "      box-shadow: 0px 1px 3px 1px rgba(0, 0, 0, 0.15);\n",
              "      filter: drop-shadow(0px 1px 2px rgba(0, 0, 0, 0.3));\n",
              "      fill: #FFFFFF;\n",
              "    }\n",
              "  </style>\n",
              "\n",
              "    <script>\n",
              "      const buttonEl =\n",
              "        document.querySelector('#df-c41c83ec-44b4-47c4-a5ce-9acad02a3170 button.colab-df-convert');\n",
              "      buttonEl.style.display =\n",
              "        google.colab.kernel.accessAllowed ? 'block' : 'none';\n",
              "\n",
              "      async function convertToInteractive(key) {\n",
              "        const element = document.querySelector('#df-c41c83ec-44b4-47c4-a5ce-9acad02a3170');\n",
              "        const dataTable =\n",
              "          await google.colab.kernel.invokeFunction('convertToInteractive',\n",
              "                                                    [key], {});\n",
              "        if (!dataTable) return;\n",
              "\n",
              "        const docLinkHtml = 'Like what you see? Visit the ' +\n",
              "          '<a target=\"_blank\" href=https://colab.research.google.com/notebooks/data_table.ipynb>data table notebook</a>'\n",
              "          + ' to learn more about interactive tables.';\n",
              "        element.innerHTML = '';\n",
              "        dataTable['output_type'] = 'display_data';\n",
              "        await google.colab.output.renderOutput(dataTable, element);\n",
              "        const docLink = document.createElement('div');\n",
              "        docLink.innerHTML = docLinkHtml;\n",
              "        element.appendChild(docLink);\n",
              "      }\n",
              "    </script>\n",
              "  </div>\n",
              "\n",
              "\n",
              "    </div>\n",
              "  </div>\n"
            ],
            "application/vnd.google.colaboratory.intrinsic+json": {
              "type": "dataframe"
            }
          },
          "metadata": {},
          "execution_count": 11
        }
      ]
    },
    {
      "cell_type": "code",
      "source": [
        "train_df.to_csv('/content/drive/MyDrive/Colab Notebooks/lap_Processed_train.csv')\n",
        "test_df.to_csv('/content/drive/MyDrive/Colab Notebooks/lap_Processed_test.csv')"
      ],
      "metadata": {
        "id": "V4oWnn7l3lh2"
      },
      "execution_count": null,
      "outputs": []
    },
    {
      "cell_type": "code",
      "source": [
        "from sklearn.compose import ColumnTransformer\n",
        "from sklearn.pipeline import Pipeline, make_pipeline\n",
        "from sklearn.preprocessing import RobustScaler, TargetEncoder\n",
        "from sklearn.tree import DecisionTreeRegressor\n",
        "from sklearn.model_selection import cross_val_score, GroupKFold\n",
        "from sklearn.impute import SimpleImputer\n",
        "\n",
        "# 1. Define the target variable y_train\n",
        "y_train = train_data2['cumu_ctr']\n",
        "\n",
        "# Define the id_columns for grouping\n",
        "id_columns = ['advertiser_id', 'adgroup_id', 'ad_id', 'campaign_id']\n",
        "\n",
        "# Create group labels based on id_columns from the original train_data\n",
        "# Convert the id_columns to string type and combine them to create unique group identifiers\n",
        "train_groups = train_data2[id_columns].astype(str).agg('_'.join, axis=1)\n",
        "\n",
        "\n",
        "# 2. Define the feature sets X_train for the model\n",
        "# These are the columns that will be used to train the regression model\n",
        "irrelevant_columns_for_features = ['cumu_ctr', 'cumu_clicks', 'cumu_cost', 'cumu_impressions', 'delivery_days']\n",
        "# Combine irrelevant columns and id_columns to get all columns NOT used as features in the model\n",
        "columns_to_drop_from_features = irrelevant_columns_for_features + id_columns\n",
        "\n",
        "# Select features for the model by dropping the specified columns from train_data\n",
        "features_for_model = train_data2.drop(columns=columns_to_drop_from_features)\n"
      ],
      "metadata": {
        "id": "-3rCCszd5qrc"
      },
      "execution_count": null,
      "outputs": []
    },
    {
      "cell_type": "code",
      "execution_count": null,
      "metadata": {
        "colab": {
          "base_uri": "https://localhost:8080/"
        },
        "id": "6UHXXbGq-ry6",
        "outputId": "f93d7a10-4e8c-4fac-9c48-cb6135405209"
      },
      "outputs": [
        {
          "output_type": "stream",
          "name": "stdout",
          "text": [
            "\n",
            "Performing cross-validation using GroupKFold...\n",
            "GroupKFold Cross-Validation RMSE Scores: [0.00715254 0.00726256 0.00737264 0.00783157]\n",
            "Mean GroupKFold Cross-Validation RMSE: 0.007405\n",
            "\n",
            "Models trained successfully on the full training data (after cross-validation).\n"
          ]
        }
      ],
      "source": [
        "# 3. Identify the numerical and categorical features from features_for_model for preprocessing\n",
        "numerical_features = features_for_model.select_dtypes(exclude=['object']).columns\n",
        "categorical_features = features_for_model.select_dtypes(include=['object']).columns\n",
        "\n",
        "\n",
        "# 4. Create a preprocessing pipeline\n",
        "preprocessor = ColumnTransformer(\n",
        "    transformers=[\n",
        "        ('num', Pipeline([('imputer', SimpleImputer(strategy='median')), ('scaler', RobustScaler())]), numerical_features), # Add imputer to numerical pipeline\n",
        "        ('cat', Pipeline([('imputer', SimpleImputer(strategy='constant')), ('target', TargetEncoder())]), categorical_features)]\n",
        ")\n",
        "\n",
        "# Use make_pipeline\n",
        "training_pipeline = make_pipeline(preprocessor, DecisionTreeRegressor(random_state=42, max_depth=20))\n",
        "\n",
        "# Use GroupKFold for cross-validation with regression target\n",
        "print(\"\\nPerforming cross-validation using GroupKFold...\")\n",
        "cv_group = GroupKFold(n_splits=4)\n",
        "# Perform cross-validation using GroupKFold and provide the group labels\n",
        "scores_group = cross_val_score(\n",
        "    training_pipeline,\n",
        "    features_for_model,\n",
        "    y_train,\n",
        "    groups=train_groups,\n",
        "    cv=cv_group,\n",
        "    scoring='neg_root_mean_squared_error'\n",
        ")\n",
        "rmse_scores_group = -scores_group # Convert negative RMSE scores to positive RMSE\n",
        "print(\"GroupKFold Cross-Validation RMSE Scores:\", rmse_scores_group)\n",
        "print(f\"Mean GroupKFold Cross-Validation RMSE: {rmse_scores_group.mean():.6f}\")\n",
        "\n",
        "\n",
        "\n",
        "# 5. Fit the preprocessor and train the final model on the full training data\n",
        "# Fit the preprocessor on the training features\n",
        "preprocessor.fit(features_for_model, y_train)\n",
        "\n",
        "# Transform the training features using the fitted preprocessor\n",
        "X_train_processed = preprocessor.transform(features_for_model)\n",
        "\n",
        "# Train the DecisionTreeRegressor model on the processed training data\n",
        "model = DecisionTreeRegressor(random_state=42, max_depth=20)\n",
        "model.fit(X_train_processed, y_train)\n",
        "\n",
        "print(\"\\nModels trained successfully on the full training data (after cross-validation).\")"
      ]
    },
    {
      "cell_type": "code",
      "source": [
        "# Select the same features from the test_df as used for training\n",
        "features_for_prediction = test_data[features_for_model.columns]\n",
        "\n",
        "# Apply the same preprocessing steps to the selected test features\n",
        "X_test_processed = preprocessor.transform(features_for_prediction)\n",
        "\n",
        "# Make predictions on the processed test data using the trained DecisionTreeRegressor model\n",
        "y_pred_dt_test = model.predict(X_test_processed)\n",
        "\n",
        "print(\"Predictions on test data completed for Decision Tree Regression model.\")"
      ],
      "metadata": {
        "id": "AMpNPWCHxzkh",
        "colab": {
          "base_uri": "https://localhost:8080/"
        },
        "outputId": "3d562ff6-b79c-4887-e939-d8ba33159ce1"
      },
      "execution_count": null,
      "outputs": [
        {
          "output_type": "stream",
          "name": "stdout",
          "text": [
            "Predictions on test data completed for Decision Tree Regression model.\n"
          ]
        }
      ]
    },
    {
      "cell_type": "code",
      "source": [
        "test_data['pred_ctr'] = y_pred_dt_test\n",
        "\n",
        "test_data.head()"
      ],
      "metadata": {
        "id": "p622gi-qQF-h",
        "colab": {
          "base_uri": "https://localhost:8080/",
          "height": 256
        },
        "outputId": "b7b36877-de53-4e18-bd60-0ac24239b1f8"
      },
      "execution_count": null,
      "outputs": [
        {
          "output_type": "execute_result",
          "data": {
            "text/plain": [
              "                                       advertiser_id    campaign_id  \\\n",
              "0  b\"\\xb6\\xb6\\xf2\\xbc\\xed'\\x06\\xe3\\x04\\xff2U\\xb5\\...  4640902691478   \n",
              "1  b'\\xcd\\x9c\\xe1W\\x0f\\xeawhy.u\\xf3\\xc0\\xcc\\tt\\xe...  1132622798123   \n",
              "2  b'\\xda\\xdd}\\x8b\\xf7\\x93\\xb7\\x12\\xcb\\x85\\xcf\\xe...  5565432716963   \n",
              "3  b'\\x7f\\x05\\x10w\\xd0\\x1f\\xf4;\\xd0r4\\xeb\\xaa&H\\x...  7854922777353   \n",
              "4  b\"/D\\x85\\xbbMM\\xa3Y=\\\\\\x98\\xc1\\xe0\\x8a^\\xaeD\\x...  6885312734153   \n",
              "\n",
              "      adgroup_id          ad_id digital_large digital_small  \\\n",
              "0   290902691988  7384152609450          業種不明          業種不明   \n",
              "1  3929622798427  9307722790853          業種不明          業種不明   \n",
              "2  6565432716963  7565432716963          業種不明          業種不明   \n",
              "3   148922777264   188922777768          業種不明          業種不明   \n",
              "4  5135122785063  7135122785064          業種不明          業種不明   \n",
              "\n",
              "        campaign_goal  creative_format creative_call_to_action_type  \\\n",
              "0  WEBSITE_CONVERSION            IMAGE                   LEARN_MORE   \n",
              "1    VISIT_MY_WEBSITE            IMAGE                   LEARN_MORE   \n",
              "2        GAIN_FRIENDS  SMALL_IMAGE_CPF                   ADD_FRIEND   \n",
              "3    VISIT_MY_WEBSITE            IMAGE                   LEARN_MORE   \n",
              "4        GAIN_FRIENDS            IMAGE                   ADD_FRIEND   \n",
              "\n",
              "  creative_size  ...  Day_of_week  Week  Year_sin Year_cos Month_sin  \\\n",
              "0     1080x1080  ...       Monday    18       NaN      NaN       0.5   \n",
              "1     1080x1080  ...       Monday    18       NaN      NaN       0.5   \n",
              "2       600x400  ...       Monday    18       NaN      NaN       0.5   \n",
              "3     1080x1080  ...       Monday    18       NaN      NaN       0.5   \n",
              "4     1080x1080  ...       Monday    18       NaN      NaN       0.5   \n",
              "\n",
              "   Month_cos   Day_sin  Day_cos  Group  pred_ctr  \n",
              "0  -0.866025  0.201299  0.97953    164  0.005666  \n",
              "1  -0.866025  0.201299  0.97953    164  0.004728  \n",
              "2  -0.866025  0.201299  0.97953    164  0.000286  \n",
              "3  -0.866025  0.201299  0.97953    164  0.004728  \n",
              "4  -0.866025  0.201299  0.97953    164  0.000217  \n",
              "\n",
              "[5 rows x 24 columns]"
            ],
            "text/html": [
              "\n",
              "  <div id=\"df-c92ba6d0-c6fd-4e2f-9e5f-f9a574e28aca\" class=\"colab-df-container\">\n",
              "    <div>\n",
              "<style scoped>\n",
              "    .dataframe tbody tr th:only-of-type {\n",
              "        vertical-align: middle;\n",
              "    }\n",
              "\n",
              "    .dataframe tbody tr th {\n",
              "        vertical-align: top;\n",
              "    }\n",
              "\n",
              "    .dataframe thead th {\n",
              "        text-align: right;\n",
              "    }\n",
              "</style>\n",
              "<table border=\"1\" class=\"dataframe\">\n",
              "  <thead>\n",
              "    <tr style=\"text-align: right;\">\n",
              "      <th></th>\n",
              "      <th>advertiser_id</th>\n",
              "      <th>campaign_id</th>\n",
              "      <th>adgroup_id</th>\n",
              "      <th>ad_id</th>\n",
              "      <th>digital_large</th>\n",
              "      <th>digital_small</th>\n",
              "      <th>campaign_goal</th>\n",
              "      <th>creative_format</th>\n",
              "      <th>creative_call_to_action_type</th>\n",
              "      <th>creative_size</th>\n",
              "      <th>...</th>\n",
              "      <th>Day_of_week</th>\n",
              "      <th>Week</th>\n",
              "      <th>Year_sin</th>\n",
              "      <th>Year_cos</th>\n",
              "      <th>Month_sin</th>\n",
              "      <th>Month_cos</th>\n",
              "      <th>Day_sin</th>\n",
              "      <th>Day_cos</th>\n",
              "      <th>Group</th>\n",
              "      <th>pred_ctr</th>\n",
              "    </tr>\n",
              "  </thead>\n",
              "  <tbody>\n",
              "    <tr>\n",
              "      <th>0</th>\n",
              "      <td>b\"\\xb6\\xb6\\xf2\\xbc\\xed'\\x06\\xe3\\x04\\xff2U\\xb5\\...</td>\n",
              "      <td>4640902691478</td>\n",
              "      <td>290902691988</td>\n",
              "      <td>7384152609450</td>\n",
              "      <td>業種不明</td>\n",
              "      <td>業種不明</td>\n",
              "      <td>WEBSITE_CONVERSION</td>\n",
              "      <td>IMAGE</td>\n",
              "      <td>LEARN_MORE</td>\n",
              "      <td>1080x1080</td>\n",
              "      <td>...</td>\n",
              "      <td>Monday</td>\n",
              "      <td>18</td>\n",
              "      <td>NaN</td>\n",
              "      <td>NaN</td>\n",
              "      <td>0.5</td>\n",
              "      <td>-0.866025</td>\n",
              "      <td>0.201299</td>\n",
              "      <td>0.97953</td>\n",
              "      <td>164</td>\n",
              "      <td>0.005666</td>\n",
              "    </tr>\n",
              "    <tr>\n",
              "      <th>1</th>\n",
              "      <td>b'\\xcd\\x9c\\xe1W\\x0f\\xeawhy.u\\xf3\\xc0\\xcc\\tt\\xe...</td>\n",
              "      <td>1132622798123</td>\n",
              "      <td>3929622798427</td>\n",
              "      <td>9307722790853</td>\n",
              "      <td>業種不明</td>\n",
              "      <td>業種不明</td>\n",
              "      <td>VISIT_MY_WEBSITE</td>\n",
              "      <td>IMAGE</td>\n",
              "      <td>LEARN_MORE</td>\n",
              "      <td>1080x1080</td>\n",
              "      <td>...</td>\n",
              "      <td>Monday</td>\n",
              "      <td>18</td>\n",
              "      <td>NaN</td>\n",
              "      <td>NaN</td>\n",
              "      <td>0.5</td>\n",
              "      <td>-0.866025</td>\n",
              "      <td>0.201299</td>\n",
              "      <td>0.97953</td>\n",
              "      <td>164</td>\n",
              "      <td>0.004728</td>\n",
              "    </tr>\n",
              "    <tr>\n",
              "      <th>2</th>\n",
              "      <td>b'\\xda\\xdd}\\x8b\\xf7\\x93\\xb7\\x12\\xcb\\x85\\xcf\\xe...</td>\n",
              "      <td>5565432716963</td>\n",
              "      <td>6565432716963</td>\n",
              "      <td>7565432716963</td>\n",
              "      <td>業種不明</td>\n",
              "      <td>業種不明</td>\n",
              "      <td>GAIN_FRIENDS</td>\n",
              "      <td>SMALL_IMAGE_CPF</td>\n",
              "      <td>ADD_FRIEND</td>\n",
              "      <td>600x400</td>\n",
              "      <td>...</td>\n",
              "      <td>Monday</td>\n",
              "      <td>18</td>\n",
              "      <td>NaN</td>\n",
              "      <td>NaN</td>\n",
              "      <td>0.5</td>\n",
              "      <td>-0.866025</td>\n",
              "      <td>0.201299</td>\n",
              "      <td>0.97953</td>\n",
              "      <td>164</td>\n",
              "      <td>0.000286</td>\n",
              "    </tr>\n",
              "    <tr>\n",
              "      <th>3</th>\n",
              "      <td>b'\\x7f\\x05\\x10w\\xd0\\x1f\\xf4;\\xd0r4\\xeb\\xaa&amp;H\\x...</td>\n",
              "      <td>7854922777353</td>\n",
              "      <td>148922777264</td>\n",
              "      <td>188922777768</td>\n",
              "      <td>業種不明</td>\n",
              "      <td>業種不明</td>\n",
              "      <td>VISIT_MY_WEBSITE</td>\n",
              "      <td>IMAGE</td>\n",
              "      <td>LEARN_MORE</td>\n",
              "      <td>1080x1080</td>\n",
              "      <td>...</td>\n",
              "      <td>Monday</td>\n",
              "      <td>18</td>\n",
              "      <td>NaN</td>\n",
              "      <td>NaN</td>\n",
              "      <td>0.5</td>\n",
              "      <td>-0.866025</td>\n",
              "      <td>0.201299</td>\n",
              "      <td>0.97953</td>\n",
              "      <td>164</td>\n",
              "      <td>0.004728</td>\n",
              "    </tr>\n",
              "    <tr>\n",
              "      <th>4</th>\n",
              "      <td>b\"/D\\x85\\xbbMM\\xa3Y=\\\\\\x98\\xc1\\xe0\\x8a^\\xaeD\\x...</td>\n",
              "      <td>6885312734153</td>\n",
              "      <td>5135122785063</td>\n",
              "      <td>7135122785064</td>\n",
              "      <td>業種不明</td>\n",
              "      <td>業種不明</td>\n",
              "      <td>GAIN_FRIENDS</td>\n",
              "      <td>IMAGE</td>\n",
              "      <td>ADD_FRIEND</td>\n",
              "      <td>1080x1080</td>\n",
              "      <td>...</td>\n",
              "      <td>Monday</td>\n",
              "      <td>18</td>\n",
              "      <td>NaN</td>\n",
              "      <td>NaN</td>\n",
              "      <td>0.5</td>\n",
              "      <td>-0.866025</td>\n",
              "      <td>0.201299</td>\n",
              "      <td>0.97953</td>\n",
              "      <td>164</td>\n",
              "      <td>0.000217</td>\n",
              "    </tr>\n",
              "  </tbody>\n",
              "</table>\n",
              "<p>5 rows × 24 columns</p>\n",
              "</div>\n",
              "    <div class=\"colab-df-buttons\">\n",
              "\n",
              "  <div class=\"colab-df-container\">\n",
              "    <button class=\"colab-df-convert\" onclick=\"convertToInteractive('df-c92ba6d0-c6fd-4e2f-9e5f-f9a574e28aca')\"\n",
              "            title=\"Convert this dataframe to an interactive table.\"\n",
              "            style=\"display:none;\">\n",
              "\n",
              "  <svg xmlns=\"http://www.w3.org/2000/svg\" height=\"24px\" viewBox=\"0 -960 960 960\">\n",
              "    <path d=\"M120-120v-720h720v720H120Zm60-500h600v-160H180v160Zm220 220h160v-160H400v160Zm0 220h160v-160H400v160ZM180-400h160v-160H180v160Zm440 0h160v-160H620v160ZM180-180h160v-160H180v160Zm440 0h160v-160H620v160Z\"/>\n",
              "  </svg>\n",
              "    </button>\n",
              "\n",
              "  <style>\n",
              "    .colab-df-container {\n",
              "      display:flex;\n",
              "      gap: 12px;\n",
              "    }\n",
              "\n",
              "    .colab-df-convert {\n",
              "      background-color: #E8F0FE;\n",
              "      border: none;\n",
              "      border-radius: 50%;\n",
              "      cursor: pointer;\n",
              "      display: none;\n",
              "      fill: #1967D2;\n",
              "      height: 32px;\n",
              "      padding: 0 0 0 0;\n",
              "      width: 32px;\n",
              "    }\n",
              "\n",
              "    .colab-df-convert:hover {\n",
              "      background-color: #E2EBFA;\n",
              "      box-shadow: 0px 1px 2px rgba(60, 64, 67, 0.3), 0px 1px 3px 1px rgba(60, 64, 67, 0.15);\n",
              "      fill: #174EA6;\n",
              "    }\n",
              "\n",
              "    .colab-df-buttons div {\n",
              "      margin-bottom: 4px;\n",
              "    }\n",
              "\n",
              "    [theme=dark] .colab-df-convert {\n",
              "      background-color: #3B4455;\n",
              "      fill: #D2E3FC;\n",
              "    }\n",
              "\n",
              "    [theme=dark] .colab-df-convert:hover {\n",
              "      background-color: #434B5C;\n",
              "      box-shadow: 0px 1px 3px 1px rgba(0, 0, 0, 0.15);\n",
              "      filter: drop-shadow(0px 1px 2px rgba(0, 0, 0, 0.3));\n",
              "      fill: #FFFFFF;\n",
              "    }\n",
              "  </style>\n",
              "\n",
              "    <script>\n",
              "      const buttonEl =\n",
              "        document.querySelector('#df-c92ba6d0-c6fd-4e2f-9e5f-f9a574e28aca button.colab-df-convert');\n",
              "      buttonEl.style.display =\n",
              "        google.colab.kernel.accessAllowed ? 'block' : 'none';\n",
              "\n",
              "      async function convertToInteractive(key) {\n",
              "        const element = document.querySelector('#df-c92ba6d0-c6fd-4e2f-9e5f-f9a574e28aca');\n",
              "        const dataTable =\n",
              "          await google.colab.kernel.invokeFunction('convertToInteractive',\n",
              "                                                    [key], {});\n",
              "        if (!dataTable) return;\n",
              "\n",
              "        const docLinkHtml = 'Like what you see? Visit the ' +\n",
              "          '<a target=\"_blank\" href=https://colab.research.google.com/notebooks/data_table.ipynb>data table notebook</a>'\n",
              "          + ' to learn more about interactive tables.';\n",
              "        element.innerHTML = '';\n",
              "        dataTable['output_type'] = 'display_data';\n",
              "        await google.colab.output.renderOutput(dataTable, element);\n",
              "        const docLink = document.createElement('div');\n",
              "        docLink.innerHTML = docLinkHtml;\n",
              "        element.appendChild(docLink);\n",
              "      }\n",
              "    </script>\n",
              "  </div>\n",
              "\n",
              "\n",
              "    <div id=\"df-0f1c4e0c-0e67-4d7c-9763-2824b88c94a0\">\n",
              "      <button class=\"colab-df-quickchart\" onclick=\"quickchart('df-0f1c4e0c-0e67-4d7c-9763-2824b88c94a0')\"\n",
              "                title=\"Suggest charts\"\n",
              "                style=\"display:none;\">\n",
              "\n",
              "<svg xmlns=\"http://www.w3.org/2000/svg\" height=\"24px\"viewBox=\"0 0 24 24\"\n",
              "     width=\"24px\">\n",
              "    <g>\n",
              "        <path d=\"M19 3H5c-1.1 0-2 .9-2 2v14c0 1.1.9 2 2 2h14c1.1 0 2-.9 2-2V5c0-1.1-.9-2-2-2zM9 17H7v-7h2v7zm4 0h-2V7h2v10zm4 0h-2v-4h2v4z\"/>\n",
              "    </g>\n",
              "</svg>\n",
              "      </button>\n",
              "\n",
              "<style>\n",
              "  .colab-df-quickchart {\n",
              "      --bg-color: #E8F0FE;\n",
              "      --fill-color: #1967D2;\n",
              "      --hover-bg-color: #E2EBFA;\n",
              "      --hover-fill-color: #174EA6;\n",
              "      --disabled-fill-color: #AAA;\n",
              "      --disabled-bg-color: #DDD;\n",
              "  }\n",
              "\n",
              "  [theme=dark] .colab-df-quickchart {\n",
              "      --bg-color: #3B4455;\n",
              "      --fill-color: #D2E3FC;\n",
              "      --hover-bg-color: #434B5C;\n",
              "      --hover-fill-color: #FFFFFF;\n",
              "      --disabled-bg-color: #3B4455;\n",
              "      --disabled-fill-color: #666;\n",
              "  }\n",
              "\n",
              "  .colab-df-quickchart {\n",
              "    background-color: var(--bg-color);\n",
              "    border: none;\n",
              "    border-radius: 50%;\n",
              "    cursor: pointer;\n",
              "    display: none;\n",
              "    fill: var(--fill-color);\n",
              "    height: 32px;\n",
              "    padding: 0;\n",
              "    width: 32px;\n",
              "  }\n",
              "\n",
              "  .colab-df-quickchart:hover {\n",
              "    background-color: var(--hover-bg-color);\n",
              "    box-shadow: 0 1px 2px rgba(60, 64, 67, 0.3), 0 1px 3px 1px rgba(60, 64, 67, 0.15);\n",
              "    fill: var(--button-hover-fill-color);\n",
              "  }\n",
              "\n",
              "  .colab-df-quickchart-complete:disabled,\n",
              "  .colab-df-quickchart-complete:disabled:hover {\n",
              "    background-color: var(--disabled-bg-color);\n",
              "    fill: var(--disabled-fill-color);\n",
              "    box-shadow: none;\n",
              "  }\n",
              "\n",
              "  .colab-df-spinner {\n",
              "    border: 2px solid var(--fill-color);\n",
              "    border-color: transparent;\n",
              "    border-bottom-color: var(--fill-color);\n",
              "    animation:\n",
              "      spin 1s steps(1) infinite;\n",
              "  }\n",
              "\n",
              "  @keyframes spin {\n",
              "    0% {\n",
              "      border-color: transparent;\n",
              "      border-bottom-color: var(--fill-color);\n",
              "      border-left-color: var(--fill-color);\n",
              "    }\n",
              "    20% {\n",
              "      border-color: transparent;\n",
              "      border-left-color: var(--fill-color);\n",
              "      border-top-color: var(--fill-color);\n",
              "    }\n",
              "    30% {\n",
              "      border-color: transparent;\n",
              "      border-left-color: var(--fill-color);\n",
              "      border-top-color: var(--fill-color);\n",
              "      border-right-color: var(--fill-color);\n",
              "    }\n",
              "    40% {\n",
              "      border-color: transparent;\n",
              "      border-right-color: var(--fill-color);\n",
              "      border-top-color: var(--fill-color);\n",
              "    }\n",
              "    60% {\n",
              "      border-color: transparent;\n",
              "      border-right-color: var(--fill-color);\n",
              "    }\n",
              "    80% {\n",
              "      border-color: transparent;\n",
              "      border-right-color: var(--fill-color);\n",
              "      border-bottom-color: var(--fill-color);\n",
              "    }\n",
              "    90% {\n",
              "      border-color: transparent;\n",
              "      border-bottom-color: var(--fill-color);\n",
              "    }\n",
              "  }\n",
              "</style>\n",
              "\n",
              "      <script>\n",
              "        async function quickchart(key) {\n",
              "          const quickchartButtonEl =\n",
              "            document.querySelector('#' + key + ' button');\n",
              "          quickchartButtonEl.disabled = true;  // To prevent multiple clicks.\n",
              "          quickchartButtonEl.classList.add('colab-df-spinner');\n",
              "          try {\n",
              "            const charts = await google.colab.kernel.invokeFunction(\n",
              "                'suggestCharts', [key], {});\n",
              "          } catch (error) {\n",
              "            console.error('Error during call to suggestCharts:', error);\n",
              "          }\n",
              "          quickchartButtonEl.classList.remove('colab-df-spinner');\n",
              "          quickchartButtonEl.classList.add('colab-df-quickchart-complete');\n",
              "        }\n",
              "        (() => {\n",
              "          let quickchartButtonEl =\n",
              "            document.querySelector('#df-0f1c4e0c-0e67-4d7c-9763-2824b88c94a0 button');\n",
              "          quickchartButtonEl.style.display =\n",
              "            google.colab.kernel.accessAllowed ? 'block' : 'none';\n",
              "        })();\n",
              "      </script>\n",
              "    </div>\n",
              "\n",
              "    </div>\n",
              "  </div>\n"
            ],
            "application/vnd.google.colaboratory.intrinsic+json": {
              "type": "dataframe",
              "variable_name": "test_data"
            }
          },
          "metadata": {},
          "execution_count": 23
        }
      ]
    },
    {
      "cell_type": "code",
      "source": [
        "test_data.to_csv('/content/drive/MyDrive/lap_Decision_Tree_250723_2.csv')"
      ],
      "metadata": {
        "id": "CUAvarvPTStV"
      },
      "execution_count": null,
      "outputs": []
    },
    {
      "cell_type": "code",
      "execution_count": null,
      "metadata": {
        "id": "ArOCTuoQJYkt",
        "colab": {
          "base_uri": "https://localhost:8080/",
          "height": 723
        },
        "outputId": "5b60e99a-5719-49f7-ad3f-8d1f81f30dad"
      },
      "outputs": [
        {
          "output_type": "stream",
          "name": "stdout",
          "text": [
            "Top 10 Feature Importances:\n"
          ]
        },
        {
          "output_type": "display_data",
          "data": {
            "text/plain": [
              "               Feature  Importance\n",
              "13  cat__campaign_goal    0.257088\n",
              "10          num__Group    0.105674\n",
              "8         num__Day_sin    0.103321\n",
              "12  cat__digital_small    0.099356\n",
              "18    cat__Day_of_week    0.071027\n",
              "9         num__Day_cos    0.068677\n",
              "16  cat__creative_size    0.068304\n",
              "3            num__Week    0.059202\n",
              "1             num__Day    0.058749\n",
              "11  cat__digital_large    0.042812"
            ],
            "text/html": [
              "\n",
              "  <div id=\"df-91ad0f1c-82e9-41b8-8448-7029b59e41df\" class=\"colab-df-container\">\n",
              "    <div>\n",
              "<style scoped>\n",
              "    .dataframe tbody tr th:only-of-type {\n",
              "        vertical-align: middle;\n",
              "    }\n",
              "\n",
              "    .dataframe tbody tr th {\n",
              "        vertical-align: top;\n",
              "    }\n",
              "\n",
              "    .dataframe thead th {\n",
              "        text-align: right;\n",
              "    }\n",
              "</style>\n",
              "<table border=\"1\" class=\"dataframe\">\n",
              "  <thead>\n",
              "    <tr style=\"text-align: right;\">\n",
              "      <th></th>\n",
              "      <th>Feature</th>\n",
              "      <th>Importance</th>\n",
              "    </tr>\n",
              "  </thead>\n",
              "  <tbody>\n",
              "    <tr>\n",
              "      <th>13</th>\n",
              "      <td>cat__campaign_goal</td>\n",
              "      <td>0.257088</td>\n",
              "    </tr>\n",
              "    <tr>\n",
              "      <th>10</th>\n",
              "      <td>num__Group</td>\n",
              "      <td>0.105674</td>\n",
              "    </tr>\n",
              "    <tr>\n",
              "      <th>8</th>\n",
              "      <td>num__Day_sin</td>\n",
              "      <td>0.103321</td>\n",
              "    </tr>\n",
              "    <tr>\n",
              "      <th>12</th>\n",
              "      <td>cat__digital_small</td>\n",
              "      <td>0.099356</td>\n",
              "    </tr>\n",
              "    <tr>\n",
              "      <th>18</th>\n",
              "      <td>cat__Day_of_week</td>\n",
              "      <td>0.071027</td>\n",
              "    </tr>\n",
              "    <tr>\n",
              "      <th>9</th>\n",
              "      <td>num__Day_cos</td>\n",
              "      <td>0.068677</td>\n",
              "    </tr>\n",
              "    <tr>\n",
              "      <th>16</th>\n",
              "      <td>cat__creative_size</td>\n",
              "      <td>0.068304</td>\n",
              "    </tr>\n",
              "    <tr>\n",
              "      <th>3</th>\n",
              "      <td>num__Week</td>\n",
              "      <td>0.059202</td>\n",
              "    </tr>\n",
              "    <tr>\n",
              "      <th>1</th>\n",
              "      <td>num__Day</td>\n",
              "      <td>0.058749</td>\n",
              "    </tr>\n",
              "    <tr>\n",
              "      <th>11</th>\n",
              "      <td>cat__digital_large</td>\n",
              "      <td>0.042812</td>\n",
              "    </tr>\n",
              "  </tbody>\n",
              "</table>\n",
              "</div>\n",
              "    <div class=\"colab-df-buttons\">\n",
              "\n",
              "  <div class=\"colab-df-container\">\n",
              "    <button class=\"colab-df-convert\" onclick=\"convertToInteractive('df-91ad0f1c-82e9-41b8-8448-7029b59e41df')\"\n",
              "            title=\"Convert this dataframe to an interactive table.\"\n",
              "            style=\"display:none;\">\n",
              "\n",
              "  <svg xmlns=\"http://www.w3.org/2000/svg\" height=\"24px\" viewBox=\"0 -960 960 960\">\n",
              "    <path d=\"M120-120v-720h720v720H120Zm60-500h600v-160H180v160Zm220 220h160v-160H400v160Zm0 220h160v-160H400v160ZM180-400h160v-160H180v160Zm440 0h160v-160H620v160ZM180-180h160v-160H180v160Zm440 0h160v-160H620v160Z\"/>\n",
              "  </svg>\n",
              "    </button>\n",
              "\n",
              "  <style>\n",
              "    .colab-df-container {\n",
              "      display:flex;\n",
              "      gap: 12px;\n",
              "    }\n",
              "\n",
              "    .colab-df-convert {\n",
              "      background-color: #E8F0FE;\n",
              "      border: none;\n",
              "      border-radius: 50%;\n",
              "      cursor: pointer;\n",
              "      display: none;\n",
              "      fill: #1967D2;\n",
              "      height: 32px;\n",
              "      padding: 0 0 0 0;\n",
              "      width: 32px;\n",
              "    }\n",
              "\n",
              "    .colab-df-convert:hover {\n",
              "      background-color: #E2EBFA;\n",
              "      box-shadow: 0px 1px 2px rgba(60, 64, 67, 0.3), 0px 1px 3px 1px rgba(60, 64, 67, 0.15);\n",
              "      fill: #174EA6;\n",
              "    }\n",
              "\n",
              "    .colab-df-buttons div {\n",
              "      margin-bottom: 4px;\n",
              "    }\n",
              "\n",
              "    [theme=dark] .colab-df-convert {\n",
              "      background-color: #3B4455;\n",
              "      fill: #D2E3FC;\n",
              "    }\n",
              "\n",
              "    [theme=dark] .colab-df-convert:hover {\n",
              "      background-color: #434B5C;\n",
              "      box-shadow: 0px 1px 3px 1px rgba(0, 0, 0, 0.15);\n",
              "      filter: drop-shadow(0px 1px 2px rgba(0, 0, 0, 0.3));\n",
              "      fill: #FFFFFF;\n",
              "    }\n",
              "  </style>\n",
              "\n",
              "    <script>\n",
              "      const buttonEl =\n",
              "        document.querySelector('#df-91ad0f1c-82e9-41b8-8448-7029b59e41df button.colab-df-convert');\n",
              "      buttonEl.style.display =\n",
              "        google.colab.kernel.accessAllowed ? 'block' : 'none';\n",
              "\n",
              "      async function convertToInteractive(key) {\n",
              "        const element = document.querySelector('#df-91ad0f1c-82e9-41b8-8448-7029b59e41df');\n",
              "        const dataTable =\n",
              "          await google.colab.kernel.invokeFunction('convertToInteractive',\n",
              "                                                    [key], {});\n",
              "        if (!dataTable) return;\n",
              "\n",
              "        const docLinkHtml = 'Like what you see? Visit the ' +\n",
              "          '<a target=\"_blank\" href=https://colab.research.google.com/notebooks/data_table.ipynb>data table notebook</a>'\n",
              "          + ' to learn more about interactive tables.';\n",
              "        element.innerHTML = '';\n",
              "        dataTable['output_type'] = 'display_data';\n",
              "        await google.colab.output.renderOutput(dataTable, element);\n",
              "        const docLink = document.createElement('div');\n",
              "        docLink.innerHTML = docLinkHtml;\n",
              "        element.appendChild(docLink);\n",
              "      }\n",
              "    </script>\n",
              "  </div>\n",
              "\n",
              "\n",
              "    <div id=\"df-65bfbc7d-ce95-493c-90a5-95d2f166dc86\">\n",
              "      <button class=\"colab-df-quickchart\" onclick=\"quickchart('df-65bfbc7d-ce95-493c-90a5-95d2f166dc86')\"\n",
              "                title=\"Suggest charts\"\n",
              "                style=\"display:none;\">\n",
              "\n",
              "<svg xmlns=\"http://www.w3.org/2000/svg\" height=\"24px\"viewBox=\"0 0 24 24\"\n",
              "     width=\"24px\">\n",
              "    <g>\n",
              "        <path d=\"M19 3H5c-1.1 0-2 .9-2 2v14c0 1.1.9 2 2 2h14c1.1 0 2-.9 2-2V5c0-1.1-.9-2-2-2zM9 17H7v-7h2v7zm4 0h-2V7h2v10zm4 0h-2v-4h2v4z\"/>\n",
              "    </g>\n",
              "</svg>\n",
              "      </button>\n",
              "\n",
              "<style>\n",
              "  .colab-df-quickchart {\n",
              "      --bg-color: #E8F0FE;\n",
              "      --fill-color: #1967D2;\n",
              "      --hover-bg-color: #E2EBFA;\n",
              "      --hover-fill-color: #174EA6;\n",
              "      --disabled-fill-color: #AAA;\n",
              "      --disabled-bg-color: #DDD;\n",
              "  }\n",
              "\n",
              "  [theme=dark] .colab-df-quickchart {\n",
              "      --bg-color: #3B4455;\n",
              "      --fill-color: #D2E3FC;\n",
              "      --hover-bg-color: #434B5C;\n",
              "      --hover-fill-color: #FFFFFF;\n",
              "      --disabled-bg-color: #3B4455;\n",
              "      --disabled-fill-color: #666;\n",
              "  }\n",
              "\n",
              "  .colab-df-quickchart {\n",
              "    background-color: var(--bg-color);\n",
              "    border: none;\n",
              "    border-radius: 50%;\n",
              "    cursor: pointer;\n",
              "    display: none;\n",
              "    fill: var(--fill-color);\n",
              "    height: 32px;\n",
              "    padding: 0;\n",
              "    width: 32px;\n",
              "  }\n",
              "\n",
              "  .colab-df-quickchart:hover {\n",
              "    background-color: var(--hover-bg-color);\n",
              "    box-shadow: 0 1px 2px rgba(60, 64, 67, 0.3), 0 1px 3px 1px rgba(60, 64, 67, 0.15);\n",
              "    fill: var(--button-hover-fill-color);\n",
              "  }\n",
              "\n",
              "  .colab-df-quickchart-complete:disabled,\n",
              "  .colab-df-quickchart-complete:disabled:hover {\n",
              "    background-color: var(--disabled-bg-color);\n",
              "    fill: var(--disabled-fill-color);\n",
              "    box-shadow: none;\n",
              "  }\n",
              "\n",
              "  .colab-df-spinner {\n",
              "    border: 2px solid var(--fill-color);\n",
              "    border-color: transparent;\n",
              "    border-bottom-color: var(--fill-color);\n",
              "    animation:\n",
              "      spin 1s steps(1) infinite;\n",
              "  }\n",
              "\n",
              "  @keyframes spin {\n",
              "    0% {\n",
              "      border-color: transparent;\n",
              "      border-bottom-color: var(--fill-color);\n",
              "      border-left-color: var(--fill-color);\n",
              "    }\n",
              "    20% {\n",
              "      border-color: transparent;\n",
              "      border-left-color: var(--fill-color);\n",
              "      border-top-color: var(--fill-color);\n",
              "    }\n",
              "    30% {\n",
              "      border-color: transparent;\n",
              "      border-left-color: var(--fill-color);\n",
              "      border-top-color: var(--fill-color);\n",
              "      border-right-color: var(--fill-color);\n",
              "    }\n",
              "    40% {\n",
              "      border-color: transparent;\n",
              "      border-right-color: var(--fill-color);\n",
              "      border-top-color: var(--fill-color);\n",
              "    }\n",
              "    60% {\n",
              "      border-color: transparent;\n",
              "      border-right-color: var(--fill-color);\n",
              "    }\n",
              "    80% {\n",
              "      border-color: transparent;\n",
              "      border-right-color: var(--fill-color);\n",
              "      border-bottom-color: var(--fill-color);\n",
              "    }\n",
              "    90% {\n",
              "      border-color: transparent;\n",
              "      border-bottom-color: var(--fill-color);\n",
              "    }\n",
              "  }\n",
              "</style>\n",
              "\n",
              "      <script>\n",
              "        async function quickchart(key) {\n",
              "          const quickchartButtonEl =\n",
              "            document.querySelector('#' + key + ' button');\n",
              "          quickchartButtonEl.disabled = true;  // To prevent multiple clicks.\n",
              "          quickchartButtonEl.classList.add('colab-df-spinner');\n",
              "          try {\n",
              "            const charts = await google.colab.kernel.invokeFunction(\n",
              "                'suggestCharts', [key], {});\n",
              "          } catch (error) {\n",
              "            console.error('Error during call to suggestCharts:', error);\n",
              "          }\n",
              "          quickchartButtonEl.classList.remove('colab-df-spinner');\n",
              "          quickchartButtonEl.classList.add('colab-df-quickchart-complete');\n",
              "        }\n",
              "        (() => {\n",
              "          let quickchartButtonEl =\n",
              "            document.querySelector('#df-65bfbc7d-ce95-493c-90a5-95d2f166dc86 button');\n",
              "          quickchartButtonEl.style.display =\n",
              "            google.colab.kernel.accessAllowed ? 'block' : 'none';\n",
              "        })();\n",
              "      </script>\n",
              "    </div>\n",
              "\n",
              "    </div>\n",
              "  </div>\n"
            ],
            "application/vnd.google.colaboratory.intrinsic+json": {
              "type": "dataframe",
              "summary": "{\n  \"name\": \"plt\",\n  \"rows\": 10,\n  \"fields\": [\n    {\n      \"column\": \"Feature\",\n      \"properties\": {\n        \"dtype\": \"string\",\n        \"num_unique_values\": 10,\n        \"samples\": [\n          \"num__Day\",\n          \"num__Group\",\n          \"num__Day_cos\"\n        ],\n        \"semantic_type\": \"\",\n        \"description\": \"\"\n      }\n    },\n    {\n      \"column\": \"Importance\",\n      \"properties\": {\n        \"dtype\": \"number\",\n        \"std\": 0.06123654737678198,\n        \"min\": 0.0428115517492353,\n        \"max\": 0.257087886385618,\n        \"num_unique_values\": 10,\n        \"samples\": [\n          0.05874927023671797,\n          0.10567434073837643,\n          0.06867749330133581\n        ],\n        \"semantic_type\": \"\",\n        \"description\": \"\"\n      }\n    }\n  ]\n}"
            }
          },
          "metadata": {}
        },
        {
          "output_type": "display_data",
          "data": {
            "text/plain": [
              "<Figure size 1200x600 with 1 Axes>"
            ],
            "image/png": "[encoded data removed]"
          },
          "metadata": {}
        }
      ],
      "source": [
        "# Get feature importances from the trained DecisionTreeRegressor model\n",
        "importances = model.feature_importances_\n",
        "\n",
        "# Get the feature names after preprocessing\n",
        "# The get_feature_names_out() method is available on the fitted preprocessor\n",
        "feature_names = preprocessor.get_feature_names_out()\n",
        "\n",
        "# Create a DataFrame for better visualization\n",
        "importance_df = pd.DataFrame({'Feature': feature_names, 'Importance': importances})\n",
        "\n",
        "# Sort features by importance in descending order\n",
        "importance_df = importance_df.sort_values(by='Importance', ascending=False)\n",
        "\n",
        "# Display the top 10 most important features\n",
        "print(\"Top 10 Feature Importances:\")\n",
        "display(importance_df.head(10))\n",
        "\n",
        "# Visualize the top 10 feature importances\n",
        "plt.figure(figsize=(12, 6))\n",
        "sns.barplot(x='Importance', y='Feature', data=importance_df.head(10))\n",
        "plt.title('Top 10 Feature Importances (Decision Tree Regressor)')\n",
        "plt.xlabel('Importance')\n",
        "plt.ylabel('Feature')\n",
        "plt.tight_layout()\n",
        "plt.show()"
      ]
    },
    {
      "cell_type": "markdown",
      "metadata": {
        "id": "R0IvZ3YI6XBP"
      },
      "source": [
        "# 新しいセクション"
      ]
    },
    {
      "cell_type": "code",
      "execution_count": null,
      "metadata": {
        "id": "LgHP3DlpJzbe"
      },
      "outputs": [],
      "source": [
        "# Function to get major category (first digit)\n",
        "def get_major_category(value):\n",
        "    if pd.isna(value):  # Handle NaN values\n",
        "        return None\n",
        "    # Convert to integer and divide by 1000 to get first digit\n",
        "    return int(value) // 1000\n",
        "\n",
        "\n",
        "def decode_annotation_init(annotation_str):\n",
        "    try:\n",
        "        # Initialize empty dictionary for decoded features\n",
        "        decoded = {}\n",
        "\n",
        "        # Parse JSON string\n",
        "        json_obj = json.loads(annotation_str)\n",
        "\n",
        "        # Process each key-value pair in the JSON\n",
        "        for key, value in json_obj.items():\n",
        "            # Handle integer values\n",
        "            if isinstance(value, int):\n",
        "                decoded[f'{key}_{value}'] = 1\n",
        "            # Handle list values\n",
        "            elif isinstance(value, list):\n",
        "                for item in value:\n",
        "                    if isinstance(item, dict) and 'id' in item:\n",
        "                        # If area exists, create area feature\n",
        "                        if 'area' in item:\n",
        "                            decoded[f'{key}_{item[\"id\"]}_area'] = float(item['area'])\n",
        "                            decoded[f'{key}_{item[\"id\"]}'] = 1\n",
        "                        else:\n",
        "                            # Create binary indicator for this ID\n",
        "                            # decoded[f'{key}_{item[\"id\"]}'] = 1\n",
        "                            if get_major_category(item['id']) == 0:\n",
        "                                decoded[f'{key}_1'] = item['id'] - 1000\n",
        "                                decoded[f'{key}_{item[\"id\"]}'] = 1\n",
        "                            # elif (get_major_category(item['id']) == 2) and (key == 'banner_tagging_background'):\n",
        "                            #     decoded[f'{key}_2'] = item['id']\n",
        "                            # elif get_major_category(item['id']) == 3:\n",
        "                            #     decoded[f'{key}_3'] = item['id'] - 3000\n",
        "                            #     decoded[f'{key}_{item[\"id\"]}'] = 1\n",
        "                            # elif get_major_category(item['id']) == 5:\n",
        "                            #     decoded[f'{key}_5'] = item['id'] - 5000\n",
        "                            #     decoded[f'{key}_{item[\"id\"]}'] = 1\n",
        "                            else:\n",
        "                                if decoded.get(f'{key}_{item[\"id\"]}') is None:\n",
        "                                    decoded[f'{key}_{item[\"id\"]}'] = 1\n",
        "                                else:\n",
        "                                    decoded[f'{key}_{item[\"id\"]}'] += 1\n",
        "            # Handle string values (like some background tags)\n",
        "            elif isinstance(value, str):\n",
        "                decoded[f'{key}'] = value\n",
        "\n",
        "        return pd.Series(decoded)\n",
        "    except:\n",
        "        return pd.Series({})\n",
        "\n",
        "\n",
        "def decode_annotation(annotation_str):\n",
        "    try:\n",
        "        # Initialize empty dictionary for decoded features\n",
        "        decoded = {}\n",
        "\n",
        "        # Parse JSON string\n",
        "        json_obj = json.loads(annotation_str)\n",
        "\n",
        "        # Process each key-value pair in the JSON\n",
        "        for key, value in json_obj.items():\n",
        "            # Handle integer values\n",
        "            if isinstance(value, int):\n",
        "                decoded[f'{key}_{value}'] = 1\n",
        "            # Handle list values\n",
        "            elif isinstance(value, list):\n",
        "                for item in value:\n",
        "                    if isinstance(item, dict) and 'id' in item:\n",
        "                        # If area exists, create area feature\n",
        "                        if 'area' in item:\n",
        "                            decoded[f'{key}_{item[\"id\"]}_area'] = float(item['area'])\n",
        "                            decoded[f'{key}_{item[\"id\"]}'] = 1\n",
        "                        else:\n",
        "                            # Create binary indicator for this ID\n",
        "                            # decoded[f'{key}_{item[\"id\"]}'] = 1\n",
        "                            if get_major_category(item['id']) == 1:\n",
        "                                decoded[f'{key}_1'] = item['id'] - 1000\n",
        "                                decoded[f'{key}_{item[\"id\"]}'] = 1\n",
        "                            # elif (get_major_category(item['id']) == 2) and (key == 'banner_tagging_background'):\n",
        "                            #     decoded[f'{key}_2'] = item['id']\n",
        "                            elif get_major_category(item['id']) == 3:\n",
        "                                decoded[f'{key}_3'] = item['id'] - 3000\n",
        "                                decoded[f'{key}_{item[\"id\"]}'] = 1\n",
        "                            elif get_major_category(item['id']) == 5:\n",
        "                                decoded[f'{key}_5'] = item['id'] - 5000\n",
        "                                decoded[f'{key}_{item[\"id\"]}'] = 1\n",
        "                            else:\n",
        "                                if decoded.get(f'{key}_{item[\"id\"]}') is None:\n",
        "                                    decoded[f'{key}_{item[\"id\"]}'] = 1\n",
        "                                else:\n",
        "                                    decoded[f'{key}_{item[\"id\"]}'] += 1\n",
        "            # Handle string values (like some background tags)\n",
        "            elif isinstance(value, str):\n",
        "                decoded[f'{key}'] = value\n",
        "\n",
        "        return pd.Series(decoded)\n",
        "    except:\n",
        "        return pd.Series({})"
      ]
    },
    {
      "cell_type": "code",
      "execution_count": null,
      "metadata": {
        "id": "ajsgXF9pJ3oG"
      },
      "outputs": [],
      "source": [
        "annotation_features_init = train_df['annotation'].apply(decode_annotation_init)\n",
        "annotation_features_init.fillna(0, inplace=True)\n",
        "annotation_features_init_1 = annotation_features_init.filter(regex='1.{3}$')\n",
        "annotation_features_init_1[annotation_features_init_1 > 1].sum()"
      ]
    },
    {
      "cell_type": "code",
      "execution_count": null,
      "metadata": {
        "id": "AcrRq_-zPqmr"
      },
      "outputs": [],
      "source": [
        "annotation_features_init_1[annotation_features_init_1.sum(axis=1) > 1]"
      ]
    },
    {
      "cell_type": "code",
      "execution_count": null,
      "metadata": {
        "id": "5BZjHmVKLPmV"
      },
      "outputs": [],
      "source": [
        "annotation_features_init_2 = annotation_features_init.filter(regex='2.{3}$')\n",
        "annotation_features_init_2[annotation_features_init_2 > 1].sum()"
      ]
    },
    {
      "cell_type": "code",
      "execution_count": null,
      "metadata": {
        "id": "qbVTQ9R-N1mt"
      },
      "outputs": [],
      "source": [
        "annotation_features_init_3 = annotation_features_init.filter(regex='3.{3}$')\n",
        "annotation_features_init_3[annotation_features_init_3 > 1].sum()"
      ]
    },
    {
      "cell_type": "code",
      "execution_count": null,
      "metadata": {
        "id": "YcgszIXAQIh_"
      },
      "outputs": [],
      "source": [
        "annotation_features_init_2[annotation_features_init_2.sum(axis=1) > 1]"
      ]
    },
    {
      "cell_type": "code",
      "execution_count": null,
      "metadata": {
        "id": "XfovP_KLQOm9"
      },
      "outputs": [],
      "source": [
        "annotation_features_init_3[annotation_features_init_3.sum(axis=1) > 1]"
      ]
    },
    {
      "cell_type": "code",
      "execution_count": null,
      "metadata": {
        "id": "MOYff0SJN1a0"
      },
      "outputs": [],
      "source": [
        "annotation_features_init_4 = annotation_features_init.filter(regex='4.{3}$')\n",
        "annotation_features_init_4[annotation_features_init_4 > 1].sum()"
      ]
    },
    {
      "cell_type": "code",
      "execution_count": null,
      "metadata": {
        "id": "u2nKomQCQRkd"
      },
      "outputs": [],
      "source": [
        "annotation_features_init_4[annotation_features_init_4.sum(axis=1) > 1]"
      ]
    },
    {
      "cell_type": "code",
      "execution_count": null,
      "metadata": {
        "id": "aD2Fs1DEOA-d"
      },
      "outputs": [],
      "source": [
        "test_annotation_features_init = test_df_expanded['annotation'].apply(decode_annotation_init)\n",
        "test_annotation_features_init.fillna(0, inplace=True)"
      ]
    },
    {
      "cell_type": "code",
      "execution_count": null,
      "metadata": {
        "id": "l_EzDLWMOGwo"
      },
      "outputs": [],
      "source": [
        "train_df['creative_call_to_action_type'].value_counts()"
      ]
    },
    {
      "cell_type": "code",
      "execution_count": null,
      "metadata": {
        "id": "GnYdUehZOgOm"
      },
      "outputs": [],
      "source": [
        "annotation_features_init = annotation_features_init.astype(object).copy()\n",
        "test_annotation_features_init = test_annotation_features_init.astype(object).copy()\n",
        "\n",
        "annotation_features_init.info()"
      ]
    },
    {
      "cell_type": "code",
      "execution_count": null,
      "metadata": {
        "id": "towmuIRWO1lM"
      },
      "outputs": [],
      "source": [
        "df1_columns = set(annotation_features_init.columns)\n",
        "df2_columns = set(test_annotation_features_init.columns)"
      ]
    },
    {
      "cell_type": "code",
      "execution_count": null,
      "metadata": {
        "id": "GX8HaY5aO4xU"
      },
      "outputs": [],
      "source": [
        "common_cols = list(annotation_features_init.columns.intersection(test_annotation_features_init.columns))\n",
        "df1_common = annotation_features_init[common_cols]\n",
        "df2_common = test_annotation_features_init[common_cols]\n",
        "df1_common.shape, df2_common.shape"
      ]
    },
    {
      "cell_type": "code",
      "execution_count": null,
      "metadata": {
        "id": "HhDHj23un1Vw"
      },
      "outputs": [],
      "source": [
        "train_df = pd.concat([train_df, df1_common], axis=1)\n",
        "# Drop the original annotation column\n",
        "train_df = train_df.drop(columns=['annotation'])\n",
        "\n",
        "# Save the updated dataframe to a new CSV file\n",
        "train_df.to_csv('/content/drive/MyDrive/Colab Notebooks/training_data_lap_processed.csv', index=False)\n",
        "# 保存 - pickle会完整保留数据类型\n",
        "train_df.to_pickle('/content/drive/MyDrive/Colab Notebooks/training_data_lap_processed.pkl')\n",
        "train_df.info()"
      ]
    },
    {
      "cell_type": "code",
      "execution_count": null,
      "metadata": {
        "id": "LEJpLN_HpMYX"
      },
      "outputs": [],
      "source": [
        "from google.colab import drive\n",
        "drive.mount('/content/drive')"
      ]
    },
    {
      "cell_type": "markdown",
      "metadata": {
        "id": "vDXC1H4DKIiw"
      },
      "source": [
        "a"
      ]
    },
    {
      "cell_type": "code",
      "execution_count": null,
      "metadata": {
        "id": "8mvXd0T9agS4"
      },
      "outputs": [],
      "source": [
        "from sklearn.pipeline import Pipeline\n",
        "from sklearn.preprocessing import StandardScaler, OneHotEncoder\n",
        "from sklearn.compose import ColumnTransformer\n",
        "from sklearn.impute import SimpleImputer\n",
        "\n",
        "# Preprocessing pipeline for numerical features\n",
        "num_pipeline = Pipeline(steps=[\n",
        "    # ('imputer', SimpleImputer(strategy='median')),\n",
        "    ('scaler', StandardScaler())                       # Scale numerical features\n",
        "])\n",
        "\n",
        "# Preprocessing pipeline for categorical features\n",
        "cat_pipeline = Pipeline(steps=[\n",
        "    # ('imputer', SimpleImputer(strategy='constant', fill_value='Unknown')),  # Handle missing values\n",
        "    ('onehot', OneHotEncoder(handle_unknown='ignore')) # Encode categorical features\n",
        "])\n",
        "\n",
        "# Define the features to be used, excluding the target and related columns, and delivery_days\n",
        "features = [col for col in X.columns if col not in ['cumu_ctr', 'cumu_clicks', 'cumu_cost', 'cumu_impressions', 'delivery_days']]\n",
        "\n",
        "# Define numerical and categorical features based on the selected features\n",
        "numerical_features = X[features].select_dtypes(exclude=['object']).columns\n",
        "categorical_features = X[features].select_dtypes(include=['object']).columns\n",
        "\n",
        "\n",
        "# Combine pipelines into a ColumnTransformer\n",
        "preprocessor = ColumnTransformer(\n",
        "    transformers=[\n",
        "        ('num', num_pipeline, numerical_features),\n",
        "        ('cat', cat_pipeline, categorical_features)\n",
        "    ]\n",
        ")\n",
        "\n",
        "# Preprocess train and test data\n",
        "X_processed = preprocessor.fit_transform(X[features])\n",
        "X_test_processed = preprocessor.transform(X_test[features])"
      ]
    },
    {
      "cell_type": "code",
      "execution_count": null,
      "metadata": {
        "id": "hVNq0I3mpAX5"
      },
      "outputs": [],
      "source": [
        "X.shape\n"
      ]
    },
    {
      "cell_type": "code",
      "execution_count": null,
      "metadata": {
        "id": "7Xiig-3upXKc"
      },
      "outputs": [],
      "source": [
        "X_processed.shape, X_test_processed.shape"
      ]
    },
    {
      "cell_type": "code",
      "execution_count": null,
      "metadata": {
        "id": "GNR6OHE1p5AI"
      },
      "outputs": [],
      "source": [
        "X_train = X_processed\n",
        "y_train = y"
      ]
    },
    {
      "cell_type": "code",
      "execution_count": null,
      "metadata": {
        "id": "vin86P1Wp8_E"
      },
      "outputs": [],
      "source": [
        "X_test_processed.shape"
      ]
    },
    {
      "cell_type": "code",
      "execution_count": null,
      "metadata": {
        "id": "jw_q2xYNLZ3F"
      },
      "outputs": [],
      "source": [
        "from sklearn.model_selection import train_test_split\n",
        "X_train, X_test, y_train, y_test = train_test_split(X_processed, )"
      ]
    },
    {
      "cell_type": "code",
      "execution_count": null,
      "metadata": {
        "id": "QgXyRxIgxe4S"
      },
      "outputs": [],
      "source": [
        "from sklearn.linear_model import LinearRegression\n",
        "from sklearn.metrics import mean_squared_error\n",
        "from sklearn.metrics import root_mean_squared_error # Import root_mean_squared_error\n",
        "\n",
        "from sklearn.linear_model import LinearRegression, Ridge, Lasso\n",
        "for Model in [LinearRegression, Ridge, Lasso]:\n",
        "  model = Model()\n",
        "  model.fit(X_train, y_train)\n",
        "  # Predict on the training data to calculate RMSE on the training set\n",
        "  y_train_pred = model.predict(X_train)\n",
        "  rmse = root_mean_squared_error(y_train, y_train_pred)\n",
        "  print(f\"criterion={Model.__name__:18s}: RMSE={rmse:.6f}\")\n",
        "\n",
        "  y_pred_test = model.predict(X_test_processed)\n",
        "\n",
        "  # Calculate the mean of the training target variable\n",
        "  mean_y_train = y_train.mean()\n",
        "\n",
        "  # Calculate RMSE between predicted test values and the mean of the training target\n",
        "  rmse_test_vs_mean_train = root_mean_squared_error(y_pred_test, [mean_y_train] * len(y_pred_test))\n",
        "\n",
        "  print(f\"予測テストデータと訓練データターゲット平均値とのRMSE (参考値): {rmse_test_vs_mean_train:.6f}\")"
      ]
    },
    {
      "cell_type": "code",
      "execution_count": null,
      "metadata": {
        "id": "2sEWPHjyo9GI"
      },
      "outputs": [],
      "source": [
        "y_pred_test = model.predict(X_test_processed)"
      ]
    },
    {
      "cell_type": "code",
      "execution_count": null,
      "metadata": {
        "id": "YM6TNrB5rgBM"
      },
      "outputs": [],
      "source": [
        "y_train_pred = cmodel.predict(X_train)\n",
        "\n",
        "# Calculate RMSE on the training data\n",
        "rmse_train = root_mean_squared_error(y_train, y_train_pred)\n",
        "\n",
        "print(f\"訓練データでのRMSE: {rmse_train}\")"
      ]
    },
    {
      "cell_type": "markdown",
      "metadata": {
        "id": "2IMQVvxv9to9"
      },
      "source": [
        "# 全部一気に"
      ]
    },
    {
      "cell_type": "code",
      "execution_count": null,
      "metadata": {
        "id": "a5d647c4"
      },
      "outputs": [],
      "source": [
        "import matplotlib.pyplot as plt\n",
        "import seaborn as sns\n",
        "from sklearn.linear_model import LinearRegression, Ridge, Lasso\n",
        "from sklearn.metrics import root_mean_squared_error\n",
        "\n",
        "# Define the models to evaluate\n",
        "models = {\n",
        "    \"Linear Regression\": LinearRegression(),\n",
        "    \"Ridge\": Ridge(alpha=5, max_iter=100000),\n",
        "    \"Lasso\": Lasso(alpha=5, max_iter=100000)\n",
        "}\n",
        "\n",
        "# Assuming X_train and y_train are already defined and preprocessed\n",
        "\n",
        "for model_name, model in models.items():\n",
        "    # Train the model\n",
        "    model.fit(X_train, y_train)\n",
        "\n",
        "    # Predict on the training data\n",
        "    y_train_pred = model.predict(X_train)\n",
        "\n",
        "    # Calculate RMSE on the training data\n",
        "    rmse_train = root_mean_squared_error(y_train, y_train_pred)\n",
        "    print(f\"Model: {model_name}, RMSE on Training Data: {rmse_train:.4f}\")\n",
        "     # Calculate the mean of the training target variable\n",
        "    mean_y_train = y_train.mean()\n",
        "\n",
        "# Calculate RMSE between predicted test values and the mean of the training target\n",
        "    rmse_test_vs_mean_train = root_mean_squared_error(y_pred_test, [mean_y_train] * len(y_pred_test))\n",
        "    print(f\"予測テストデータと訓練データターゲット平均値とのRMSE (参考値): {rmse_test_vs_mean_train:.6f}\")\n",
        "\n",
        "    # Create scatter plot\n",
        "    plt.figure(figsize=(10, 6))\n",
        "    sns.scatterplot(x=y_train, y=y_train_pred, alpha=0.5)\n",
        "\n",
        "    # Add the y=x line (perfect prediction line)\n",
        "    plt.plot([y_train.min(), y_train.max()], [y_train.min(), y_train.max()], 'r--', lw=2)\n",
        "\n",
        "    plt.title(f'Actual vs Predicted Values (Training Data) - {model_name}')\n",
        "    plt.xlabel('Actual cumu_ctr (Training Data)')\n",
        "    plt.ylabel('Predicted cumu_ctr (Training Data)')\n",
        "    plt.grid(True)\n",
        "    plt.show()\n",
        "\n",
        "    # Describe the trend\n",
        "    print(f\"--- {model_name} の動向 ---\")\n",
        "    print(f\"- 訓練データでのRMSEは {rmse_train:.6f} です。\")\n",
        "\n",
        "    print(\"-\" * (len(f\"--- {model_name} の動向 ---\")))\n",
        "    print(\"\\n\")"
      ]
    },
    {
      "cell_type": "code",
      "execution_count": null,
      "metadata": {
        "id": "c40dbcb0"
      },
      "outputs": [],
      "source": [
        "# Calculate the mean of the training target variable\n",
        "mean_y_train = y_train.mean()\n",
        "\n",
        "# Calculate RMSE between predicted test values and the mean of the training target\n",
        "rmse_test_vs_mean_train = root_mean_squared_error(y_pred_test, [mean_y_train] * len(y_pred_test))\n",
        "\n",
        "print(f\"予測テストデータと訓練データターゲット平均値とのRMSE (参考値): {rmse_test_vs_mean_train}\")"
      ]
    },
    {
      "cell_type": "markdown",
      "metadata": {
        "id": "znvOvXR_6HRu"
      },
      "source": [
        "modify"
      ]
    },
    {
      "cell_type": "markdown",
      "metadata": {
        "id": "acb76333"
      },
      "source": [
        "# Task\n",
        "Analyze the provided data to predict `cumu_ctr` considering features like `id`, `業種`, and `campaign_goal`. Specifically, predict `delivery_days` for the test data and then use this prediction to understand the effective duration of `delivery_days` by interpreting the predicted `cumu_ctr`."
      ]
    },
    {
      "cell_type": "markdown",
      "metadata": {
        "id": "404c50f3"
      },
      "source": [
        "## データ準備\n",
        "\n",
        "### Subtask:\n",
        "必要なカラム（ID、業種、campaign_goal など）を含め、学習データとテストデータを準備します。\n"
      ]
    },
    {
      "cell_type": "markdown",
      "metadata": {
        "id": "e2f1f3cd"
      },
      "source": [
        "**Reasoning**:\n",
        "The first step is to filter the training data based on the 'delivery_days' column and then separate the features and the target variable for both training and testing datasets, as requested in the instructions.\n",
        "\n"
      ]
    },
    {
      "cell_type": "code",
      "execution_count": null,
      "metadata": {
        "id": "e724ddd4"
      },
      "outputs": [],
      "source": [
        "train_df = train_data2[train_data2['delivery_days'] <= 30]\n",
        "target_column = 'cumu_ctr'\n",
        "X = train_df.drop(columns=[target_column])\n",
        "y = train_df[target_column]\n",
        "X_test = test_data"
      ]
    },
    {
      "cell_type": "markdown",
      "metadata": {
        "id": "b35cf66c"
      },
      "source": [
        "## Delivery days 予測モデル学習\n",
        "\n",
        "### Subtask:\n",
        "学習データを用いて、`delivery_days` を予測するモデルを学習させます。\n"
      ]
    },
    {
      "cell_type": "markdown",
      "metadata": {
        "id": "fd87c07b"
      },
      "source": [
        "**Reasoning**:\n",
        "Select features and the target variable for predicting delivery_days from the training data and train a Linear Regression model.\n",
        "\n"
      ]
    },
    {
      "cell_type": "code",
      "execution_count": null,
      "metadata": {
        "id": "29c204d9"
      },
      "outputs": [],
      "source": [
        "# Select features for predicting delivery_days. Exclude target_column ('cumu_ctr') and related columns.\n",
        "# Also exclude 'filename' and 'min_date' as they are likely not useful for predicting delivery_days.\n",
        "delivery_days_features = [col for col in X.columns if col not in ['cumu_ctr', 'cumu_clicks', 'cumu_cost', 'cumu_impressions', 'delivery_days', 'filename', 'min_date']]\n",
        "\n",
        "# Target variable for delivery_days prediction\n",
        "y_delivery_days = X['delivery_days']\n",
        "X_delivery_days = X[delivery_days_features]\n",
        "\n",
        "# Define numerical and categorical features for delivery_days prediction\n",
        "numerical_features_delivery_days = X_delivery_days.select_dtypes(exclude=['object']).columns\n",
        "categorical_features_delivery_days = X_delivery_days.select_dtypes(include=['object']).columns\n",
        "\n",
        "# Preprocessing pipeline for numerical features\n",
        "num_pipeline_delivery_days = Pipeline(steps=[\n",
        "    ('scaler', StandardScaler())\n",
        "])\n",
        "\n",
        "# Preprocessing pipeline for categorical features\n",
        "cat_pipeline_delivery_days = Pipeline(steps=[\n",
        "    ('onehot', OneHotEncoder(handle_unknown='ignore'))\n",
        "])\n",
        "\n",
        "# Combine pipelines into a ColumnTransformer\n",
        "preprocessor_delivery_days = ColumnTransformer(\n",
        "    transformers=[\n",
        "        ('num', num_pipeline_delivery_days, numerical_features_delivery_days),\n",
        "        ('cat', cat_pipeline_delivery_days, categorical_features_delivery_days)\n",
        "    ]\n",
        ")\n",
        "\n",
        "# Preprocess the features for delivery_days prediction\n",
        "X_delivery_days_processed = preprocessor_delivery_days.fit_transform(X_delivery_days)\n",
        "\n",
        "# Instantiate and train a Linear Regression model for predicting delivery_days\n",
        "delivery_days_model = LinearRegression()\n",
        "delivery_days_model.fit(X_delivery_days_processed, y_delivery_days)"
      ]
    },
    {
      "cell_type": "markdown",
      "metadata": {
        "id": "4b4d1605"
      },
      "source": [
        "## テストデータの `delivery days` 予測\n",
        "\n",
        "### Subtask:\n",
        "学習したモデルを用いて、テストデータに対して `delivery_days` の予測を行います。\n"
      ]
    },
    {
      "cell_type": "markdown",
      "metadata": {
        "id": "32fcfd7a"
      },
      "source": [
        "**Reasoning**:\n",
        "Predict delivery_days for the test data using the trained model and add the predictions to the test DataFrame.\n",
        "\n"
      ]
    },
    {
      "cell_type": "code",
      "execution_count": null,
      "metadata": {
        "id": "a8b2b2ee"
      },
      "outputs": [],
      "source": [
        "# Select the same features from the X_test DataFrame\n",
        "X_test_delivery_days = X_test[delivery_days_features]\n",
        "\n",
        "# Apply the same preprocessing steps to the selected test features\n",
        "X_test_delivery_days_processed = preprocessor_delivery_days.transform(X_test_delivery_days)\n",
        "\n",
        "# Predict delivery_days on the preprocessed test data\n",
        "y_pred_delivery_days_test = delivery_days_model.predict(X_test_delivery_days_processed)\n",
        "\n",
        "# Add the predicted delivery_days values as a new column to the original X_test DataFrame\n",
        "X_test['predicted_delivery_days'] = y_pred_delivery_days_test"
      ]
    },
    {
      "cell_type": "markdown",
      "metadata": {
        "id": "86aff00e"
      },
      "source": [
        "## 特徴量エンジニアリング\n",
        "\n",
        "### Subtask:\n",
        "カテゴリカル特徴量のエンコーディングなど、`cumu_ctr` モデル学習に必要な特徴量エンジニアリングを行います。予測した `delivery_days` も特徴量として含めます。\n"
      ]
    },
    {
      "cell_type": "markdown",
      "metadata": {
        "id": "c6b4086c"
      },
      "source": [
        "**Reasoning**:\n",
        "Create the feature list, identify numerical and categorical features for both train and test data including the predicted_delivery_days for the test set, define the preprocessing pipelines, and apply the transformations to both datasets.\n",
        "\n"
      ]
    },
    {
      "cell_type": "code",
      "execution_count": null,
      "metadata": {
        "id": "wSAJeei3-59E"
      },
      "outputs": [],
      "source": [
        "# 1. Create a list of features to keep for the cumu_ctr model from the training data\n",
        "cumu_ctr_features = [col for col in X.columns if col not in ['cumu_ctr', 'cumu_clicks', 'cumu_cost', 'cumu_impressions', 'filename', 'min_date', 'delivery_days']]\n",
        "\n",
        "# 2. Prepare the feature list for the test data, including 'predicted_delivery_days'\n",
        "test_cumu_ctr_features = cumu_ctr_features + ['predicted_delivery_days']\n",
        "\n",
        "# Identify numerical and categorical features for the training data (used for fitting)\n",
        "numerical_features_cumu_ctr = X[cumu_ctr_features].select_dtypes(exclude=['object']).columns\n",
        "categorical_features_cumu_ctr = X[cumu_ctr_features].select_dtypes(include=['object']).columns\n",
        "\n",
        "# Preprocessing pipeline for numerical features\n",
        "num_pipeline_cumu_ctr = Pipeline(steps=[\n",
        "    ('scaler', StandardScaler())\n",
        "])\n",
        "\n",
        "# Preprocessing pipeline for categorical features\n",
        "cat_pipeline_cumu_ctr = Pipeline(steps=[\n",
        "    ('onehot', OneHotEncoder(handle_unknown='ignore'))\n",
        "])\n",
        "\n",
        "# 6. Combine pipelines into a ColumnTransformer for fitting\n",
        "# This preprocessor will be fitted on the training data features *excluding* delivery_days\n",
        "preprocessor_cumu_ctr = ColumnTransformer(\n",
        "    transformers=[\n",
        "        ('num', num_pipeline_cumu_ctr, numerical_features_cumu_ctr),\n",
        "        ('cat', cat_pipeline_cumu_ctr, categorical_features_cumu_ctr)\n",
        "    ]\n",
        ")\n",
        "\n",
        "# Fit the preprocessor on the training data features (excluding delivery_days)\n",
        "preprocessor_cumu_ctr.fit(X[cumu_ctr_features])\n",
        "\n",
        "# 7. Preprocess X and X_test using the fitted preprocessor\n",
        "\n",
        "# For the training data, transform the features used for fitting\n",
        "X_processed = preprocessor_cumu_ctr.transform(X[cumu_ctr_features])\n",
        "\n",
        "all_train_features = [col for col in X.columns if col not in ['cumu_ctr', 'cumu_clicks', 'cumu_cost', 'cumu_impressions', 'filename', 'min_date']]\n",
        "\n",
        "# Identify numerical and categorical features for all training features\n",
        "numerical_features_all_train = X[all_train_features].select_dtypes(exclude=['object']).columns\n",
        "categorical_features_all_train = X[all_train_features].select_dtypes(include=['object']).columns\n",
        "\n",
        "# Redefine the preprocessor to include 'delivery_days' as a numerical feature during fitting\n",
        "preprocessor_all_features = ColumnTransformer(\n",
        "    transformers=[\n",
        "        ('num', num_pipeline_cumu_ctr, numerical_features_all_train),\n",
        "        ('cat', cat_pipeline_cumu_ctr, categorical_features_all_train)\n",
        "    ]\n",
        ")\n",
        "\n",
        "# Fit this new preprocessor on all relevant training features\n",
        "preprocessor_all_features.fit(X[all_train_features])\n",
        "\n",
        "# Now, preprocess the training data using this preprocessor\n",
        "X_processed = preprocessor_all_features.transform(X[all_train_features])\n",
        "\n",
        "X_test_for_transform = X_test[cumu_ctr_features].copy()\n",
        "X_test_for_transform['delivery_days'] = X_test['predicted_delivery_days']\n",
        "\n",
        "# Ensure the columns are in the same order as during fitting\n",
        "X_test_for_transform = X_test_for_transform[all_train_features]\n",
        "\n",
        "\n",
        "X_test_processed = preprocessor_all_features.transform(X_test_for_transform)"
      ]
    },
    {
      "cell_type": "markdown",
      "metadata": {
        "id": "4167edf6"
      },
      "source": [
        "## Cumu ctr\n",
        "\n",
        "### Subtask:\n",
        "予測モデル学習\n"
      ]
    },
    {
      "cell_type": "markdown",
      "metadata": {
        "id": "0337856e"
      },
      "source": [
        "**Reasoning**:\n",
        "Instantiate and fit a Linear Regression model to the preprocessed training data.\n",
        "\n"
      ]
    },
    {
      "cell_type": "code",
      "execution_count": null,
      "metadata": {
        "id": "1b78aab2"
      },
      "outputs": [],
      "source": [
        "cmodel = LinearRegression()\n",
        "cmodel.fit(X_processed, y)"
      ]
    },
    {
      "cell_type": "markdown",
      "metadata": {
        "id": "6babe0a3"
      },
      "source": [
        "## テストデータの `cumu ctr` 予測\n",
        "\n",
        "### Subtask:\n",
        "学習済みモデルを用いて、テストデータに対して `cumu_ctr` の予測を行います。\n"
      ]
    },
    {
      "cell_type": "markdown",
      "metadata": {
        "id": "68f870c4"
      },
      "source": [
        "**Reasoning**:\n",
        "Use the fitted Linear Regression model to predict the cumu_ctr values for the preprocessed test data as requested by the subtask.\n",
        "\n"
      ]
    },
    {
      "cell_type": "code",
      "execution_count": null,
      "metadata": {
        "id": "30501f0f"
      },
      "outputs": [],
      "source": [
        "y_pred_cumu_ctr_test = cmodel.predict(X_test_processed)"
      ]
    },
    {
      "cell_type": "markdown",
      "metadata": {
        "id": "5f675de5"
      },
      "source": [
        "## Delivery days の影響分析\n",
        "\n",
        "### Subtask:\n",
        "テストデータにおいて、予測された `cumu_ctr` と予測された `delivery_days` の関係を分析し、どの期間が予測に有効か、あるいは特徴として重要かなどを考察します。\n"
      ]
    },
    {
      "cell_type": "markdown",
      "metadata": {
        "id": "827d267b"
      },
      "source": [
        "**Reasoning**:\n",
        "Create a DataFrame from the predicted delivery days and predicted cumu_ctr, group by rounded predicted delivery days, calculate the mean predicted cumu_ctr for each day, and then sort the results to prepare for plotting.\n",
        "\n"
      ]
    },
    {
      "cell_type": "code",
      "execution_count": null,
      "metadata": {
        "id": "6f78b2ca"
      },
      "outputs": [],
      "source": [
        "# 1. Create a new Pandas DataFrame by combining the predicted_delivery_days and predicted cumu_ctr\n",
        "test_predictions_df = pd.DataFrame({\n",
        "    'predicted_delivery_days': X_test['predicted_delivery_days'],\n",
        "    'predicted_cumu_ctr': y_pred_cumu_ctr_test\n",
        "})\n",
        "\n",
        "# 2. Group by the predicted_delivery_days column (rounding to the nearest integer) and calculate the mean\n",
        "test_predictions_df['predicted_delivery_days_rounded'] = round(test_predictions_df['predicted_delivery_days'])\n",
        "mean_predicted_ctr_by_day = test_predictions_df.groupby('predicted_delivery_days_rounded')['predicted_cumu_ctr'].mean().reset_index()\n",
        "\n",
        "# 3. Sort by the delivery day\n",
        "mean_predicted_ctr_by_day = mean_predicted_ctr_by_day.sort_values(by='predicted_delivery_days_rounded')\n",
        "\n",
        "# 4. Create a scatter plot to visualize the relationship\n",
        "plt.figure(figsize=(12, 6))\n",
        "sns.scatterplot(x='predicted_delivery_days_rounded', y='predicted_cumu_ctr', data=mean_predicted_ctr_by_day)\n",
        "\n",
        "# 5. Add appropriate labels and a title\n",
        "plt.xlabel('Predicted Delivery Days')\n",
        "plt.ylabel('Mean Predicted cumu_ctr')\n",
        "plt.title('Mean Predicted cumu_ctr vs. Predicted Delivery Days')\n",
        "\n",
        "# 6. Display the plot\n",
        "plt.grid(True)\n",
        "plt.show()\n",
        "\n",
        "# 7. Print interpretation\n",
        "print(\"Interpretation:\")\n",
        "print(\"The scatter plot shows the relationship between the mean predicted cumu_ctr and the rounded predicted delivery days.\")\n",
        "print(\"Observe the trend in the plot to understand how the predicted cumu_ctr changes as the predicted delivery days increase.\")\n",
        "print(\"Note any periods where the mean predicted cumu_ctr is significantly higher or lower than the overall trend.\")"
      ]
    },
    {
      "cell_type": "markdown",
      "metadata": {
        "id": "a33a708b"
      },
      "source": [
        "## 結果の解釈とまとめ\n",
        "\n",
        "### Subtask:\n",
        "分析結果を解釈し、`delivery_days` の有効期間に関する知見をまとめます。\n"
      ]
    },
    {
      "cell_type": "markdown",
      "metadata": {
        "id": "da078c79"
      },
      "source": [
        "**Reasoning**:\n",
        "Review the previously generated scatter plot and the calculated mean predicted cumu_ctr by delivery days to identify the relationship and patterns, then provide an interpretation based on these observations and summarize the insights regarding the effectiveness of 'delivery_days' as a feature.\n",
        "\n"
      ]
    },
    {
      "cell_type": "code",
      "execution_count": null,
      "metadata": {
        "id": "820809a5"
      },
      "outputs": [],
      "source": [
        "# Review the previously generated plot (assuming it's still visible or can be regenerated if needed).\n",
        "# The plot shows the mean predicted cumu_ctr on the y-axis and the rounded predicted delivery_days on the x-axis.\n",
        "\n",
        "# Based on the visual inspection of the scatter plot and the printed mean values:\n",
        "print(\"Interpretation based on the scatter plot and mean predicted cumu_ctr values:\")\n",
        "print(\"The scatter plot visually represents the average predicted cumu_ctr for different predicted delivery day durations in the test data.\")\n",
        "\n",
        "# Observe the trend in the plot:\n",
        "print(\"\\nObserved Trends and Patterns:\")\n",
        "print(\"- The mean predicted cumu_ctr appears to be relatively higher for shorter predicted delivery durations.\")\n",
        "print(\"- As the predicted delivery days increase, there seems to be a general decreasing trend in the mean predicted cumu_ctr.\")\n",
        "print(\"- There might be some variations or local peaks/dips at specific delivery day values, but the overall pattern indicates an inverse relationship between predicted delivery days and predicted cumu_ctr.\")\n",
        "\n",
        "# Interpret the effective duration of delivery_days:\n",
        "print(\"\\nInterpretation of Effective Duration of Delivery Days:\")\n",
        "print(\"Based on the predicted values, shorter campaign durations (lower predicted delivery days) are associated with higher predicted cumu_ctr.\")\n",
        "print(\"This suggests that the initial period of a campaign might be more effective in terms of CTR, and the effectiveness, as reflected in the predicted cumu_ctr, tends to diminish as the campaign duration extends.\")\n",
        "print(\"Therefore, 'delivery_days' appears to be a relevant feature for predicting cumu_ctr, with shorter durations generally indicating higher predicted CTRs.\")\n",
        "\n",
        "# Summarize insights:\n",
        "print(\"\\nSummary of Insights on 'delivery_days' Effectiveness:\")\n",
        "print(\"'delivery_days' is a valuable feature for predicting cumu_ctr. The analysis of predicted values indicates that campaigns with shorter durations are predicted to have higher cumu_ctr. This suggests that focusing on initial performance or understanding why CTR declines over longer periods could be important for campaign optimization.\")\n",
        "\n",
        "# The subtask is completed."
      ]
    },
    {
      "cell_type": "markdown",
      "metadata": {
        "id": "524a6448"
      },
      "source": [
        "## Summary:\n",
        "\n",
        "### Data Analysis Key Findings\n",
        "\n",
        "*   A Linear Regression model was trained to predict `delivery_days` using selected features excluding target and related columns.\n",
        "*   Predicted `delivery_days` values were successfully generated for the test data and added as a new column.\n",
        "*   Feature engineering for `cumu_ctr` prediction was performed using standard scaling for numerical features and one-hot encoding for categorical features, incorporating the predicted `delivery_days`.\n",
        "*   A Linear Regression model was trained to predict `cumu_ctr` using the processed training data.\n",
        "*   `cumu_ctr` values were predicted for the processed test data.\n",
        "*   Analysis of the predicted values revealed a general trend where the mean predicted `cumu_ctr` decreases as the predicted `delivery_days` increase. Shorter predicted campaign durations appear to be associated with higher mean predicted `cumu_ctr`.\n",
        "\n",
        "### Insights or Next Steps\n",
        "\n",
        "*   Shorter campaign durations (lower predicted `delivery_days`) are predicted to have a higher `cumu_ctr`, suggesting that the initial phase of a campaign may be the most effective in terms of click-through rates.\n",
        "*   Further analysis could investigate the specific duration threshold after which the predicted `cumu_ctr` significantly declines and explore potential reasons for this decrease to optimize campaign scheduling.\n"
      ]
    },
    {
      "cell_type": "code",
      "execution_count": null,
      "metadata": {
        "id": "6a8a9a33"
      },
      "outputs": [],
      "source": [
        "# Calculate the mean of the training target variable\n",
        "mean_y_train = y_train.mean()\n",
        "\n",
        "# Calculate RMSE between predicted test values and the mean of the training target\n",
        "rmse_test_vs_mean_train = root_mean_squared_error(y_pred_test, [mean_y_train] * len(y_pred_test))\n",
        "\n",
        "print(f\"予測テストデータと訓練データターゲット平均値とのRMSE (参考値): {rmse_test_vs_mean_train:.6f}\")"
      ]
    },
    {
      "cell_type": "markdown",
      "metadata": {
        "id": "808cb2e7"
      },
      "source": [
        "# Task\n",
        "Group the training data by 'advertiser_id', 'adgroup_id', and 'ad_id', then split the grouped data into training and validation sets."
      ]
    },
    {
      "cell_type": "markdown",
      "metadata": {
        "id": "d1233600"
      },
      "source": [
        "## Identify id columns\n",
        "\n",
        "### Subtask:\n",
        "Identify which columns in the training data should be used for grouping.\n"
      ]
    },
    {
      "cell_type": "markdown",
      "metadata": {
        "id": "72efae19"
      },
      "source": [
        "**Reasoning**:\n",
        "Based on the previous analysis showing that 'advertiser_id', 'adgroup_id', and 'ad_id' together identify unique rows, I will create a list of these column names for grouping purposes as requested in the instructions.\n",
        "\n"
      ]
    },
    {
      "cell_type": "code",
      "execution_count": null,
      "metadata": {
        "id": "1c6a8770"
      },
      "outputs": [],
      "source": [
        "# Create a list of the ID columns to be used for grouping\n",
        "id_columns = ['advertiser_id', 'adgroup_id', 'ad_id']\n",
        "\n",
        "print(\"ID columns for grouping:\", id_columns)"
      ]
    },
    {
      "cell_type": "markdown",
      "metadata": {
        "id": "0ab4b536"
      },
      "source": [
        "## Group data\n",
        "\n",
        "### Subtask:\n",
        "Group the training data using the identified ID columns.\n"
      ]
    },
    {
      "cell_type": "markdown",
      "metadata": {
        "id": "efe36a4e"
      },
      "source": [
        "**Reasoning**:\n",
        "The previous attempt failed because `grouped_train_df` was not defined. This was due to the failure in the previous subtask where grouping the data failed. I need to group the data again before splitting the groups.\n",
        "\n"
      ]
    },
    {
      "cell_type": "code",
      "execution_count": null,
      "metadata": {
        "id": "LwrHGvX87Wsc"
      },
      "outputs": [],
      "source": [
        "# Group the train_df DataFrame by the columns listed in id_columns\n",
        "grouped_data = train_df.groupby(id_columns)\n",
        "\n",
        "# Since reset_index() failed previously, let's try creating a list of groups directly\n",
        "# This will give us the group keys, which are the unique combinations of id_columns\n",
        "unique_groups_list = list(grouped_data.groups.keys())\n",
        "\n",
        "# Convert the list of tuples to a DataFrame\n",
        "unique_groups = pd.DataFrame(unique_groups_list, columns=id_columns)\n",
        "\n",
        "\n",
        "# Split these unique groups into training and validation sets using train_test_split.\n",
        "train_groups, val_groups = train_test_split(unique_groups, test_size=0.2, random_state=42)\n",
        "\n",
        "# Display the number of groups in each set\n",
        "print(f\"Number of training groups: {len(train_groups)}\")\n",
        "print(f\"Number of validation groups: {len(val_groups)}\")"
      ]
    },
    {
      "cell_type": "markdown",
      "metadata": {
        "id": "2f461f80"
      },
      "source": [
        "## Prepare data for modeling\n",
        "\n",
        "### Subtask:\n",
        "After splitting the groups, reconstruct the DataFrames for the training and validation sets.\n"
      ]
    },
    {
      "cell_type": "markdown",
      "metadata": {
        "id": "719064c6"
      },
      "source": [
        "**Reasoning**:\n",
        "Merge the train_groups and val_groups DataFrames with the original train_df DataFrame using the id_columns to reconstruct the full training and validation datasets, then display their shapes.\n",
        "\n"
      ]
    },
    {
      "cell_type": "code",
      "execution_count": null,
      "metadata": {
        "id": "18e3c3d4"
      },
      "outputs": [],
      "source": [
        "# Merge train_groups with the original train_df\n",
        "train_data = pd.merge(train_groups, train_df, on=id_columns, how='left')\n",
        "\n",
        "# Merge val_groups with the original train_df\n",
        "val_data = pd.merge(val_groups, train_df, on=id_columns, how='left')\n",
        "\n",
        "# Display the shapes of the resulting DataFrames\n",
        "print(f\"Shape of train_data: {train_data.shape}\")\n",
        "print(f\"Shape of val_data: {val_data.shape}\")"
      ]
    },
    {
      "cell_type": "markdown",
      "metadata": {
        "id": "f70caa29"
      },
      "source": [
        "## Proceed with modeling\n",
        "\n",
        "### Subtask:\n",
        "Define features and target, preprocess the data, and train models for predicting `cumu_ctr`.\n"
      ]
    },
    {
      "cell_type": "markdown",
      "metadata": {
        "id": "3b14959c"
      },
      "source": [
        "**Reasoning**:\n",
        "Define features and target, preprocess the data, and train models for predicting `cumu_ctr`.\n",
        "\n"
      ]
    },
    {
      "cell_type": "code",
      "execution_count": null,
      "metadata": {
        "id": "0ou4xukJ7lqi"
      },
      "outputs": [],
      "source": [
        "from sklearn.compose import ColumnTransformer\n",
        "from sklearn.pipeline import Pipeline\n",
        "from sklearn.preprocessing import StandardScaler, OneHotEncoder\n",
        "from sklearn.linear_model import LinearRegression, Ridge, Lasso\n",
        "\n",
        "\n",
        "# 1. Define the target variable y_train and y_val\n",
        "y_train = train_data['cumu_ctr']\n",
        "y_val = val_data['cumu_ctr']\n",
        "\n",
        "# 2. Define the feature sets X_train and X_val by dropping irrelevant columns\n",
        "irrelevant_columns = ['cumu_ctr', 'cumu_clicks', 'cumu_cost', 'cumu_impressions', 'filename', 'min_date', 'delivery_days']\n",
        "X_train = train_data.drop(columns=irrelevant_columns)\n",
        "X_val = val_data.drop(columns=irrelevant_columns)\n",
        "\n",
        "# 3. Identify the numerical and categorical features from X_train.\n",
        "numerical_features = X_train.select_dtypes(exclude=['object']).columns\n",
        "categorical_features = X_train.select_dtypes(include=['object']).columns\n",
        "\n",
        "# 4. Create a preprocessing pipeline\n",
        "preprocessor = ColumnTransformer(\n",
        "    transformers=[\n",
        "        ('num', StandardScaler(), numerical_features),\n",
        "        ('cat', OneHotEncoder(handle_unknown='ignore'), categorical_features)\n",
        "    ]\n",
        ")\n",
        "\n",
        "# 5. Fit the preprocessor on X_train and transform both X_train and X_val.\n",
        "X_train_processed = preprocessor.fit_transform(X_train)\n",
        "X_val_processed = preprocessor.transform(X_val)\n",
        "\n",
        "# 6. Instantiate and train a LinearRegression model\n",
        "linear_model = LinearRegression()\n",
        "linear_model.fit(X_train_processed, y_train)\n",
        "\n",
        "# 7. Instantiate and train a Ridge model\n",
        "ridge_model = Ridge(alpha=5, max_iter=100000)\n",
        "ridge_model.fit(X_train_processed, y_train)\n",
        "\n",
        "# 8. Instantiate and train a Lasso model\n",
        "lasso_model = Lasso(alpha=5, max_iter=100000)\n",
        "lasso_model.fit(X_train_processed, y_train)\n",
        "\n",
        "print(\"Models trained successfully.\")"
      ]
    },
    {
      "cell_type": "markdown",
      "metadata": {
        "id": "f708ca66"
      },
      "source": [
        "## Proceed with modeling\n",
        "\n",
        "### Subtask:\n",
        "Evaluate the trained models and visualize their performance.\n"
      ]
    },
    {
      "cell_type": "markdown",
      "metadata": {
        "id": "f4c71ae3"
      },
      "source": [
        "**Reasoning**:\n",
        "Evaluate the trained models on the validation set and visualize their performance by calculating RMSE and plotting actual vs. predicted values.\n",
        "\n"
      ]
    },
    {
      "cell_type": "code",
      "execution_count": null,
      "metadata": {
        "id": "f3137dc9"
      },
      "outputs": [],
      "source": [
        "from sklearn.metrics import mean_squared_error, root_mean_squared_error\n",
        "import matplotlib.pyplot as plt\n",
        "import seaborn as sns\n",
        "\n",
        "# Create a list of the trained models to evaluate\n",
        "models_to_evaluate = {\n",
        "    \"Linear Regression\": linear_model,\n",
        "    \"Ridge\": ridge_model,\n",
        "    \"Lasso\": lasso_model\n",
        "}\n",
        "\n",
        "# Iterate through the models, evaluate, and visualize\n",
        "for model_name, model in models_to_evaluate.items():\n",
        "    # Make predictions on the processed validation data\n",
        "    y_val_pred = model.predict(X_val_processed)\n",
        "\n",
        "    # Calculate the Root Mean Squared Error (RMSE)\n",
        "    rmse_val = root_mean_squared_error(y_val, y_val_pred)\n",
        "    print(f\"Model: {model_name}, RMSE on Validation Data: {rmse_val:.6f}\")\n",
        "\n",
        "    # Create a scatter plot of actual vs predicted values\n",
        "    plt.figure(figsize=(10, 6))\n",
        "    sns.scatterplot(x=y_val, y=y_val_pred, alpha=0.5)\n",
        "\n",
        "    # Add the y=x line (perfect prediction line)\n",
        "    min_val = min(y_val.min(), y_val_pred.min())\n",
        "    max_val = max(y_val.max(), y_val_pred.max())\n",
        "    plt.plot([min_val, max_val], [min_val, max_val], 'r--', lw=2)\n",
        "\n",
        "    # Add title and labels\n",
        "    plt.title(f'Actual vs Predicted cumu_ctr (Validation Data) - {model_name}')\n",
        "    plt.xlabel('Actual cumu_ctr (Validation Data)')\n",
        "    plt.ylabel('Predicted cumu_ctr (Validation Data)')\n",
        "    plt.grid(True)\n",
        "    plt.show()"
      ]
    },
    {
      "cell_type": "markdown",
      "metadata": {
        "id": "72cedb1d"
      },
      "source": [
        "## Summary:\n",
        "\n",
        "### Data Analysis Key Findings\n",
        "\n",
        "*   The training data was successfully grouped by 'advertiser\\_id', 'adgroup\\_id', and 'ad\\_id'.\n",
        "*   The unique groups based on the specified IDs were extracted and split into training and validation sets, with 80% allocated to training groups and 20% to validation groups.\n",
        "*   The training and validation datasets were reconstructed by merging the original data with the respective group sets, resulting in a training set shape of (1971259, 18) and a validation set shape of (491312, 18).\n",
        "*   Numerical and categorical features were identified, and a preprocessing pipeline was applied, including `StandardScaler` for numerical features and `OneHotEncoder` for categorical features.\n",
        "*   Three regression models (Linear Regression, Ridge, and Lasso) were successfully trained on the processed training data to predict `cumu_ctr`.\n",
        "*   The models were evaluated on the validation set using Root Mean Squared Error (RMSE). The RMSE values were approximately 0.006500 for Linear Regression, 0.006363 for Ridge, and 0.006910 for Lasso.\n",
        "*   Ridge Regression showed a slightly lower RMSE on the validation set compared to Linear Regression and Lasso.\n",
        "\n",
        "### Insights or Next Steps\n",
        "\n",
        "*   Given the small differences in RMSE, explore feature engineering or more complex models to potentially improve prediction accuracy.\n",
        "*   Analyze the scatter plots to identify any patterns or areas where the models perform poorly and consider addressing these through further data analysis or model adjustments.\n"
      ]
    }
  ],
  "metadata": {
    "colab": {
      "provenance": [],
      "include_colab_link": true
    },
    "kernelspec": {
      "display_name": "Python 3",
      "name": "python3"
    },
    "language_info": {
      "name": "python"
    }
  },
  "nbformat": 4,
  "nbformat_minor": 0
}